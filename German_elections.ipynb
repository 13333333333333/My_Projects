{
  "nbformat": 4,
  "nbformat_minor": 0,
  "metadata": {
    "colab": {
      "name": "German elections.ipynb",
      "provenance": [],
      "collapsed_sections": [
        "byRYBpdxnesZ",
        "b_-w-8OArAyi"
      ]
    },
    "kernelspec": {
      "name": "python3",
      "display_name": "Python 3"
    },
    "language_info": {
      "name": "python"
    }
  },
  "cells": [
    {
      "cell_type": "markdown",
      "source": [
        "# ***German state elections EDA***"
      ],
      "metadata": {
        "id": "0jirkcNS-UWn"
      }
    },
    {
      "cell_type": "code",
      "source": [
        "import pandas as pd\n",
        "import numpy as np"
      ],
      "metadata": {
        "id": "8XGCm65gGRyk"
      },
      "execution_count": null,
      "outputs": []
    },
    {
      "cell_type": "code",
      "execution_count": null,
      "metadata": {
        "colab": {
          "base_uri": "https://localhost:8080/"
        },
        "id": "JzgF9IUA97Wn",
        "outputId": "48542d07-01c0-4870-dca6-03c6b4211f27"
      },
      "outputs": [
        {
          "output_type": "stream",
          "name": "stdout",
          "text": [
            "Looking in indexes: https://pypi.org/simple, https://us-python.pkg.dev/colab-wheels/public/simple/\n",
            "Requirement already satisfied: kaggle in /usr/local/lib/python3.7/dist-packages (1.5.12)\n",
            "Requirement already satisfied: urllib3 in /usr/local/lib/python3.7/dist-packages (from kaggle) (1.24.3)\n",
            "Requirement already satisfied: python-slugify in /usr/local/lib/python3.7/dist-packages (from kaggle) (6.1.2)\n",
            "Requirement already satisfied: python-dateutil in /usr/local/lib/python3.7/dist-packages (from kaggle) (2.8.2)\n",
            "Requirement already satisfied: six>=1.10 in /usr/local/lib/python3.7/dist-packages (from kaggle) (1.15.0)\n",
            "Requirement already satisfied: requests in /usr/local/lib/python3.7/dist-packages (from kaggle) (2.23.0)\n",
            "Requirement already satisfied: tqdm in /usr/local/lib/python3.7/dist-packages (from kaggle) (4.64.0)\n",
            "Requirement already satisfied: certifi in /usr/local/lib/python3.7/dist-packages (from kaggle) (2022.5.18.1)\n",
            "Requirement already satisfied: text-unidecode>=1.3 in /usr/local/lib/python3.7/dist-packages (from python-slugify->kaggle) (1.3)\n",
            "Requirement already satisfied: chardet<4,>=3.0.2 in /usr/local/lib/python3.7/dist-packages (from requests->kaggle) (3.0.4)\n",
            "Requirement already satisfied: idna<3,>=2.5 in /usr/local/lib/python3.7/dist-packages (from requests->kaggle) (2.10)\n"
          ]
        }
      ],
      "source": [
        "!pip install kaggle"
      ]
    },
    {
      "cell_type": "code",
      "source": [
        "! mkdir ~/.kaggle\n",
        "\n",
        "from google.colab import files\n",
        "files.upload()  #this will prompt you to upload the kaggle.json"
      ],
      "metadata": {
        "colab": {
          "base_uri": "https://localhost:8080/",
          "resources": {
            "http://localhost:8080/nbextensions/google.colab/files.js": {
              "data": "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",
              "ok": true,
              "headers": [
                [
                  "content-type",
                  "application/javascript"
                ]
              ],
              "status": 200,
              "status_text": ""
            }
          },
          "height": 92
        },
        "id": "TAP-DKODAS0G",
        "outputId": "16f0be67-1a26-4888-93c5-583f6a3be6a1"
      },
      "execution_count": null,
      "outputs": [
        {
          "output_type": "display_data",
          "data": {
            "text/plain": [
              "<IPython.core.display.HTML object>"
            ],
            "text/html": [
              "\n",
              "     <input type=\"file\" id=\"files-14091127-4dfd-4aaa-9b22-8dce4b844a4a\" name=\"files[]\" multiple disabled\n",
              "        style=\"border:none\" />\n",
              "     <output id=\"result-14091127-4dfd-4aaa-9b22-8dce4b844a4a\">\n",
              "      Upload widget is only available when the cell has been executed in the\n",
              "      current browser session. Please rerun this cell to enable.\n",
              "      </output>\n",
              "      <script src=\"/nbextensions/google.colab/files.js\"></script> "
            ]
          },
          "metadata": {}
        },
        {
          "output_type": "stream",
          "name": "stdout",
          "text": [
            "Saving kaggle.json to kaggle.json\n"
          ]
        },
        {
          "output_type": "execute_result",
          "data": {
            "text/plain": [
              "{'kaggle.json': b'{\"username\":\"eyeofra\",\"key\":\"0b402b355662894b88478a27743723e0\"}'}"
            ]
          },
          "metadata": {},
          "execution_count": 4
        }
      ]
    },
    {
      "cell_type": "code",
      "source": [
        "! cp kaggle.json ~/.kaggle/"
      ],
      "metadata": {
        "id": "5lDUp2SbAW71"
      },
      "execution_count": null,
      "outputs": []
    },
    {
      "cell_type": "code",
      "source": [
        "%cd .."
      ],
      "metadata": {
        "colab": {
          "base_uri": "https://localhost:8080/"
        },
        "id": "-BdvoAFmAbTr",
        "outputId": "d4aa83fa-c37a-4732-e8fa-5c54eb106ddb"
      },
      "execution_count": null,
      "outputs": [
        {
          "output_type": "stream",
          "name": "stdout",
          "text": [
            "/\n"
          ]
        }
      ]
    },
    {
      "cell_type": "code",
      "source": [
        "!pwd"
      ],
      "metadata": {
        "colab": {
          "base_uri": "https://localhost:8080/"
        },
        "id": "9eNHRW7AAjlY",
        "outputId": "17b69774-db59-4bf9-967d-2a20e77f468f"
      },
      "execution_count": null,
      "outputs": [
        {
          "output_type": "stream",
          "name": "stdout",
          "text": [
            "/\n"
          ]
        }
      ]
    },
    {
      "cell_type": "code",
      "source": [
        "! mkdir ~/.kaggle"
      ],
      "metadata": {
        "colab": {
          "base_uri": "https://localhost:8080/"
        },
        "id": "B0p4y5qIApuQ",
        "outputId": "97ac852c-beae-4a7c-f975-8135752f4461"
      },
      "execution_count": null,
      "outputs": [
        {
          "output_type": "stream",
          "name": "stdout",
          "text": [
            "mkdir: cannot create directory ‘/root/.kaggle’: File exists\n"
          ]
        }
      ]
    },
    {
      "cell_type": "code",
      "source": [
        "! cp kaggle.json ~/.kaggle/"
      ],
      "metadata": {
        "id": "X0cRx6fgB7Df",
        "colab": {
          "base_uri": "https://localhost:8080/"
        },
        "outputId": "9fa810fe-6bd6-4dfb-cb56-f5ffa6ea40ae"
      },
      "execution_count": null,
      "outputs": [
        {
          "output_type": "stream",
          "name": "stdout",
          "text": [
            "cp: cannot stat 'kaggle.json': No such file or directory\n"
          ]
        }
      ]
    },
    {
      "cell_type": "code",
      "source": [
        "! chmod 600 ~/.kaggle/kaggle.json"
      ],
      "metadata": {
        "id": "BlpArJAtCAHv"
      },
      "execution_count": null,
      "outputs": []
    },
    {
      "cell_type": "code",
      "source": [
        "! kaggle datasets download lennarthaupts/state-elections-in-germany-surveysresults"
      ],
      "metadata": {
        "colab": {
          "base_uri": "https://localhost:8080/"
        },
        "id": "K87h6K20CWsM",
        "outputId": "fc17c2e9-30b5-4b25-9b8f-6386cfe38b65"
      },
      "execution_count": null,
      "outputs": [
        {
          "output_type": "stream",
          "name": "stdout",
          "text": [
            "Downloading state-elections-in-germany-surveysresults.zip to /\n",
            "\r  0% 0.00/20.7k [00:00<?, ?B/s]\n",
            "\r100% 20.7k/20.7k [00:00<00:00, 22.1MB/s]\n"
          ]
        }
      ]
    },
    {
      "cell_type": "code",
      "source": [
        "!unzip state-elections-in-germany-surveysresults.zip"
      ],
      "metadata": {
        "colab": {
          "base_uri": "https://localhost:8080/"
        },
        "id": "SOBGxeX7EkX1",
        "outputId": "136f10f2-0a54-409d-c148-c50f002e0446"
      },
      "execution_count": null,
      "outputs": [
        {
          "output_type": "stream",
          "name": "stdout",
          "text": [
            "Archive:  state-elections-in-germany-surveysresults.zip\n",
            "  inflating: election_results_german_federal_states.csv  \n",
            "  inflating: federal_elections_germany_survey.csv  \n",
            "  inflating: train_df.csv            \n"
          ]
        }
      ]
    },
    {
      "cell_type": "markdown",
      "source": [
        "## ***General information***\n",
        "### data comprises of 3 dataframes\n",
        "* train_df.csv\n",
        "* election_result_german_federal_states_df\n",
        "* election_results_german_federal_states_df"
      ],
      "metadata": {
        "id": "byRYBpdxnesZ"
      }
    },
    {
      "cell_type": "markdown",
      "source": [
        "## Description of the survey data(*from kaggle*)\n",
        "\n",
        "institute: institute conducting the survey\n",
        "client: organization which commissioned the survey date\n",
        "\n",
        "CDU, SPD, GRÜNE, FDP, LINKE , AfD, CSU, FW, PIRATEN, NPD, SSW: Political Parties\n",
        "Sonstige: Other Parties\n",
        "\n",
        "state: Federal Sate\n",
        "\n",
        "method: T (telephone), O (online), TOM(mixed), F (face to face)\n",
        "timeframe of the survey\n",
        "Description of the election results\n",
        "Only contains results for parties which regularly make it to parliaments\n",
        "\n",
        "Date: Date of the election\n",
        "CDU, SPD, Die Gruenen, CSU, FDP, Die Linke , AfD, FW\n",
        "bl: Federal State\n",
        "Description of train_df\n",
        "A small data-set ready for the use of ml-methods (work in progress)\n",
        "\n",
        "results: result of the specific party\n",
        "\n",
        "party: political party\n",
        "\n",
        "date: date of the election\n",
        "\n",
        "state: federal state\n",
        "\n",
        "year: year of the election\n",
        "\n",
        "dimap-pred, Forsa-pred, INSA-pred, FGW-pred, \n",
        "\n",
        "GMS-pred: last survey results before the election by one of the most frequent institutes\n",
        "dimap-method, Forsa-method, INSA-method, FGW-method, GMS-method: method of last survey\n",
        "dimap-dist, Forsa-dist INSA-dist, FGW-dist, \n",
        "\n",
        "GMS-dist: days between survey and election\n",
        "\n",
        "sum_isna: number of missing survey results\n",
        "\n",
        "Notes regarding regional peculiarities\n",
        "CDU and CSU are so called \"sister-parties\" the CSU is only up for election in Bavaria. SSW is a party representing the Danish and Frisian minorities in Schleswig-Holstein."
      ],
      "metadata": {
        "id": "Fv2lCbEBoLI2"
      }
    },
    {
      "cell_type": "code",
      "source": [
        "# display tables\n",
        "\n",
        "from google.colab import data_table\n",
        "from vega_datasets import data\n",
        "\n",
        "data_table.enable_dataframe_formatter()\n",
        "\n",
        "train_df=pd.read_csv(\"train_df.csv\")\n",
        "election_results_german_federal_states_df=pd.read_csv(\"election_results_german_federal_states.csv\")\n",
        "federal_elections_germany_survey_df=pd.read_csv(\"federal_elections_germany_survey.csv\")"
      ],
      "metadata": {
        "id": "nzCwC4-BE44h"
      },
      "execution_count": null,
      "outputs": []
    },
    {
      "cell_type": "code",
      "source": [
        "train_df.head()"
      ],
      "metadata": {
        "colab": {
          "base_uri": "https://localhost:8080/",
          "height": 404
        },
        "id": "djfSvT60GZKf",
        "outputId": "6cab59c6-23bb-4862-bd09-c1a18aa7ca7b"
      },
      "execution_count": null,
      "outputs": [
        {
          "output_type": "stream",
          "name": "stdout",
          "text": [
            "Warning: Total number of columns (22) exceeds max_columns (20). Falling back to pandas display.\n"
          ]
        },
        {
          "output_type": "execute_result",
          "data": {
            "text/plain": [
              "   result  party        date  turnout               state  Year  dimap_pred  \\\n",
              "0    16.0    SPD  2022-05-08     60.4  schleswig-holstein  2022        19.0   \n",
              "1     6.4    FDP  2022-05-08     60.4  schleswig-holstein  2022         9.0   \n",
              "2    43.4    CDU  2022-05-08     60.4  schleswig-holstein  2022        38.0   \n",
              "3    18.3  GRÜNE  2022-05-08     60.4  schleswig-holstein  2022        16.0   \n",
              "4     4.4    AfD  2022-05-08     60.4  schleswig-holstein  2022         5.0   \n",
              "\n",
              "  dimap_method dimap_dist  Forsa_pred  ... INSA_pred INSA_method  INSA_dist  \\\n",
              "0          TOM    10 days         NaN  ...       NaN         NaN        NaN   \n",
              "1          TOM    10 days         NaN  ...       NaN         NaN        NaN   \n",
              "2          TOM    10 days         NaN  ...       NaN         NaN        NaN   \n",
              "3          TOM    10 days         NaN  ...       NaN         NaN        NaN   \n",
              "4          TOM    10 days         NaN  ...       NaN         NaN        NaN   \n",
              "\n",
              "  FGW_pred FGW_method  FGW_dist GMS_pred GMS_method  GMS_dist sum_isna  \n",
              "0     18.0          T    3 days      NaN        NaN       NaN        3  \n",
              "1      8.0          T    3 days      NaN        NaN       NaN        3  \n",
              "2     38.0          T    3 days      NaN        NaN       NaN        3  \n",
              "3     18.0          T    3 days      NaN        NaN       NaN        3  \n",
              "4      6.0          T    3 days      NaN        NaN       NaN        3  \n",
              "\n",
              "[5 rows x 22 columns]"
            ],
            "text/html": [
              "\n",
              "  <div id=\"df-1750d794-e617-4bda-91f6-0251bd910928\">\n",
              "    <div class=\"colab-df-container\">\n",
              "      <div>\n",
              "<style scoped>\n",
              "    .dataframe tbody tr th:only-of-type {\n",
              "        vertical-align: middle;\n",
              "    }\n",
              "\n",
              "    .dataframe tbody tr th {\n",
              "        vertical-align: top;\n",
              "    }\n",
              "\n",
              "    .dataframe thead th {\n",
              "        text-align: right;\n",
              "    }\n",
              "</style>\n",
              "<table border=\"1\" class=\"dataframe\">\n",
              "  <thead>\n",
              "    <tr style=\"text-align: right;\">\n",
              "      <th></th>\n",
              "      <th>result</th>\n",
              "      <th>party</th>\n",
              "      <th>date</th>\n",
              "      <th>turnout</th>\n",
              "      <th>state</th>\n",
              "      <th>Year</th>\n",
              "      <th>dimap_pred</th>\n",
              "      <th>dimap_method</th>\n",
              "      <th>dimap_dist</th>\n",
              "      <th>Forsa_pred</th>\n",
              "      <th>...</th>\n",
              "      <th>INSA_pred</th>\n",
              "      <th>INSA_method</th>\n",
              "      <th>INSA_dist</th>\n",
              "      <th>FGW_pred</th>\n",
              "      <th>FGW_method</th>\n",
              "      <th>FGW_dist</th>\n",
              "      <th>GMS_pred</th>\n",
              "      <th>GMS_method</th>\n",
              "      <th>GMS_dist</th>\n",
              "      <th>sum_isna</th>\n",
              "    </tr>\n",
              "  </thead>\n",
              "  <tbody>\n",
              "    <tr>\n",
              "      <th>0</th>\n",
              "      <td>16.0</td>\n",
              "      <td>SPD</td>\n",
              "      <td>2022-05-08</td>\n",
              "      <td>60.4</td>\n",
              "      <td>schleswig-holstein</td>\n",
              "      <td>2022</td>\n",
              "      <td>19.0</td>\n",
              "      <td>TOM</td>\n",
              "      <td>10 days</td>\n",
              "      <td>NaN</td>\n",
              "      <td>...</td>\n",
              "      <td>NaN</td>\n",
              "      <td>NaN</td>\n",
              "      <td>NaN</td>\n",
              "      <td>18.0</td>\n",
              "      <td>T</td>\n",
              "      <td>3 days</td>\n",
              "      <td>NaN</td>\n",
              "      <td>NaN</td>\n",
              "      <td>NaN</td>\n",
              "      <td>3</td>\n",
              "    </tr>\n",
              "    <tr>\n",
              "      <th>1</th>\n",
              "      <td>6.4</td>\n",
              "      <td>FDP</td>\n",
              "      <td>2022-05-08</td>\n",
              "      <td>60.4</td>\n",
              "      <td>schleswig-holstein</td>\n",
              "      <td>2022</td>\n",
              "      <td>9.0</td>\n",
              "      <td>TOM</td>\n",
              "      <td>10 days</td>\n",
              "      <td>NaN</td>\n",
              "      <td>...</td>\n",
              "      <td>NaN</td>\n",
              "      <td>NaN</td>\n",
              "      <td>NaN</td>\n",
              "      <td>8.0</td>\n",
              "      <td>T</td>\n",
              "      <td>3 days</td>\n",
              "      <td>NaN</td>\n",
              "      <td>NaN</td>\n",
              "      <td>NaN</td>\n",
              "      <td>3</td>\n",
              "    </tr>\n",
              "    <tr>\n",
              "      <th>2</th>\n",
              "      <td>43.4</td>\n",
              "      <td>CDU</td>\n",
              "      <td>2022-05-08</td>\n",
              "      <td>60.4</td>\n",
              "      <td>schleswig-holstein</td>\n",
              "      <td>2022</td>\n",
              "      <td>38.0</td>\n",
              "      <td>TOM</td>\n",
              "      <td>10 days</td>\n",
              "      <td>NaN</td>\n",
              "      <td>...</td>\n",
              "      <td>NaN</td>\n",
              "      <td>NaN</td>\n",
              "      <td>NaN</td>\n",
              "      <td>38.0</td>\n",
              "      <td>T</td>\n",
              "      <td>3 days</td>\n",
              "      <td>NaN</td>\n",
              "      <td>NaN</td>\n",
              "      <td>NaN</td>\n",
              "      <td>3</td>\n",
              "    </tr>\n",
              "    <tr>\n",
              "      <th>3</th>\n",
              "      <td>18.3</td>\n",
              "      <td>GRÜNE</td>\n",
              "      <td>2022-05-08</td>\n",
              "      <td>60.4</td>\n",
              "      <td>schleswig-holstein</td>\n",
              "      <td>2022</td>\n",
              "      <td>16.0</td>\n",
              "      <td>TOM</td>\n",
              "      <td>10 days</td>\n",
              "      <td>NaN</td>\n",
              "      <td>...</td>\n",
              "      <td>NaN</td>\n",
              "      <td>NaN</td>\n",
              "      <td>NaN</td>\n",
              "      <td>18.0</td>\n",
              "      <td>T</td>\n",
              "      <td>3 days</td>\n",
              "      <td>NaN</td>\n",
              "      <td>NaN</td>\n",
              "      <td>NaN</td>\n",
              "      <td>3</td>\n",
              "    </tr>\n",
              "    <tr>\n",
              "      <th>4</th>\n",
              "      <td>4.4</td>\n",
              "      <td>AfD</td>\n",
              "      <td>2022-05-08</td>\n",
              "      <td>60.4</td>\n",
              "      <td>schleswig-holstein</td>\n",
              "      <td>2022</td>\n",
              "      <td>5.0</td>\n",
              "      <td>TOM</td>\n",
              "      <td>10 days</td>\n",
              "      <td>NaN</td>\n",
              "      <td>...</td>\n",
              "      <td>NaN</td>\n",
              "      <td>NaN</td>\n",
              "      <td>NaN</td>\n",
              "      <td>6.0</td>\n",
              "      <td>T</td>\n",
              "      <td>3 days</td>\n",
              "      <td>NaN</td>\n",
              "      <td>NaN</td>\n",
              "      <td>NaN</td>\n",
              "      <td>3</td>\n",
              "    </tr>\n",
              "  </tbody>\n",
              "</table>\n",
              "<p>5 rows × 22 columns</p>\n",
              "</div>\n",
              "      <button class=\"colab-df-convert\" onclick=\"convertToInteractive('df-1750d794-e617-4bda-91f6-0251bd910928')\"\n",
              "              title=\"Convert this dataframe to an interactive table.\"\n",
              "              style=\"display:none;\">\n",
              "        \n",
              "  <svg xmlns=\"http://www.w3.org/2000/svg\" height=\"24px\"viewBox=\"0 0 24 24\"\n",
              "       width=\"24px\">\n",
              "    <path d=\"M0 0h24v24H0V0z\" fill=\"none\"/>\n",
              "    <path d=\"M18.56 5.44l.94 2.06.94-2.06 2.06-.94-2.06-.94-.94-2.06-.94 2.06-2.06.94zm-11 1L8.5 8.5l.94-2.06 2.06-.94-2.06-.94L8.5 2.5l-.94 2.06-2.06.94zm10 10l.94 2.06.94-2.06 2.06-.94-2.06-.94-.94-2.06-.94 2.06-2.06.94z\"/><path d=\"M17.41 7.96l-1.37-1.37c-.4-.4-.92-.59-1.43-.59-.52 0-1.04.2-1.43.59L10.3 9.45l-7.72 7.72c-.78.78-.78 2.05 0 2.83L4 21.41c.39.39.9.59 1.41.59.51 0 1.02-.2 1.41-.59l7.78-7.78 2.81-2.81c.8-.78.8-2.07 0-2.86zM5.41 20L4 18.59l7.72-7.72 1.47 1.35L5.41 20z\"/>\n",
              "  </svg>\n",
              "      </button>\n",
              "      \n",
              "  <style>\n",
              "    .colab-df-container {\n",
              "      display:flex;\n",
              "      flex-wrap:wrap;\n",
              "      gap: 12px;\n",
              "    }\n",
              "\n",
              "    .colab-df-convert {\n",
              "      background-color: #E8F0FE;\n",
              "      border: none;\n",
              "      border-radius: 50%;\n",
              "      cursor: pointer;\n",
              "      display: none;\n",
              "      fill: #1967D2;\n",
              "      height: 32px;\n",
              "      padding: 0 0 0 0;\n",
              "      width: 32px;\n",
              "    }\n",
              "\n",
              "    .colab-df-convert:hover {\n",
              "      background-color: #E2EBFA;\n",
              "      box-shadow: 0px 1px 2px rgba(60, 64, 67, 0.3), 0px 1px 3px 1px rgba(60, 64, 67, 0.15);\n",
              "      fill: #174EA6;\n",
              "    }\n",
              "\n",
              "    [theme=dark] .colab-df-convert {\n",
              "      background-color: #3B4455;\n",
              "      fill: #D2E3FC;\n",
              "    }\n",
              "\n",
              "    [theme=dark] .colab-df-convert:hover {\n",
              "      background-color: #434B5C;\n",
              "      box-shadow: 0px 1px 3px 1px rgba(0, 0, 0, 0.15);\n",
              "      filter: drop-shadow(0px 1px 2px rgba(0, 0, 0, 0.3));\n",
              "      fill: #FFFFFF;\n",
              "    }\n",
              "  </style>\n",
              "\n",
              "      <script>\n",
              "        const buttonEl =\n",
              "          document.querySelector('#df-1750d794-e617-4bda-91f6-0251bd910928 button.colab-df-convert');\n",
              "        buttonEl.style.display =\n",
              "          google.colab.kernel.accessAllowed ? 'block' : 'none';\n",
              "\n",
              "        async function convertToInteractive(key) {\n",
              "          const element = document.querySelector('#df-1750d794-e617-4bda-91f6-0251bd910928');\n",
              "          const dataTable =\n",
              "            await google.colab.kernel.invokeFunction('convertToInteractive',\n",
              "                                                     [key], {});\n",
              "          if (!dataTable) return;\n",
              "\n",
              "          const docLinkHtml = 'Like what you see? Visit the ' +\n",
              "            '<a target=\"_blank\" href=https://colab.research.google.com/notebooks/data_table.ipynb>data table notebook</a>'\n",
              "            + ' to learn more about interactive tables.';\n",
              "          element.innerHTML = '';\n",
              "          dataTable['output_type'] = 'display_data';\n",
              "          await google.colab.output.renderOutput(dataTable, element);\n",
              "          const docLink = document.createElement('div');\n",
              "          docLink.innerHTML = docLinkHtml;\n",
              "          element.appendChild(docLink);\n",
              "        }\n",
              "      </script>\n",
              "    </div>\n",
              "  </div>\n",
              "  "
            ]
          },
          "metadata": {},
          "execution_count": 14
        }
      ]
    },
    {
      "cell_type": "code",
      "source": [
        "election_results_german_federal_states_df.head()"
      ],
      "metadata": {
        "colab": {
          "base_uri": "https://localhost:8080/",
          "height": 196
        },
        "id": "6fKxyqnVGbb2",
        "outputId": "1fd0cf4c-f93f-448e-c08c-5609367ec6df"
      },
      "execution_count": null,
      "outputs": [
        {
          "output_type": "execute_result",
          "data": {
            "text/plain": [
              "         Date   CDU   SPD  Die Gruenen  CSU  FDP  Die Linke   AfD  FW  \\\n",
              "0  2022-05-08  43.4  16.0        18.30  NaN  6.4        1.7   4.4 NaN   \n",
              "1  2022-03-27  28.5  43.5         4.99  NaN  4.8        2.6   5.7 NaN   \n",
              "2  2021-09-26  18.0  21.4        18.90  NaN  7.1       14.1   8.0 NaN   \n",
              "3  2021-09-26  13.3  39.6         6.30  NaN  5.8        9.9  16.7 NaN   \n",
              "4  2021-06-06  37.1   8.4         5.90  NaN  6.4       11.0  20.8 NaN   \n",
              "\n",
              "                       bl  turnout  Year  \n",
              "0      schleswig-holstein     60.4  2022  \n",
              "1                saarland     61.4  2022  \n",
              "2                  berlin     75.4  2021  \n",
              "3  mecklenburg-vorpommern     70.8  2021  \n",
              "4          sachsen-anhalt     60.3  2021  "
            ],
            "text/html": [
              "\n",
              "  <div id=\"df-8321d479-3ee8-4c30-9233-ae250f0395e4\">\n",
              "    <div class=\"colab-df-container\">\n",
              "      <div>\n",
              "<style scoped>\n",
              "    .dataframe tbody tr th:only-of-type {\n",
              "        vertical-align: middle;\n",
              "    }\n",
              "\n",
              "    .dataframe tbody tr th {\n",
              "        vertical-align: top;\n",
              "    }\n",
              "\n",
              "    .dataframe thead th {\n",
              "        text-align: right;\n",
              "    }\n",
              "</style>\n",
              "<table border=\"1\" class=\"dataframe\">\n",
              "  <thead>\n",
              "    <tr style=\"text-align: right;\">\n",
              "      <th></th>\n",
              "      <th>Date</th>\n",
              "      <th>CDU</th>\n",
              "      <th>SPD</th>\n",
              "      <th>Die Gruenen</th>\n",
              "      <th>CSU</th>\n",
              "      <th>FDP</th>\n",
              "      <th>Die Linke</th>\n",
              "      <th>AfD</th>\n",
              "      <th>FW</th>\n",
              "      <th>bl</th>\n",
              "      <th>turnout</th>\n",
              "      <th>Year</th>\n",
              "    </tr>\n",
              "  </thead>\n",
              "  <tbody>\n",
              "    <tr>\n",
              "      <th>0</th>\n",
              "      <td>2022-05-08</td>\n",
              "      <td>43.4</td>\n",
              "      <td>16.0</td>\n",
              "      <td>18.30</td>\n",
              "      <td>NaN</td>\n",
              "      <td>6.4</td>\n",
              "      <td>1.7</td>\n",
              "      <td>4.4</td>\n",
              "      <td>NaN</td>\n",
              "      <td>schleswig-holstein</td>\n",
              "      <td>60.4</td>\n",
              "      <td>2022</td>\n",
              "    </tr>\n",
              "    <tr>\n",
              "      <th>1</th>\n",
              "      <td>2022-03-27</td>\n",
              "      <td>28.5</td>\n",
              "      <td>43.5</td>\n",
              "      <td>4.99</td>\n",
              "      <td>NaN</td>\n",
              "      <td>4.8</td>\n",
              "      <td>2.6</td>\n",
              "      <td>5.7</td>\n",
              "      <td>NaN</td>\n",
              "      <td>saarland</td>\n",
              "      <td>61.4</td>\n",
              "      <td>2022</td>\n",
              "    </tr>\n",
              "    <tr>\n",
              "      <th>2</th>\n",
              "      <td>2021-09-26</td>\n",
              "      <td>18.0</td>\n",
              "      <td>21.4</td>\n",
              "      <td>18.90</td>\n",
              "      <td>NaN</td>\n",
              "      <td>7.1</td>\n",
              "      <td>14.1</td>\n",
              "      <td>8.0</td>\n",
              "      <td>NaN</td>\n",
              "      <td>berlin</td>\n",
              "      <td>75.4</td>\n",
              "      <td>2021</td>\n",
              "    </tr>\n",
              "    <tr>\n",
              "      <th>3</th>\n",
              "      <td>2021-09-26</td>\n",
              "      <td>13.3</td>\n",
              "      <td>39.6</td>\n",
              "      <td>6.30</td>\n",
              "      <td>NaN</td>\n",
              "      <td>5.8</td>\n",
              "      <td>9.9</td>\n",
              "      <td>16.7</td>\n",
              "      <td>NaN</td>\n",
              "      <td>mecklenburg-vorpommern</td>\n",
              "      <td>70.8</td>\n",
              "      <td>2021</td>\n",
              "    </tr>\n",
              "    <tr>\n",
              "      <th>4</th>\n",
              "      <td>2021-06-06</td>\n",
              "      <td>37.1</td>\n",
              "      <td>8.4</td>\n",
              "      <td>5.90</td>\n",
              "      <td>NaN</td>\n",
              "      <td>6.4</td>\n",
              "      <td>11.0</td>\n",
              "      <td>20.8</td>\n",
              "      <td>NaN</td>\n",
              "      <td>sachsen-anhalt</td>\n",
              "      <td>60.3</td>\n",
              "      <td>2021</td>\n",
              "    </tr>\n",
              "  </tbody>\n",
              "</table>\n",
              "</div>\n",
              "      <button class=\"colab-df-convert\" onclick=\"convertToInteractive('df-8321d479-3ee8-4c30-9233-ae250f0395e4')\"\n",
              "              title=\"Convert this dataframe to an interactive table.\"\n",
              "              style=\"display:none;\">\n",
              "        \n",
              "  <svg xmlns=\"http://www.w3.org/2000/svg\" height=\"24px\"viewBox=\"0 0 24 24\"\n",
              "       width=\"24px\">\n",
              "    <path d=\"M0 0h24v24H0V0z\" fill=\"none\"/>\n",
              "    <path d=\"M18.56 5.44l.94 2.06.94-2.06 2.06-.94-2.06-.94-.94-2.06-.94 2.06-2.06.94zm-11 1L8.5 8.5l.94-2.06 2.06-.94-2.06-.94L8.5 2.5l-.94 2.06-2.06.94zm10 10l.94 2.06.94-2.06 2.06-.94-2.06-.94-.94-2.06-.94 2.06-2.06.94z\"/><path d=\"M17.41 7.96l-1.37-1.37c-.4-.4-.92-.59-1.43-.59-.52 0-1.04.2-1.43.59L10.3 9.45l-7.72 7.72c-.78.78-.78 2.05 0 2.83L4 21.41c.39.39.9.59 1.41.59.51 0 1.02-.2 1.41-.59l7.78-7.78 2.81-2.81c.8-.78.8-2.07 0-2.86zM5.41 20L4 18.59l7.72-7.72 1.47 1.35L5.41 20z\"/>\n",
              "  </svg>\n",
              "      </button>\n",
              "      \n",
              "  <style>\n",
              "    .colab-df-container {\n",
              "      display:flex;\n",
              "      flex-wrap:wrap;\n",
              "      gap: 12px;\n",
              "    }\n",
              "\n",
              "    .colab-df-convert {\n",
              "      background-color: #E8F0FE;\n",
              "      border: none;\n",
              "      border-radius: 50%;\n",
              "      cursor: pointer;\n",
              "      display: none;\n",
              "      fill: #1967D2;\n",
              "      height: 32px;\n",
              "      padding: 0 0 0 0;\n",
              "      width: 32px;\n",
              "    }\n",
              "\n",
              "    .colab-df-convert:hover {\n",
              "      background-color: #E2EBFA;\n",
              "      box-shadow: 0px 1px 2px rgba(60, 64, 67, 0.3), 0px 1px 3px 1px rgba(60, 64, 67, 0.15);\n",
              "      fill: #174EA6;\n",
              "    }\n",
              "\n",
              "    [theme=dark] .colab-df-convert {\n",
              "      background-color: #3B4455;\n",
              "      fill: #D2E3FC;\n",
              "    }\n",
              "\n",
              "    [theme=dark] .colab-df-convert:hover {\n",
              "      background-color: #434B5C;\n",
              "      box-shadow: 0px 1px 3px 1px rgba(0, 0, 0, 0.15);\n",
              "      filter: drop-shadow(0px 1px 2px rgba(0, 0, 0, 0.3));\n",
              "      fill: #FFFFFF;\n",
              "    }\n",
              "  </style>\n",
              "\n",
              "      <script>\n",
              "        const buttonEl =\n",
              "          document.querySelector('#df-8321d479-3ee8-4c30-9233-ae250f0395e4 button.colab-df-convert');\n",
              "        buttonEl.style.display =\n",
              "          google.colab.kernel.accessAllowed ? 'block' : 'none';\n",
              "\n",
              "        async function convertToInteractive(key) {\n",
              "          const element = document.querySelector('#df-8321d479-3ee8-4c30-9233-ae250f0395e4');\n",
              "          const dataTable =\n",
              "            await google.colab.kernel.invokeFunction('convertToInteractive',\n",
              "                                                     [key], {});\n",
              "          if (!dataTable) return;\n",
              "\n",
              "          const docLinkHtml = 'Like what you see? Visit the ' +\n",
              "            '<a target=\"_blank\" href=https://colab.research.google.com/notebooks/data_table.ipynb>data table notebook</a>'\n",
              "            + ' to learn more about interactive tables.';\n",
              "          element.innerHTML = '';\n",
              "          dataTable['output_type'] = 'display_data';\n",
              "          await google.colab.output.renderOutput(dataTable, element);\n",
              "          const docLink = document.createElement('div');\n",
              "          docLink.innerHTML = docLinkHtml;\n",
              "          element.appendChild(docLink);\n",
              "        }\n",
              "      </script>\n",
              "    </div>\n",
              "  </div>\n",
              "  "
            ],
            "application/vnd.google.colaboratory.module+javascript": "\n      import \"https://ssl.gstatic.com/colaboratory/data_table/f872b2c2305463fd/data_table.js\";\n\n      window.createDataTable({\n        data: [[{\n            'v': 0,\n            'f': \"0\",\n        },\n\"2022-05-08\",\n{\n            'v': 43.4,\n            'f': \"43.4\",\n        },\n{\n            'v': 16.0,\n            'f': \"16.0\",\n        },\n{\n            'v': 18.3,\n            'f': \"18.3\",\n        },\n{\n            'v': NaN,\n            'f': \"NaN\",\n        },\n{\n            'v': 6.4,\n            'f': \"6.4\",\n        },\n{\n            'v': 1.7,\n            'f': \"1.7\",\n        },\n{\n            'v': 4.4,\n            'f': \"4.4\",\n        },\n{\n            'v': NaN,\n            'f': \"NaN\",\n        },\n\"schleswig-holstein\",\n{\n            'v': 60.4,\n            'f': \"60.4\",\n        },\n{\n            'v': 2022,\n            'f': \"2022\",\n        }],\n [{\n            'v': 1,\n            'f': \"1\",\n        },\n\"2022-03-27\",\n{\n            'v': 28.5,\n            'f': \"28.5\",\n        },\n{\n            'v': 43.5,\n            'f': \"43.5\",\n        },\n{\n            'v': 4.99,\n            'f': \"4.99\",\n        },\n{\n            'v': NaN,\n            'f': \"NaN\",\n        },\n{\n            'v': 4.8,\n            'f': \"4.8\",\n        },\n{\n            'v': 2.6,\n            'f': \"2.6\",\n        },\n{\n            'v': 5.7,\n            'f': \"5.7\",\n        },\n{\n            'v': NaN,\n            'f': \"NaN\",\n        },\n\"saarland\",\n{\n            'v': 61.4,\n            'f': \"61.4\",\n        },\n{\n            'v': 2022,\n            'f': \"2022\",\n        }],\n [{\n            'v': 2,\n            'f': \"2\",\n        },\n\"2021-09-26\",\n{\n            'v': 18.0,\n            'f': \"18.0\",\n        },\n{\n            'v': 21.4,\n            'f': \"21.4\",\n        },\n{\n            'v': 18.9,\n            'f': \"18.9\",\n        },\n{\n            'v': NaN,\n            'f': \"NaN\",\n        },\n{\n            'v': 7.1,\n            'f': \"7.1\",\n        },\n{\n            'v': 14.1,\n            'f': \"14.1\",\n        },\n{\n            'v': 8.0,\n            'f': \"8.0\",\n        },\n{\n            'v': NaN,\n            'f': \"NaN\",\n        },\n\"berlin\",\n{\n            'v': 75.4,\n            'f': \"75.4\",\n        },\n{\n            'v': 2021,\n            'f': \"2021\",\n        }],\n [{\n            'v': 3,\n            'f': \"3\",\n        },\n\"2021-09-26\",\n{\n            'v': 13.3,\n            'f': \"13.3\",\n        },\n{\n            'v': 39.6,\n            'f': \"39.6\",\n        },\n{\n            'v': 6.3,\n            'f': \"6.3\",\n        },\n{\n            'v': NaN,\n            'f': \"NaN\",\n        },\n{\n            'v': 5.8,\n            'f': \"5.8\",\n        },\n{\n            'v': 9.9,\n            'f': \"9.9\",\n        },\n{\n            'v': 16.7,\n            'f': \"16.7\",\n        },\n{\n            'v': NaN,\n            'f': \"NaN\",\n        },\n\"mecklenburg-vorpommern\",\n{\n            'v': 70.8,\n            'f': \"70.8\",\n        },\n{\n            'v': 2021,\n            'f': \"2021\",\n        }],\n [{\n            'v': 4,\n            'f': \"4\",\n        },\n\"2021-06-06\",\n{\n            'v': 37.1,\n            'f': \"37.1\",\n        },\n{\n            'v': 8.4,\n            'f': \"8.4\",\n        },\n{\n            'v': 5.9,\n            'f': \"5.9\",\n        },\n{\n            'v': NaN,\n            'f': \"NaN\",\n        },\n{\n            'v': 6.4,\n            'f': \"6.4\",\n        },\n{\n            'v': 11.0,\n            'f': \"11.0\",\n        },\n{\n            'v': 20.8,\n            'f': \"20.8\",\n        },\n{\n            'v': NaN,\n            'f': \"NaN\",\n        },\n\"sachsen-anhalt\",\n{\n            'v': 60.3,\n            'f': \"60.3\",\n        },\n{\n            'v': 2021,\n            'f': \"2021\",\n        }]],\n        columns: [[\"number\", \"index\"], [\"string\", \"Date\"], [\"number\", \"CDU\"], [\"number\", \"SPD\"], [\"number\", \"Die Gruenen\"], [\"number\", \"CSU\"], [\"number\", \"FDP\"], [\"number\", \"Die Linke\"], [\"number\", \"AfD\"], [\"number\", \"FW\"], [\"string\", \"bl\"], [\"number\", \"turnout\"], [\"number\", \"Year\"]],\n        columnOptions: [{\"width\": \"1px\", \"className\": \"index_column\"}],\n        rowsPerPage: 25,\n        helpUrl: \"https://colab.research.google.com/notebooks/data_table.ipynb\",\n        suppressOutputScrolling: true,\n        minimumWidth: undefined,\n      });\n    "
          },
          "metadata": {},
          "execution_count": 15
        }
      ]
    },
    {
      "cell_type": "code",
      "source": [
        "federal_elections_germany_survey_df.head()"
      ],
      "metadata": {
        "colab": {
          "base_uri": "https://localhost:8080/",
          "height": 294
        },
        "id": "oimV2eRrTnwu",
        "outputId": "aeb24631-e536-4b11-83d5-ca5a17e45b55"
      },
      "execution_count": null,
      "outputs": [
        {
          "output_type": "execute_result",
          "data": {
            "text/plain": [
              "        institute                   client        date   CDU   SPD  GRÜNE  \\\n",
              "0  Infratestdimap                      SWR  21.04.2022  26.0  15.0   28.0   \n",
              "1            INSA                     BILD  06.04.2022  23.0  19.0   25.0   \n",
              "2  Infratestdimap  SWR,Stuttgarter Zeitung  10.03.2022  24.0  18.0   27.0   \n",
              "3  Infratestdimap  SWR,Stuttgarter Zeitung  20.01.2022  23.0  16.0   26.0   \n",
              "4            INSA                     BILD  12.10.2021  20.0  21.0   24.0   \n",
              "\n",
              "    FDP  LINKE   AfD  Sonstige               state  CSU  FW  PIRATEN  NPD  \\\n",
              "0  11.0    3.0   9.0       8.0  baden-wuerttemberg  NaN NaN      NaN  NaN   \n",
              "1  11.0    3.0  10.0       9.0  baden-wuerttemberg  NaN NaN      NaN  NaN   \n",
              "2  13.0    3.0   9.0       6.0  baden-wuerttemberg  NaN NaN      NaN  NaN   \n",
              "3  12.0    4.0  11.0       8.0  baden-wuerttemberg  NaN NaN      NaN  NaN   \n",
              "4  16.0    3.0   9.0       7.0  baden-wuerttemberg  NaN NaN      NaN  NaN   \n",
              "\n",
              "   SSW method           timeframe  \n",
              "0  NaN    TOM  1.17012.04.–19.04.  \n",
              "1  NaN      O  1.00028.03.–04.04.  \n",
              "2  NaN    TOM  1.15204.03.–08.03.  \n",
              "3  NaN    TOM  1.16613.01.–18.01.  \n",
              "4  NaN      O  1.00004.10.–11.10.  "
            ],
            "text/html": [
              "\n",
              "  <div id=\"df-ac23bd3e-7467-4a08-8000-cf0bbe1f63c2\">\n",
              "    <div class=\"colab-df-container\">\n",
              "      <div>\n",
              "<style scoped>\n",
              "    .dataframe tbody tr th:only-of-type {\n",
              "        vertical-align: middle;\n",
              "    }\n",
              "\n",
              "    .dataframe tbody tr th {\n",
              "        vertical-align: top;\n",
              "    }\n",
              "\n",
              "    .dataframe thead th {\n",
              "        text-align: right;\n",
              "    }\n",
              "</style>\n",
              "<table border=\"1\" class=\"dataframe\">\n",
              "  <thead>\n",
              "    <tr style=\"text-align: right;\">\n",
              "      <th></th>\n",
              "      <th>institute</th>\n",
              "      <th>client</th>\n",
              "      <th>date</th>\n",
              "      <th>CDU</th>\n",
              "      <th>SPD</th>\n",
              "      <th>GRÜNE</th>\n",
              "      <th>FDP</th>\n",
              "      <th>LINKE</th>\n",
              "      <th>AfD</th>\n",
              "      <th>Sonstige</th>\n",
              "      <th>state</th>\n",
              "      <th>CSU</th>\n",
              "      <th>FW</th>\n",
              "      <th>PIRATEN</th>\n",
              "      <th>NPD</th>\n",
              "      <th>SSW</th>\n",
              "      <th>method</th>\n",
              "      <th>timeframe</th>\n",
              "    </tr>\n",
              "  </thead>\n",
              "  <tbody>\n",
              "    <tr>\n",
              "      <th>0</th>\n",
              "      <td>Infratestdimap</td>\n",
              "      <td>SWR</td>\n",
              "      <td>21.04.2022</td>\n",
              "      <td>26.0</td>\n",
              "      <td>15.0</td>\n",
              "      <td>28.0</td>\n",
              "      <td>11.0</td>\n",
              "      <td>3.0</td>\n",
              "      <td>9.0</td>\n",
              "      <td>8.0</td>\n",
              "      <td>baden-wuerttemberg</td>\n",
              "      <td>NaN</td>\n",
              "      <td>NaN</td>\n",
              "      <td>NaN</td>\n",
              "      <td>NaN</td>\n",
              "      <td>NaN</td>\n",
              "      <td>TOM</td>\n",
              "      <td>1.17012.04.–19.04.</td>\n",
              "    </tr>\n",
              "    <tr>\n",
              "      <th>1</th>\n",
              "      <td>INSA</td>\n",
              "      <td>BILD</td>\n",
              "      <td>06.04.2022</td>\n",
              "      <td>23.0</td>\n",
              "      <td>19.0</td>\n",
              "      <td>25.0</td>\n",
              "      <td>11.0</td>\n",
              "      <td>3.0</td>\n",
              "      <td>10.0</td>\n",
              "      <td>9.0</td>\n",
              "      <td>baden-wuerttemberg</td>\n",
              "      <td>NaN</td>\n",
              "      <td>NaN</td>\n",
              "      <td>NaN</td>\n",
              "      <td>NaN</td>\n",
              "      <td>NaN</td>\n",
              "      <td>O</td>\n",
              "      <td>1.00028.03.–04.04.</td>\n",
              "    </tr>\n",
              "    <tr>\n",
              "      <th>2</th>\n",
              "      <td>Infratestdimap</td>\n",
              "      <td>SWR,Stuttgarter Zeitung</td>\n",
              "      <td>10.03.2022</td>\n",
              "      <td>24.0</td>\n",
              "      <td>18.0</td>\n",
              "      <td>27.0</td>\n",
              "      <td>13.0</td>\n",
              "      <td>3.0</td>\n",
              "      <td>9.0</td>\n",
              "      <td>6.0</td>\n",
              "      <td>baden-wuerttemberg</td>\n",
              "      <td>NaN</td>\n",
              "      <td>NaN</td>\n",
              "      <td>NaN</td>\n",
              "      <td>NaN</td>\n",
              "      <td>NaN</td>\n",
              "      <td>TOM</td>\n",
              "      <td>1.15204.03.–08.03.</td>\n",
              "    </tr>\n",
              "    <tr>\n",
              "      <th>3</th>\n",
              "      <td>Infratestdimap</td>\n",
              "      <td>SWR,Stuttgarter Zeitung</td>\n",
              "      <td>20.01.2022</td>\n",
              "      <td>23.0</td>\n",
              "      <td>16.0</td>\n",
              "      <td>26.0</td>\n",
              "      <td>12.0</td>\n",
              "      <td>4.0</td>\n",
              "      <td>11.0</td>\n",
              "      <td>8.0</td>\n",
              "      <td>baden-wuerttemberg</td>\n",
              "      <td>NaN</td>\n",
              "      <td>NaN</td>\n",
              "      <td>NaN</td>\n",
              "      <td>NaN</td>\n",
              "      <td>NaN</td>\n",
              "      <td>TOM</td>\n",
              "      <td>1.16613.01.–18.01.</td>\n",
              "    </tr>\n",
              "    <tr>\n",
              "      <th>4</th>\n",
              "      <td>INSA</td>\n",
              "      <td>BILD</td>\n",
              "      <td>12.10.2021</td>\n",
              "      <td>20.0</td>\n",
              "      <td>21.0</td>\n",
              "      <td>24.0</td>\n",
              "      <td>16.0</td>\n",
              "      <td>3.0</td>\n",
              "      <td>9.0</td>\n",
              "      <td>7.0</td>\n",
              "      <td>baden-wuerttemberg</td>\n",
              "      <td>NaN</td>\n",
              "      <td>NaN</td>\n",
              "      <td>NaN</td>\n",
              "      <td>NaN</td>\n",
              "      <td>NaN</td>\n",
              "      <td>O</td>\n",
              "      <td>1.00004.10.–11.10.</td>\n",
              "    </tr>\n",
              "  </tbody>\n",
              "</table>\n",
              "</div>\n",
              "      <button class=\"colab-df-convert\" onclick=\"convertToInteractive('df-ac23bd3e-7467-4a08-8000-cf0bbe1f63c2')\"\n",
              "              title=\"Convert this dataframe to an interactive table.\"\n",
              "              style=\"display:none;\">\n",
              "        \n",
              "  <svg xmlns=\"http://www.w3.org/2000/svg\" height=\"24px\"viewBox=\"0 0 24 24\"\n",
              "       width=\"24px\">\n",
              "    <path d=\"M0 0h24v24H0V0z\" fill=\"none\"/>\n",
              "    <path d=\"M18.56 5.44l.94 2.06.94-2.06 2.06-.94-2.06-.94-.94-2.06-.94 2.06-2.06.94zm-11 1L8.5 8.5l.94-2.06 2.06-.94-2.06-.94L8.5 2.5l-.94 2.06-2.06.94zm10 10l.94 2.06.94-2.06 2.06-.94-2.06-.94-.94-2.06-.94 2.06-2.06.94z\"/><path d=\"M17.41 7.96l-1.37-1.37c-.4-.4-.92-.59-1.43-.59-.52 0-1.04.2-1.43.59L10.3 9.45l-7.72 7.72c-.78.78-.78 2.05 0 2.83L4 21.41c.39.39.9.59 1.41.59.51 0 1.02-.2 1.41-.59l7.78-7.78 2.81-2.81c.8-.78.8-2.07 0-2.86zM5.41 20L4 18.59l7.72-7.72 1.47 1.35L5.41 20z\"/>\n",
              "  </svg>\n",
              "      </button>\n",
              "      \n",
              "  <style>\n",
              "    .colab-df-container {\n",
              "      display:flex;\n",
              "      flex-wrap:wrap;\n",
              "      gap: 12px;\n",
              "    }\n",
              "\n",
              "    .colab-df-convert {\n",
              "      background-color: #E8F0FE;\n",
              "      border: none;\n",
              "      border-radius: 50%;\n",
              "      cursor: pointer;\n",
              "      display: none;\n",
              "      fill: #1967D2;\n",
              "      height: 32px;\n",
              "      padding: 0 0 0 0;\n",
              "      width: 32px;\n",
              "    }\n",
              "\n",
              "    .colab-df-convert:hover {\n",
              "      background-color: #E2EBFA;\n",
              "      box-shadow: 0px 1px 2px rgba(60, 64, 67, 0.3), 0px 1px 3px 1px rgba(60, 64, 67, 0.15);\n",
              "      fill: #174EA6;\n",
              "    }\n",
              "\n",
              "    [theme=dark] .colab-df-convert {\n",
              "      background-color: #3B4455;\n",
              "      fill: #D2E3FC;\n",
              "    }\n",
              "\n",
              "    [theme=dark] .colab-df-convert:hover {\n",
              "      background-color: #434B5C;\n",
              "      box-shadow: 0px 1px 3px 1px rgba(0, 0, 0, 0.15);\n",
              "      filter: drop-shadow(0px 1px 2px rgba(0, 0, 0, 0.3));\n",
              "      fill: #FFFFFF;\n",
              "    }\n",
              "  </style>\n",
              "\n",
              "      <script>\n",
              "        const buttonEl =\n",
              "          document.querySelector('#df-ac23bd3e-7467-4a08-8000-cf0bbe1f63c2 button.colab-df-convert');\n",
              "        buttonEl.style.display =\n",
              "          google.colab.kernel.accessAllowed ? 'block' : 'none';\n",
              "\n",
              "        async function convertToInteractive(key) {\n",
              "          const element = document.querySelector('#df-ac23bd3e-7467-4a08-8000-cf0bbe1f63c2');\n",
              "          const dataTable =\n",
              "            await google.colab.kernel.invokeFunction('convertToInteractive',\n",
              "                                                     [key], {});\n",
              "          if (!dataTable) return;\n",
              "\n",
              "          const docLinkHtml = 'Like what you see? Visit the ' +\n",
              "            '<a target=\"_blank\" href=https://colab.research.google.com/notebooks/data_table.ipynb>data table notebook</a>'\n",
              "            + ' to learn more about interactive tables.';\n",
              "          element.innerHTML = '';\n",
              "          dataTable['output_type'] = 'display_data';\n",
              "          await google.colab.output.renderOutput(dataTable, element);\n",
              "          const docLink = document.createElement('div');\n",
              "          docLink.innerHTML = docLinkHtml;\n",
              "          element.appendChild(docLink);\n",
              "        }\n",
              "      </script>\n",
              "    </div>\n",
              "  </div>\n",
              "  "
            ],
            "application/vnd.google.colaboratory.module+javascript": "\n      import \"https://ssl.gstatic.com/colaboratory/data_table/f872b2c2305463fd/data_table.js\";\n\n      window.createDataTable({\n        data: [[{\n            'v': 0,\n            'f': \"0\",\n        },\n\"Infratestdimap\",\n\"SWR\",\n\"21.04.2022\",\n{\n            'v': 26.0,\n            'f': \"26.0\",\n        },\n{\n            'v': 15.0,\n            'f': \"15.0\",\n        },\n{\n            'v': 28.0,\n            'f': \"28.0\",\n        },\n{\n            'v': 11.0,\n            'f': \"11.0\",\n        },\n{\n            'v': 3.0,\n            'f': \"3.0\",\n        },\n{\n            'v': 9.0,\n            'f': \"9.0\",\n        },\n{\n            'v': 8.0,\n            'f': \"8.0\",\n        },\n\"baden-wuerttemberg\",\n{\n            'v': NaN,\n            'f': \"NaN\",\n        },\n{\n            'v': NaN,\n            'f': \"NaN\",\n        },\n{\n            'v': NaN,\n            'f': \"NaN\",\n        },\n{\n            'v': NaN,\n            'f': \"NaN\",\n        },\n{\n            'v': NaN,\n            'f': \"NaN\",\n        },\n\"TOM\",\n\"1.17012.04.\\u201319.04.\"],\n [{\n            'v': 1,\n            'f': \"1\",\n        },\n\"INSA\",\n\"BILD\",\n\"06.04.2022\",\n{\n            'v': 23.0,\n            'f': \"23.0\",\n        },\n{\n            'v': 19.0,\n            'f': \"19.0\",\n        },\n{\n            'v': 25.0,\n            'f': \"25.0\",\n        },\n{\n            'v': 11.0,\n            'f': \"11.0\",\n        },\n{\n            'v': 3.0,\n            'f': \"3.0\",\n        },\n{\n            'v': 10.0,\n            'f': \"10.0\",\n        },\n{\n            'v': 9.0,\n            'f': \"9.0\",\n        },\n\"baden-wuerttemberg\",\n{\n            'v': NaN,\n            'f': \"NaN\",\n        },\n{\n            'v': NaN,\n            'f': \"NaN\",\n        },\n{\n            'v': NaN,\n            'f': \"NaN\",\n        },\n{\n            'v': NaN,\n            'f': \"NaN\",\n        },\n{\n            'v': NaN,\n            'f': \"NaN\",\n        },\n\"O\",\n\"1.00028.03.\\u201304.04.\"],\n [{\n            'v': 2,\n            'f': \"2\",\n        },\n\"Infratestdimap\",\n\"SWR,Stuttgarter Zeitung\",\n\"10.03.2022\",\n{\n            'v': 24.0,\n            'f': \"24.0\",\n        },\n{\n            'v': 18.0,\n            'f': \"18.0\",\n        },\n{\n            'v': 27.0,\n            'f': \"27.0\",\n        },\n{\n            'v': 13.0,\n            'f': \"13.0\",\n        },\n{\n            'v': 3.0,\n            'f': \"3.0\",\n        },\n{\n            'v': 9.0,\n            'f': \"9.0\",\n        },\n{\n            'v': 6.0,\n            'f': \"6.0\",\n        },\n\"baden-wuerttemberg\",\n{\n            'v': NaN,\n            'f': \"NaN\",\n        },\n{\n            'v': NaN,\n            'f': \"NaN\",\n        },\n{\n            'v': NaN,\n            'f': \"NaN\",\n        },\n{\n            'v': NaN,\n            'f': \"NaN\",\n        },\n{\n            'v': NaN,\n            'f': \"NaN\",\n        },\n\"TOM\",\n\"1.15204.03.\\u201308.03.\"],\n [{\n            'v': 3,\n            'f': \"3\",\n        },\n\"Infratestdimap\",\n\"SWR,Stuttgarter Zeitung\",\n\"20.01.2022\",\n{\n            'v': 23.0,\n            'f': \"23.0\",\n        },\n{\n            'v': 16.0,\n            'f': \"16.0\",\n        },\n{\n            'v': 26.0,\n            'f': \"26.0\",\n        },\n{\n            'v': 12.0,\n            'f': \"12.0\",\n        },\n{\n            'v': 4.0,\n            'f': \"4.0\",\n        },\n{\n            'v': 11.0,\n            'f': \"11.0\",\n        },\n{\n            'v': 8.0,\n            'f': \"8.0\",\n        },\n\"baden-wuerttemberg\",\n{\n            'v': NaN,\n            'f': \"NaN\",\n        },\n{\n            'v': NaN,\n            'f': \"NaN\",\n        },\n{\n            'v': NaN,\n            'f': \"NaN\",\n        },\n{\n            'v': NaN,\n            'f': \"NaN\",\n        },\n{\n            'v': NaN,\n            'f': \"NaN\",\n        },\n\"TOM\",\n\"1.16613.01.\\u201318.01.\"],\n [{\n            'v': 4,\n            'f': \"4\",\n        },\n\"INSA\",\n\"BILD\",\n\"12.10.2021\",\n{\n            'v': 20.0,\n            'f': \"20.0\",\n        },\n{\n            'v': 21.0,\n            'f': \"21.0\",\n        },\n{\n            'v': 24.0,\n            'f': \"24.0\",\n        },\n{\n            'v': 16.0,\n            'f': \"16.0\",\n        },\n{\n            'v': 3.0,\n            'f': \"3.0\",\n        },\n{\n            'v': 9.0,\n            'f': \"9.0\",\n        },\n{\n            'v': 7.0,\n            'f': \"7.0\",\n        },\n\"baden-wuerttemberg\",\n{\n            'v': NaN,\n            'f': \"NaN\",\n        },\n{\n            'v': NaN,\n            'f': \"NaN\",\n        },\n{\n            'v': NaN,\n            'f': \"NaN\",\n        },\n{\n            'v': NaN,\n            'f': \"NaN\",\n        },\n{\n            'v': NaN,\n            'f': \"NaN\",\n        },\n\"O\",\n\"1.00004.10.\\u201311.10.\"]],\n        columns: [[\"number\", \"index\"], [\"string\", \"institute\"], [\"string\", \"client\"], [\"string\", \"date\"], [\"number\", \"CDU\"], [\"number\", \"SPD\"], [\"number\", \"GR\\u00dcNE\"], [\"number\", \"FDP\"], [\"number\", \"LINKE\"], [\"number\", \"AfD\"], [\"number\", \"Sonstige\"], [\"string\", \"state\"], [\"number\", \"CSU\"], [\"number\", \"FW\"], [\"number\", \"PIRATEN\"], [\"number\", \"NPD\"], [\"number\", \"SSW\"], [\"string\", \"method\"], [\"string\", \"timeframe\"]],\n        columnOptions: [{\"width\": \"1px\", \"className\": \"index_column\"}],\n        rowsPerPage: 25,\n        helpUrl: \"https://colab.research.google.com/notebooks/data_table.ipynb\",\n        suppressOutputScrolling: true,\n        minimumWidth: undefined,\n      });\n    "
          },
          "metadata": {},
          "execution_count": 16
        }
      ]
    },
    {
      "cell_type": "markdown",
      "source": [
        "## ***Descriptive statistics***"
      ],
      "metadata": {
        "id": "b_-w-8OArAyi"
      }
    },
    {
      "cell_type": "code",
      "source": [
        "train_df.info()"
      ],
      "metadata": {
        "colab": {
          "base_uri": "https://localhost:8080/"
        },
        "id": "BRJa9eNxmxrh",
        "outputId": "b4aeea09-bb08-4aae-8b84-89515df288e9"
      },
      "execution_count": null,
      "outputs": [
        {
          "output_type": "stream",
          "name": "stdout",
          "text": [
            "<class 'pandas.core.frame.DataFrame'>\n",
            "RangeIndex: 128 entries, 0 to 127\n",
            "Data columns (total 22 columns):\n",
            " #   Column        Non-Null Count  Dtype  \n",
            "---  ------        --------------  -----  \n",
            " 0   result        128 non-null    float64\n",
            " 1   party         128 non-null    object \n",
            " 2   date          128 non-null    object \n",
            " 3   turnout       128 non-null    float64\n",
            " 4   state         128 non-null    object \n",
            " 5   Year          128 non-null    int64  \n",
            " 6   dimap_pred    116 non-null    float64\n",
            " 7   dimap_method  116 non-null    object \n",
            " 8   dimap_dist    116 non-null    object \n",
            " 9   Forsa_pred    37 non-null     float64\n",
            " 10  Forsa_method  37 non-null     object \n",
            " 11  Forsa_dist    37 non-null     object \n",
            " 12  INSA_pred     105 non-null    float64\n",
            " 13  INSA_method   105 non-null    object \n",
            " 14  INSA_dist     105 non-null    object \n",
            " 15  FGW_pred      77 non-null     float64\n",
            " 16  FGW_method    79 non-null     object \n",
            " 17  FGW_dist      79 non-null     object \n",
            " 18  GMS_pred      7 non-null      float64\n",
            " 19  GMS_method    7 non-null      object \n",
            " 20  GMS_dist      7 non-null      object \n",
            " 21  sum_isna      128 non-null    int64  \n",
            "dtypes: float64(7), int64(2), object(13)\n",
            "memory usage: 22.1+ KB\n"
          ]
        }
      ]
    },
    {
      "cell_type": "code",
      "source": [
        "train_df.describe()"
      ],
      "metadata": {
        "colab": {
          "base_uri": "https://localhost:8080/",
          "height": 276
        },
        "id": "-LRxxohAqHQG",
        "outputId": "b4db2633-0672-4f92-840b-f63a6c288a2d"
      },
      "execution_count": null,
      "outputs": [
        {
          "output_type": "execute_result",
          "data": {
            "text/plain": [
              "           result     turnout         Year  dimap_pred  Forsa_pred  \\\n",
              "count  128.000000  128.000000   128.000000  116.000000   37.000000   \n",
              "mean    15.243672   63.825000  2018.468750   15.448276   15.189189   \n",
              "std     11.156214    5.246596     2.462115   10.758491    9.791827   \n",
              "min      2.100000   52.700000  2014.000000    3.000000    2.000000   \n",
              "25%      6.050000   61.100000  2016.000000    6.000000    7.000000   \n",
              "50%     11.350000   63.800000  2018.000000   12.000000   14.000000   \n",
              "75%     21.625000   66.600000  2021.000000   22.250000   21.000000   \n",
              "max     45.600000   75.400000  2022.000000   44.000000   38.000000   \n",
              "\n",
              "        INSA_pred   FGW_pred   GMS_pred    sum_isna  \n",
              "count  105.000000  77.000000   7.000000  128.000000  \n",
              "mean    15.366667  15.655844  13.571429    2.328125  \n",
              "std     10.946607  10.117162  10.829853    0.914532  \n",
              "min      2.000000   4.000000   4.000000    0.000000  \n",
              "25%      6.000000   7.000000   6.500000    2.000000  \n",
              "50%     11.000000  13.000000  12.000000    2.000000  \n",
              "75%     25.000000  22.000000  15.000000    3.000000  \n",
              "max     42.000000  41.000000  36.000000    4.000000  "
            ],
            "text/html": [
              "\n",
              "  <div id=\"df-4d897901-1e6a-4a0c-84fd-eb6980636fc7\">\n",
              "    <div class=\"colab-df-container\">\n",
              "      <div>\n",
              "<style scoped>\n",
              "    .dataframe tbody tr th:only-of-type {\n",
              "        vertical-align: middle;\n",
              "    }\n",
              "\n",
              "    .dataframe tbody tr th {\n",
              "        vertical-align: top;\n",
              "    }\n",
              "\n",
              "    .dataframe thead th {\n",
              "        text-align: right;\n",
              "    }\n",
              "</style>\n",
              "<table border=\"1\" class=\"dataframe\">\n",
              "  <thead>\n",
              "    <tr style=\"text-align: right;\">\n",
              "      <th></th>\n",
              "      <th>result</th>\n",
              "      <th>turnout</th>\n",
              "      <th>Year</th>\n",
              "      <th>dimap_pred</th>\n",
              "      <th>Forsa_pred</th>\n",
              "      <th>INSA_pred</th>\n",
              "      <th>FGW_pred</th>\n",
              "      <th>GMS_pred</th>\n",
              "      <th>sum_isna</th>\n",
              "    </tr>\n",
              "  </thead>\n",
              "  <tbody>\n",
              "    <tr>\n",
              "      <th>count</th>\n",
              "      <td>128.000000</td>\n",
              "      <td>128.000000</td>\n",
              "      <td>128.000000</td>\n",
              "      <td>116.000000</td>\n",
              "      <td>37.000000</td>\n",
              "      <td>105.000000</td>\n",
              "      <td>77.000000</td>\n",
              "      <td>7.000000</td>\n",
              "      <td>128.000000</td>\n",
              "    </tr>\n",
              "    <tr>\n",
              "      <th>mean</th>\n",
              "      <td>15.243672</td>\n",
              "      <td>63.825000</td>\n",
              "      <td>2018.468750</td>\n",
              "      <td>15.448276</td>\n",
              "      <td>15.189189</td>\n",
              "      <td>15.366667</td>\n",
              "      <td>15.655844</td>\n",
              "      <td>13.571429</td>\n",
              "      <td>2.328125</td>\n",
              "    </tr>\n",
              "    <tr>\n",
              "      <th>std</th>\n",
              "      <td>11.156214</td>\n",
              "      <td>5.246596</td>\n",
              "      <td>2.462115</td>\n",
              "      <td>10.758491</td>\n",
              "      <td>9.791827</td>\n",
              "      <td>10.946607</td>\n",
              "      <td>10.117162</td>\n",
              "      <td>10.829853</td>\n",
              "      <td>0.914532</td>\n",
              "    </tr>\n",
              "    <tr>\n",
              "      <th>min</th>\n",
              "      <td>2.100000</td>\n",
              "      <td>52.700000</td>\n",
              "      <td>2014.000000</td>\n",
              "      <td>3.000000</td>\n",
              "      <td>2.000000</td>\n",
              "      <td>2.000000</td>\n",
              "      <td>4.000000</td>\n",
              "      <td>4.000000</td>\n",
              "      <td>0.000000</td>\n",
              "    </tr>\n",
              "    <tr>\n",
              "      <th>25%</th>\n",
              "      <td>6.050000</td>\n",
              "      <td>61.100000</td>\n",
              "      <td>2016.000000</td>\n",
              "      <td>6.000000</td>\n",
              "      <td>7.000000</td>\n",
              "      <td>6.000000</td>\n",
              "      <td>7.000000</td>\n",
              "      <td>6.500000</td>\n",
              "      <td>2.000000</td>\n",
              "    </tr>\n",
              "    <tr>\n",
              "      <th>50%</th>\n",
              "      <td>11.350000</td>\n",
              "      <td>63.800000</td>\n",
              "      <td>2018.000000</td>\n",
              "      <td>12.000000</td>\n",
              "      <td>14.000000</td>\n",
              "      <td>11.000000</td>\n",
              "      <td>13.000000</td>\n",
              "      <td>12.000000</td>\n",
              "      <td>2.000000</td>\n",
              "    </tr>\n",
              "    <tr>\n",
              "      <th>75%</th>\n",
              "      <td>21.625000</td>\n",
              "      <td>66.600000</td>\n",
              "      <td>2021.000000</td>\n",
              "      <td>22.250000</td>\n",
              "      <td>21.000000</td>\n",
              "      <td>25.000000</td>\n",
              "      <td>22.000000</td>\n",
              "      <td>15.000000</td>\n",
              "      <td>3.000000</td>\n",
              "    </tr>\n",
              "    <tr>\n",
              "      <th>max</th>\n",
              "      <td>45.600000</td>\n",
              "      <td>75.400000</td>\n",
              "      <td>2022.000000</td>\n",
              "      <td>44.000000</td>\n",
              "      <td>38.000000</td>\n",
              "      <td>42.000000</td>\n",
              "      <td>41.000000</td>\n",
              "      <td>36.000000</td>\n",
              "      <td>4.000000</td>\n",
              "    </tr>\n",
              "  </tbody>\n",
              "</table>\n",
              "</div>\n",
              "      <button class=\"colab-df-convert\" onclick=\"convertToInteractive('df-4d897901-1e6a-4a0c-84fd-eb6980636fc7')\"\n",
              "              title=\"Convert this dataframe to an interactive table.\"\n",
              "              style=\"display:none;\">\n",
              "        \n",
              "  <svg xmlns=\"http://www.w3.org/2000/svg\" height=\"24px\"viewBox=\"0 0 24 24\"\n",
              "       width=\"24px\">\n",
              "    <path d=\"M0 0h24v24H0V0z\" fill=\"none\"/>\n",
              "    <path d=\"M18.56 5.44l.94 2.06.94-2.06 2.06-.94-2.06-.94-.94-2.06-.94 2.06-2.06.94zm-11 1L8.5 8.5l.94-2.06 2.06-.94-2.06-.94L8.5 2.5l-.94 2.06-2.06.94zm10 10l.94 2.06.94-2.06 2.06-.94-2.06-.94-.94-2.06-.94 2.06-2.06.94z\"/><path d=\"M17.41 7.96l-1.37-1.37c-.4-.4-.92-.59-1.43-.59-.52 0-1.04.2-1.43.59L10.3 9.45l-7.72 7.72c-.78.78-.78 2.05 0 2.83L4 21.41c.39.39.9.59 1.41.59.51 0 1.02-.2 1.41-.59l7.78-7.78 2.81-2.81c.8-.78.8-2.07 0-2.86zM5.41 20L4 18.59l7.72-7.72 1.47 1.35L5.41 20z\"/>\n",
              "  </svg>\n",
              "      </button>\n",
              "      \n",
              "  <style>\n",
              "    .colab-df-container {\n",
              "      display:flex;\n",
              "      flex-wrap:wrap;\n",
              "      gap: 12px;\n",
              "    }\n",
              "\n",
              "    .colab-df-convert {\n",
              "      background-color: #E8F0FE;\n",
              "      border: none;\n",
              "      border-radius: 50%;\n",
              "      cursor: pointer;\n",
              "      display: none;\n",
              "      fill: #1967D2;\n",
              "      height: 32px;\n",
              "      padding: 0 0 0 0;\n",
              "      width: 32px;\n",
              "    }\n",
              "\n",
              "    .colab-df-convert:hover {\n",
              "      background-color: #E2EBFA;\n",
              "      box-shadow: 0px 1px 2px rgba(60, 64, 67, 0.3), 0px 1px 3px 1px rgba(60, 64, 67, 0.15);\n",
              "      fill: #174EA6;\n",
              "    }\n",
              "\n",
              "    [theme=dark] .colab-df-convert {\n",
              "      background-color: #3B4455;\n",
              "      fill: #D2E3FC;\n",
              "    }\n",
              "\n",
              "    [theme=dark] .colab-df-convert:hover {\n",
              "      background-color: #434B5C;\n",
              "      box-shadow: 0px 1px 3px 1px rgba(0, 0, 0, 0.15);\n",
              "      filter: drop-shadow(0px 1px 2px rgba(0, 0, 0, 0.3));\n",
              "      fill: #FFFFFF;\n",
              "    }\n",
              "  </style>\n",
              "\n",
              "      <script>\n",
              "        const buttonEl =\n",
              "          document.querySelector('#df-4d897901-1e6a-4a0c-84fd-eb6980636fc7 button.colab-df-convert');\n",
              "        buttonEl.style.display =\n",
              "          google.colab.kernel.accessAllowed ? 'block' : 'none';\n",
              "\n",
              "        async function convertToInteractive(key) {\n",
              "          const element = document.querySelector('#df-4d897901-1e6a-4a0c-84fd-eb6980636fc7');\n",
              "          const dataTable =\n",
              "            await google.colab.kernel.invokeFunction('convertToInteractive',\n",
              "                                                     [key], {});\n",
              "          if (!dataTable) return;\n",
              "\n",
              "          const docLinkHtml = 'Like what you see? Visit the ' +\n",
              "            '<a target=\"_blank\" href=https://colab.research.google.com/notebooks/data_table.ipynb>data table notebook</a>'\n",
              "            + ' to learn more about interactive tables.';\n",
              "          element.innerHTML = '';\n",
              "          dataTable['output_type'] = 'display_data';\n",
              "          await google.colab.output.renderOutput(dataTable, element);\n",
              "          const docLink = document.createElement('div');\n",
              "          docLink.innerHTML = docLinkHtml;\n",
              "          element.appendChild(docLink);\n",
              "        }\n",
              "      </script>\n",
              "    </div>\n",
              "  </div>\n",
              "  "
            ],
            "application/vnd.google.colaboratory.module+javascript": "\n      import \"https://ssl.gstatic.com/colaboratory/data_table/f872b2c2305463fd/data_table.js\";\n\n      window.createDataTable({\n        data: [[\"count\",\n{\n            'v': 128.0,\n            'f': \"128.0\",\n        },\n{\n            'v': 128.0,\n            'f': \"128.0\",\n        },\n{\n            'v': 128.0,\n            'f': \"128.0\",\n        },\n{\n            'v': 116.0,\n            'f': \"116.0\",\n        },\n{\n            'v': 37.0,\n            'f': \"37.0\",\n        },\n{\n            'v': 105.0,\n            'f': \"105.0\",\n        },\n{\n            'v': 77.0,\n            'f': \"77.0\",\n        },\n{\n            'v': 7.0,\n            'f': \"7.0\",\n        },\n{\n            'v': 128.0,\n            'f': \"128.0\",\n        }],\n [\"mean\",\n{\n            'v': 15.243671874999999,\n            'f': \"15.243671874999999\",\n        },\n{\n            'v': 63.825,\n            'f': \"63.825\",\n        },\n{\n            'v': 2018.46875,\n            'f': \"2018.46875\",\n        },\n{\n            'v': 15.448275862068966,\n            'f': \"15.448275862068966\",\n        },\n{\n            'v': 15.18918918918919,\n            'f': \"15.18918918918919\",\n        },\n{\n            'v': 15.366666666666667,\n            'f': \"15.366666666666667\",\n        },\n{\n            'v': 15.655844155844155,\n            'f': \"15.655844155844155\",\n        },\n{\n            'v': 13.571428571428571,\n            'f': \"13.571428571428571\",\n        },\n{\n            'v': 2.328125,\n            'f': \"2.328125\",\n        }],\n [\"std\",\n{\n            'v': 11.156213612117812,\n            'f': \"11.156213612117812\",\n        },\n{\n            'v': 5.246596196920755,\n            'f': \"5.246596196920755\",\n        },\n{\n            'v': 2.46211451277469,\n            'f': \"2.46211451277469\",\n        },\n{\n            'v': 10.758490946051955,\n            'f': \"10.758490946051955\",\n        },\n{\n            'v': 9.79182719822403,\n            'f': \"9.79182719822403\",\n        },\n{\n            'v': 10.946607014422558,\n            'f': \"10.946607014422558\",\n        },\n{\n            'v': 10.117162249138492,\n            'f': \"10.117162249138492\",\n        },\n{\n            'v': 10.829852920779409,\n            'f': \"10.829852920779409\",\n        },\n{\n            'v': 0.9145316343551055,\n            'f': \"0.9145316343551055\",\n        }],\n [\"min\",\n{\n            'v': 2.1,\n            'f': \"2.1\",\n        },\n{\n            'v': 52.7,\n            'f': \"52.7\",\n        },\n{\n            'v': 2014.0,\n            'f': \"2014.0\",\n        },\n{\n            'v': 3.0,\n            'f': \"3.0\",\n        },\n{\n            'v': 2.0,\n            'f': \"2.0\",\n        },\n{\n            'v': 2.0,\n            'f': \"2.0\",\n        },\n{\n            'v': 4.0,\n            'f': \"4.0\",\n        },\n{\n            'v': 4.0,\n            'f': \"4.0\",\n        },\n{\n            'v': 0.0,\n            'f': \"0.0\",\n        }],\n [\"25%\",\n{\n            'v': 6.05,\n            'f': \"6.05\",\n        },\n{\n            'v': 61.1,\n            'f': \"61.1\",\n        },\n{\n            'v': 2016.0,\n            'f': \"2016.0\",\n        },\n{\n            'v': 6.0,\n            'f': \"6.0\",\n        },\n{\n            'v': 7.0,\n            'f': \"7.0\",\n        },\n{\n            'v': 6.0,\n            'f': \"6.0\",\n        },\n{\n            'v': 7.0,\n            'f': \"7.0\",\n        },\n{\n            'v': 6.5,\n            'f': \"6.5\",\n        },\n{\n            'v': 2.0,\n            'f': \"2.0\",\n        }],\n [\"50%\",\n{\n            'v': 11.35,\n            'f': \"11.35\",\n        },\n{\n            'v': 63.8,\n            'f': \"63.8\",\n        },\n{\n            'v': 2018.0,\n            'f': \"2018.0\",\n        },\n{\n            'v': 12.0,\n            'f': \"12.0\",\n        },\n{\n            'v': 14.0,\n            'f': \"14.0\",\n        },\n{\n            'v': 11.0,\n            'f': \"11.0\",\n        },\n{\n            'v': 13.0,\n            'f': \"13.0\",\n        },\n{\n            'v': 12.0,\n            'f': \"12.0\",\n        },\n{\n            'v': 2.0,\n            'f': \"2.0\",\n        }],\n [\"75%\",\n{\n            'v': 21.625,\n            'f': \"21.625\",\n        },\n{\n            'v': 66.6,\n            'f': \"66.6\",\n        },\n{\n            'v': 2021.0,\n            'f': \"2021.0\",\n        },\n{\n            'v': 22.25,\n            'f': \"22.25\",\n        },\n{\n            'v': 21.0,\n            'f': \"21.0\",\n        },\n{\n            'v': 25.0,\n            'f': \"25.0\",\n        },\n{\n            'v': 22.0,\n            'f': \"22.0\",\n        },\n{\n            'v': 15.0,\n            'f': \"15.0\",\n        },\n{\n            'v': 3.0,\n            'f': \"3.0\",\n        }],\n [\"max\",\n{\n            'v': 45.6,\n            'f': \"45.6\",\n        },\n{\n            'v': 75.4,\n            'f': \"75.4\",\n        },\n{\n            'v': 2022.0,\n            'f': \"2022.0\",\n        },\n{\n            'v': 44.0,\n            'f': \"44.0\",\n        },\n{\n            'v': 38.0,\n            'f': \"38.0\",\n        },\n{\n            'v': 42.0,\n            'f': \"42.0\",\n        },\n{\n            'v': 41.0,\n            'f': \"41.0\",\n        },\n{\n            'v': 36.0,\n            'f': \"36.0\",\n        },\n{\n            'v': 4.0,\n            'f': \"4.0\",\n        }]],\n        columns: [[\"string\", \"index\"], [\"number\", \"result\"], [\"number\", \"turnout\"], [\"number\", \"Year\"], [\"number\", \"dimap_pred\"], [\"number\", \"Forsa_pred\"], [\"number\", \"INSA_pred\"], [\"number\", \"FGW_pred\"], [\"number\", \"GMS_pred\"], [\"number\", \"sum_isna\"]],\n        columnOptions: [{\"width\": \"1px\", \"className\": \"index_column\"}],\n        rowsPerPage: 25,\n        helpUrl: \"https://colab.research.google.com/notebooks/data_table.ipynb\",\n        suppressOutputScrolling: true,\n        minimumWidth: undefined,\n      });\n    "
          },
          "metadata": {},
          "execution_count": 18
        }
      ]
    },
    {
      "cell_type": "code",
      "source": [
        "election_results_german_federal_states_df.info()"
      ],
      "metadata": {
        "colab": {
          "base_uri": "https://localhost:8080/"
        },
        "id": "Mf8R2ZVSqNEo",
        "outputId": "fb87fa8c-c2ff-4748-edfd-f8422d4fe8e2"
      },
      "execution_count": null,
      "outputs": [
        {
          "output_type": "stream",
          "name": "stdout",
          "text": [
            "<class 'pandas.core.frame.DataFrame'>\n",
            "RangeIndex: 42 entries, 0 to 41\n",
            "Data columns (total 12 columns):\n",
            " #   Column       Non-Null Count  Dtype  \n",
            "---  ------       --------------  -----  \n",
            " 0   Date         42 non-null     object \n",
            " 1   CDU          40 non-null     float64\n",
            " 2   SPD          42 non-null     float64\n",
            " 3   Die Gruenen  42 non-null     float64\n",
            " 4   CSU          2 non-null      float64\n",
            " 5   FDP          42 non-null     float64\n",
            " 6   Die Linke    42 non-null     float64\n",
            " 7   AfD          29 non-null     float64\n",
            " 8   FW           4 non-null      float64\n",
            " 9   bl           42 non-null     object \n",
            " 10  turnout      42 non-null     float64\n",
            " 11  Year         42 non-null     int64  \n",
            "dtypes: float64(9), int64(1), object(2)\n",
            "memory usage: 4.1+ KB\n"
          ]
        }
      ]
    },
    {
      "cell_type": "code",
      "source": [
        "election_results_german_federal_states_df.describe()"
      ],
      "metadata": {
        "colab": {
          "base_uri": "https://localhost:8080/",
          "height": 276
        },
        "id": "HpKlBIHpqWMt",
        "outputId": "55e12174-ad5f-427f-91d3-baa4dcbcbd7b"
      },
      "execution_count": null,
      "outputs": [
        {
          "output_type": "execute_result",
          "data": {
            "text/plain": [
              "             CDU        SPD  Die Gruenen        CSU        FDP  Die Linke  \\\n",
              "count  40.000000  42.000000    42.000000   2.000000  42.000000  42.000000   \n",
              "mean   28.357500  26.847619    12.652143  42.450000   5.900000   8.947619   \n",
              "std     8.152108  11.177312     7.115421   7.424621   2.566007   7.293941   \n",
              "min    11.200000   7.700000     4.000000  37.200000   1.200000   1.700000   \n",
              "25%    22.275000  20.000000     6.325000  39.825000   4.125000   3.025000   \n",
              "50%    29.150000  28.950000    11.250000  42.450000   5.850000   5.950000   \n",
              "75%    34.750000  35.675000    17.550000  45.075000   7.325000  12.525000   \n",
              "max    43.400000  48.400000    32.600000  47.700000  12.600000  31.000000   \n",
              "\n",
              "             AfD         FW    turnout         Year  \n",
              "count  29.000000   4.000000  42.000000    42.000000  \n",
              "mean   11.593103   7.350000  62.407143  2015.976190  \n",
              "std     7.002241   3.660146   5.842418     3.803003  \n",
              "min     4.100000   3.400000  49.200000  2010.000000  \n",
              "25%     6.100000   4.900000  59.750000  2012.250000  \n",
              "50%     9.700000   7.200000  62.400000  2016.000000  \n",
              "75%    15.100000   9.650000  65.125000  2019.000000  \n",
              "max    27.500000  11.600000  75.400000  2022.000000  "
            ],
            "text/html": [
              "\n",
              "  <div id=\"df-67b0d087-40e3-4348-b8f3-68d67c50c684\">\n",
              "    <div class=\"colab-df-container\">\n",
              "      <div>\n",
              "<style scoped>\n",
              "    .dataframe tbody tr th:only-of-type {\n",
              "        vertical-align: middle;\n",
              "    }\n",
              "\n",
              "    .dataframe tbody tr th {\n",
              "        vertical-align: top;\n",
              "    }\n",
              "\n",
              "    .dataframe thead th {\n",
              "        text-align: right;\n",
              "    }\n",
              "</style>\n",
              "<table border=\"1\" class=\"dataframe\">\n",
              "  <thead>\n",
              "    <tr style=\"text-align: right;\">\n",
              "      <th></th>\n",
              "      <th>CDU</th>\n",
              "      <th>SPD</th>\n",
              "      <th>Die Gruenen</th>\n",
              "      <th>CSU</th>\n",
              "      <th>FDP</th>\n",
              "      <th>Die Linke</th>\n",
              "      <th>AfD</th>\n",
              "      <th>FW</th>\n",
              "      <th>turnout</th>\n",
              "      <th>Year</th>\n",
              "    </tr>\n",
              "  </thead>\n",
              "  <tbody>\n",
              "    <tr>\n",
              "      <th>count</th>\n",
              "      <td>40.000000</td>\n",
              "      <td>42.000000</td>\n",
              "      <td>42.000000</td>\n",
              "      <td>2.000000</td>\n",
              "      <td>42.000000</td>\n",
              "      <td>42.000000</td>\n",
              "      <td>29.000000</td>\n",
              "      <td>4.000000</td>\n",
              "      <td>42.000000</td>\n",
              "      <td>42.000000</td>\n",
              "    </tr>\n",
              "    <tr>\n",
              "      <th>mean</th>\n",
              "      <td>28.357500</td>\n",
              "      <td>26.847619</td>\n",
              "      <td>12.652143</td>\n",
              "      <td>42.450000</td>\n",
              "      <td>5.900000</td>\n",
              "      <td>8.947619</td>\n",
              "      <td>11.593103</td>\n",
              "      <td>7.350000</td>\n",
              "      <td>62.407143</td>\n",
              "      <td>2015.976190</td>\n",
              "    </tr>\n",
              "    <tr>\n",
              "      <th>std</th>\n",
              "      <td>8.152108</td>\n",
              "      <td>11.177312</td>\n",
              "      <td>7.115421</td>\n",
              "      <td>7.424621</td>\n",
              "      <td>2.566007</td>\n",
              "      <td>7.293941</td>\n",
              "      <td>7.002241</td>\n",
              "      <td>3.660146</td>\n",
              "      <td>5.842418</td>\n",
              "      <td>3.803003</td>\n",
              "    </tr>\n",
              "    <tr>\n",
              "      <th>min</th>\n",
              "      <td>11.200000</td>\n",
              "      <td>7.700000</td>\n",
              "      <td>4.000000</td>\n",
              "      <td>37.200000</td>\n",
              "      <td>1.200000</td>\n",
              "      <td>1.700000</td>\n",
              "      <td>4.100000</td>\n",
              "      <td>3.400000</td>\n",
              "      <td>49.200000</td>\n",
              "      <td>2010.000000</td>\n",
              "    </tr>\n",
              "    <tr>\n",
              "      <th>25%</th>\n",
              "      <td>22.275000</td>\n",
              "      <td>20.000000</td>\n",
              "      <td>6.325000</td>\n",
              "      <td>39.825000</td>\n",
              "      <td>4.125000</td>\n",
              "      <td>3.025000</td>\n",
              "      <td>6.100000</td>\n",
              "      <td>4.900000</td>\n",
              "      <td>59.750000</td>\n",
              "      <td>2012.250000</td>\n",
              "    </tr>\n",
              "    <tr>\n",
              "      <th>50%</th>\n",
              "      <td>29.150000</td>\n",
              "      <td>28.950000</td>\n",
              "      <td>11.250000</td>\n",
              "      <td>42.450000</td>\n",
              "      <td>5.850000</td>\n",
              "      <td>5.950000</td>\n",
              "      <td>9.700000</td>\n",
              "      <td>7.200000</td>\n",
              "      <td>62.400000</td>\n",
              "      <td>2016.000000</td>\n",
              "    </tr>\n",
              "    <tr>\n",
              "      <th>75%</th>\n",
              "      <td>34.750000</td>\n",
              "      <td>35.675000</td>\n",
              "      <td>17.550000</td>\n",
              "      <td>45.075000</td>\n",
              "      <td>7.325000</td>\n",
              "      <td>12.525000</td>\n",
              "      <td>15.100000</td>\n",
              "      <td>9.650000</td>\n",
              "      <td>65.125000</td>\n",
              "      <td>2019.000000</td>\n",
              "    </tr>\n",
              "    <tr>\n",
              "      <th>max</th>\n",
              "      <td>43.400000</td>\n",
              "      <td>48.400000</td>\n",
              "      <td>32.600000</td>\n",
              "      <td>47.700000</td>\n",
              "      <td>12.600000</td>\n",
              "      <td>31.000000</td>\n",
              "      <td>27.500000</td>\n",
              "      <td>11.600000</td>\n",
              "      <td>75.400000</td>\n",
              "      <td>2022.000000</td>\n",
              "    </tr>\n",
              "  </tbody>\n",
              "</table>\n",
              "</div>\n",
              "      <button class=\"colab-df-convert\" onclick=\"convertToInteractive('df-67b0d087-40e3-4348-b8f3-68d67c50c684')\"\n",
              "              title=\"Convert this dataframe to an interactive table.\"\n",
              "              style=\"display:none;\">\n",
              "        \n",
              "  <svg xmlns=\"http://www.w3.org/2000/svg\" height=\"24px\"viewBox=\"0 0 24 24\"\n",
              "       width=\"24px\">\n",
              "    <path d=\"M0 0h24v24H0V0z\" fill=\"none\"/>\n",
              "    <path d=\"M18.56 5.44l.94 2.06.94-2.06 2.06-.94-2.06-.94-.94-2.06-.94 2.06-2.06.94zm-11 1L8.5 8.5l.94-2.06 2.06-.94-2.06-.94L8.5 2.5l-.94 2.06-2.06.94zm10 10l.94 2.06.94-2.06 2.06-.94-2.06-.94-.94-2.06-.94 2.06-2.06.94z\"/><path d=\"M17.41 7.96l-1.37-1.37c-.4-.4-.92-.59-1.43-.59-.52 0-1.04.2-1.43.59L10.3 9.45l-7.72 7.72c-.78.78-.78 2.05 0 2.83L4 21.41c.39.39.9.59 1.41.59.51 0 1.02-.2 1.41-.59l7.78-7.78 2.81-2.81c.8-.78.8-2.07 0-2.86zM5.41 20L4 18.59l7.72-7.72 1.47 1.35L5.41 20z\"/>\n",
              "  </svg>\n",
              "      </button>\n",
              "      \n",
              "  <style>\n",
              "    .colab-df-container {\n",
              "      display:flex;\n",
              "      flex-wrap:wrap;\n",
              "      gap: 12px;\n",
              "    }\n",
              "\n",
              "    .colab-df-convert {\n",
              "      background-color: #E8F0FE;\n",
              "      border: none;\n",
              "      border-radius: 50%;\n",
              "      cursor: pointer;\n",
              "      display: none;\n",
              "      fill: #1967D2;\n",
              "      height: 32px;\n",
              "      padding: 0 0 0 0;\n",
              "      width: 32px;\n",
              "    }\n",
              "\n",
              "    .colab-df-convert:hover {\n",
              "      background-color: #E2EBFA;\n",
              "      box-shadow: 0px 1px 2px rgba(60, 64, 67, 0.3), 0px 1px 3px 1px rgba(60, 64, 67, 0.15);\n",
              "      fill: #174EA6;\n",
              "    }\n",
              "\n",
              "    [theme=dark] .colab-df-convert {\n",
              "      background-color: #3B4455;\n",
              "      fill: #D2E3FC;\n",
              "    }\n",
              "\n",
              "    [theme=dark] .colab-df-convert:hover {\n",
              "      background-color: #434B5C;\n",
              "      box-shadow: 0px 1px 3px 1px rgba(0, 0, 0, 0.15);\n",
              "      filter: drop-shadow(0px 1px 2px rgba(0, 0, 0, 0.3));\n",
              "      fill: #FFFFFF;\n",
              "    }\n",
              "  </style>\n",
              "\n",
              "      <script>\n",
              "        const buttonEl =\n",
              "          document.querySelector('#df-67b0d087-40e3-4348-b8f3-68d67c50c684 button.colab-df-convert');\n",
              "        buttonEl.style.display =\n",
              "          google.colab.kernel.accessAllowed ? 'block' : 'none';\n",
              "\n",
              "        async function convertToInteractive(key) {\n",
              "          const element = document.querySelector('#df-67b0d087-40e3-4348-b8f3-68d67c50c684');\n",
              "          const dataTable =\n",
              "            await google.colab.kernel.invokeFunction('convertToInteractive',\n",
              "                                                     [key], {});\n",
              "          if (!dataTable) return;\n",
              "\n",
              "          const docLinkHtml = 'Like what you see? Visit the ' +\n",
              "            '<a target=\"_blank\" href=https://colab.research.google.com/notebooks/data_table.ipynb>data table notebook</a>'\n",
              "            + ' to learn more about interactive tables.';\n",
              "          element.innerHTML = '';\n",
              "          dataTable['output_type'] = 'display_data';\n",
              "          await google.colab.output.renderOutput(dataTable, element);\n",
              "          const docLink = document.createElement('div');\n",
              "          docLink.innerHTML = docLinkHtml;\n",
              "          element.appendChild(docLink);\n",
              "        }\n",
              "      </script>\n",
              "    </div>\n",
              "  </div>\n",
              "  "
            ],
            "application/vnd.google.colaboratory.module+javascript": "\n      import \"https://ssl.gstatic.com/colaboratory/data_table/f872b2c2305463fd/data_table.js\";\n\n      window.createDataTable({\n        data: [[\"count\",\n{\n            'v': 40.0,\n            'f': \"40.0\",\n        },\n{\n            'v': 42.0,\n            'f': \"42.0\",\n        },\n{\n            'v': 42.0,\n            'f': \"42.0\",\n        },\n{\n            'v': 2.0,\n            'f': \"2.0\",\n        },\n{\n            'v': 42.0,\n            'f': \"42.0\",\n        },\n{\n            'v': 42.0,\n            'f': \"42.0\",\n        },\n{\n            'v': 29.0,\n            'f': \"29.0\",\n        },\n{\n            'v': 4.0,\n            'f': \"4.0\",\n        },\n{\n            'v': 42.0,\n            'f': \"42.0\",\n        },\n{\n            'v': 42.0,\n            'f': \"42.0\",\n        }],\n [\"mean\",\n{\n            'v': 28.357499999999995,\n            'f': \"28.357499999999995\",\n        },\n{\n            'v': 26.847619047619055,\n            'f': \"26.847619047619055\",\n        },\n{\n            'v': 12.65214285714286,\n            'f': \"12.65214285714286\",\n        },\n{\n            'v': 42.45,\n            'f': \"42.45\",\n        },\n{\n            'v': 5.9,\n            'f': \"5.9\",\n        },\n{\n            'v': 8.947619047619051,\n            'f': \"8.947619047619051\",\n        },\n{\n            'v': 11.593103448275864,\n            'f': \"11.593103448275864\",\n        },\n{\n            'v': 7.35,\n            'f': \"7.35\",\n        },\n{\n            'v': 62.407142857142865,\n            'f': \"62.407142857142865\",\n        },\n{\n            'v': 2015.9761904761904,\n            'f': \"2015.9761904761904\",\n        }],\n [\"std\",\n{\n            'v': 8.152108033178619,\n            'f': \"8.152108033178619\",\n        },\n{\n            'v': 11.177312345370412,\n            'f': \"11.177312345370412\",\n        },\n{\n            'v': 7.115421087144932,\n            'f': \"7.115421087144932\",\n        },\n{\n            'v': 7.424621202458749,\n            'f': \"7.424621202458749\",\n        },\n{\n            'v': 2.5660066726145585,\n            'f': \"2.5660066726145585\",\n        },\n{\n            'v': 7.293941291143817,\n            'f': \"7.293941291143817\",\n        },\n{\n            'v': 7.002241020583685,\n            'f': \"7.002241020583685\",\n        },\n{\n            'v': 3.6601457165892546,\n            'f': \"3.6601457165892546\",\n        },\n{\n            'v': 5.842418178649661,\n            'f': \"5.842418178649661\",\n        },\n{\n            'v': 3.8030032755775305,\n            'f': \"3.8030032755775305\",\n        }],\n [\"min\",\n{\n            'v': 11.2,\n            'f': \"11.2\",\n        },\n{\n            'v': 7.7,\n            'f': \"7.7\",\n        },\n{\n            'v': 4.0,\n            'f': \"4.0\",\n        },\n{\n            'v': 37.2,\n            'f': \"37.2\",\n        },\n{\n            'v': 1.2,\n            'f': \"1.2\",\n        },\n{\n            'v': 1.7,\n            'f': \"1.7\",\n        },\n{\n            'v': 4.1,\n            'f': \"4.1\",\n        },\n{\n            'v': 3.4,\n            'f': \"3.4\",\n        },\n{\n            'v': 49.2,\n            'f': \"49.2\",\n        },\n{\n            'v': 2010.0,\n            'f': \"2010.0\",\n        }],\n [\"25%\",\n{\n            'v': 22.275,\n            'f': \"22.275\",\n        },\n{\n            'v': 20.0,\n            'f': \"20.0\",\n        },\n{\n            'v': 6.325,\n            'f': \"6.325\",\n        },\n{\n            'v': 39.825,\n            'f': \"39.825\",\n        },\n{\n            'v': 4.125,\n            'f': \"4.125\",\n        },\n{\n            'v': 3.025,\n            'f': \"3.025\",\n        },\n{\n            'v': 6.1,\n            'f': \"6.1\",\n        },\n{\n            'v': 4.9,\n            'f': \"4.9\",\n        },\n{\n            'v': 59.75,\n            'f': \"59.75\",\n        },\n{\n            'v': 2012.25,\n            'f': \"2012.25\",\n        }],\n [\"50%\",\n{\n            'v': 29.15,\n            'f': \"29.15\",\n        },\n{\n            'v': 28.950000000000003,\n            'f': \"28.950000000000003\",\n        },\n{\n            'v': 11.25,\n            'f': \"11.25\",\n        },\n{\n            'v': 42.45,\n            'f': \"42.45\",\n        },\n{\n            'v': 5.85,\n            'f': \"5.85\",\n        },\n{\n            'v': 5.949999999999999,\n            'f': \"5.949999999999999\",\n        },\n{\n            'v': 9.7,\n            'f': \"9.7\",\n        },\n{\n            'v': 7.2,\n            'f': \"7.2\",\n        },\n{\n            'v': 62.4,\n            'f': \"62.4\",\n        },\n{\n            'v': 2016.0,\n            'f': \"2016.0\",\n        }],\n [\"75%\",\n{\n            'v': 34.75,\n            'f': \"34.75\",\n        },\n{\n            'v': 35.675000000000004,\n            'f': \"35.675000000000004\",\n        },\n{\n            'v': 17.55,\n            'f': \"17.55\",\n        },\n{\n            'v': 45.075,\n            'f': \"45.075\",\n        },\n{\n            'v': 7.325,\n            'f': \"7.325\",\n        },\n{\n            'v': 12.525,\n            'f': \"12.525\",\n        },\n{\n            'v': 15.1,\n            'f': \"15.1\",\n        },\n{\n            'v': 9.65,\n            'f': \"9.65\",\n        },\n{\n            'v': 65.125,\n            'f': \"65.125\",\n        },\n{\n            'v': 2019.0,\n            'f': \"2019.0\",\n        }],\n [\"max\",\n{\n            'v': 43.4,\n            'f': \"43.4\",\n        },\n{\n            'v': 48.4,\n            'f': \"48.4\",\n        },\n{\n            'v': 32.6,\n            'f': \"32.6\",\n        },\n{\n            'v': 47.7,\n            'f': \"47.7\",\n        },\n{\n            'v': 12.6,\n            'f': \"12.6\",\n        },\n{\n            'v': 31.0,\n            'f': \"31.0\",\n        },\n{\n            'v': 27.5,\n            'f': \"27.5\",\n        },\n{\n            'v': 11.6,\n            'f': \"11.6\",\n        },\n{\n            'v': 75.4,\n            'f': \"75.4\",\n        },\n{\n            'v': 2022.0,\n            'f': \"2022.0\",\n        }]],\n        columns: [[\"string\", \"index\"], [\"number\", \"CDU\"], [\"number\", \"SPD\"], [\"number\", \"Die Gruenen\"], [\"number\", \"CSU\"], [\"number\", \"FDP\"], [\"number\", \"Die Linke\"], [\"number\", \"AfD\"], [\"number\", \"FW\"], [\"number\", \"turnout\"], [\"number\", \"Year\"]],\n        columnOptions: [{\"width\": \"1px\", \"className\": \"index_column\"}],\n        rowsPerPage: 25,\n        helpUrl: \"https://colab.research.google.com/notebooks/data_table.ipynb\",\n        suppressOutputScrolling: true,\n        minimumWidth: undefined,\n      });\n    "
          },
          "metadata": {},
          "execution_count": 20
        }
      ]
    },
    {
      "cell_type": "code",
      "source": [
        "federal_elections_germany_survey_df.info()"
      ],
      "metadata": {
        "colab": {
          "base_uri": "https://localhost:8080/"
        },
        "id": "wDxBb2A8qX9i",
        "outputId": "2702fda6-41f5-4882-db44-fb2a129861af"
      },
      "execution_count": null,
      "outputs": [
        {
          "output_type": "stream",
          "name": "stdout",
          "text": [
            "<class 'pandas.core.frame.DataFrame'>\n",
            "RangeIndex: 760 entries, 0 to 759\n",
            "Data columns (total 18 columns):\n",
            " #   Column     Non-Null Count  Dtype  \n",
            "---  ------     --------------  -----  \n",
            " 0   institute  760 non-null    object \n",
            " 1   client     760 non-null    object \n",
            " 2   date       760 non-null    object \n",
            " 3   CDU        680 non-null    float64\n",
            " 4   SPD        760 non-null    float64\n",
            " 5   GRÜNE      760 non-null    float64\n",
            " 6   FDP        693 non-null    float64\n",
            " 7   LINKE      747 non-null    float64\n",
            " 8   AfD        691 non-null    float64\n",
            " 9   Sonstige   745 non-null    float64\n",
            " 10  state      760 non-null    object \n",
            " 11  CSU        80 non-null     float64\n",
            " 12  FW         110 non-null    float64\n",
            " 13  PIRATEN    111 non-null    float64\n",
            " 14  NPD        12 non-null     float64\n",
            " 15  SSW        24 non-null     float64\n",
            " 16  method     760 non-null    object \n",
            " 17  timeframe  760 non-null    object \n",
            "dtypes: float64(12), object(6)\n",
            "memory usage: 107.0+ KB\n"
          ]
        }
      ]
    },
    {
      "cell_type": "code",
      "source": [
        "federal_elections_germany_survey_df.describe()"
      ],
      "metadata": {
        "colab": {
          "base_uri": "https://localhost:8080/",
          "height": 276
        },
        "id": "qtKMUINGqcZ2",
        "outputId": "37c7ada1-0807-4d32-ae00-7da3c5886e5e"
      },
      "execution_count": null,
      "outputs": [
        {
          "output_type": "execute_result",
          "data": {
            "text/plain": [
              "              CDU         SPD       GRÜNE         FDP       LINKE         AfD  \\\n",
              "count  680.000000  760.000000  760.000000  693.000000  747.000000  691.000000   \n",
              "mean    26.771471   23.151711   14.669079    6.167532   11.060107   11.130825   \n",
              "std      6.703610    9.497547    7.133761    2.404596    7.861517    5.926105   \n",
              "min     12.000000    6.000000    4.000000    1.000000    2.000000    2.000000   \n",
              "25%     22.000000   15.900000    9.000000    5.000000    4.000000    7.000000   \n",
              "50%     27.000000   23.000000   14.000000    6.000000    9.000000   10.000000   \n",
              "75%     32.000000   30.000000   19.000000    8.000000   16.000000   13.500000   \n",
              "max     43.000000   52.000000   38.000000   16.000000   40.000000   28.000000   \n",
              "\n",
              "         Sonstige        CSU          FW     PIRATEN        NPD        SSW  \n",
              "count  745.000000  80.000000  110.000000  111.000000  12.000000  24.000000  \n",
              "mean     5.365369  42.006250    6.531818    4.864865   3.358333   3.708333  \n",
              "std      2.053657   5.080674    2.496123    3.488908   1.101617   0.858673  \n",
              "min      0.200000  32.000000    2.000000    1.000000   1.300000   3.000000  \n",
              "25%      4.000000  37.750000    5.000000    3.000000   3.000000   3.000000  \n",
              "50%      5.000000  42.500000    6.000000    4.000000   3.000000   3.500000  \n",
              "75%      7.000000  47.000000    8.000000    5.500000   4.000000   4.000000  \n",
              "max     13.000000  49.000000   13.000000   15.000000   5.000000   6.000000  "
            ],
            "text/html": [
              "\n",
              "  <div id=\"df-97ea5db3-a20e-4bb4-92c6-aa26ba9ad1c1\">\n",
              "    <div class=\"colab-df-container\">\n",
              "      <div>\n",
              "<style scoped>\n",
              "    .dataframe tbody tr th:only-of-type {\n",
              "        vertical-align: middle;\n",
              "    }\n",
              "\n",
              "    .dataframe tbody tr th {\n",
              "        vertical-align: top;\n",
              "    }\n",
              "\n",
              "    .dataframe thead th {\n",
              "        text-align: right;\n",
              "    }\n",
              "</style>\n",
              "<table border=\"1\" class=\"dataframe\">\n",
              "  <thead>\n",
              "    <tr style=\"text-align: right;\">\n",
              "      <th></th>\n",
              "      <th>CDU</th>\n",
              "      <th>SPD</th>\n",
              "      <th>GRÜNE</th>\n",
              "      <th>FDP</th>\n",
              "      <th>LINKE</th>\n",
              "      <th>AfD</th>\n",
              "      <th>Sonstige</th>\n",
              "      <th>CSU</th>\n",
              "      <th>FW</th>\n",
              "      <th>PIRATEN</th>\n",
              "      <th>NPD</th>\n",
              "      <th>SSW</th>\n",
              "    </tr>\n",
              "  </thead>\n",
              "  <tbody>\n",
              "    <tr>\n",
              "      <th>count</th>\n",
              "      <td>680.000000</td>\n",
              "      <td>760.000000</td>\n",
              "      <td>760.000000</td>\n",
              "      <td>693.000000</td>\n",
              "      <td>747.000000</td>\n",
              "      <td>691.000000</td>\n",
              "      <td>745.000000</td>\n",
              "      <td>80.000000</td>\n",
              "      <td>110.000000</td>\n",
              "      <td>111.000000</td>\n",
              "      <td>12.000000</td>\n",
              "      <td>24.000000</td>\n",
              "    </tr>\n",
              "    <tr>\n",
              "      <th>mean</th>\n",
              "      <td>26.771471</td>\n",
              "      <td>23.151711</td>\n",
              "      <td>14.669079</td>\n",
              "      <td>6.167532</td>\n",
              "      <td>11.060107</td>\n",
              "      <td>11.130825</td>\n",
              "      <td>5.365369</td>\n",
              "      <td>42.006250</td>\n",
              "      <td>6.531818</td>\n",
              "      <td>4.864865</td>\n",
              "      <td>3.358333</td>\n",
              "      <td>3.708333</td>\n",
              "    </tr>\n",
              "    <tr>\n",
              "      <th>std</th>\n",
              "      <td>6.703610</td>\n",
              "      <td>9.497547</td>\n",
              "      <td>7.133761</td>\n",
              "      <td>2.404596</td>\n",
              "      <td>7.861517</td>\n",
              "      <td>5.926105</td>\n",
              "      <td>2.053657</td>\n",
              "      <td>5.080674</td>\n",
              "      <td>2.496123</td>\n",
              "      <td>3.488908</td>\n",
              "      <td>1.101617</td>\n",
              "      <td>0.858673</td>\n",
              "    </tr>\n",
              "    <tr>\n",
              "      <th>min</th>\n",
              "      <td>12.000000</td>\n",
              "      <td>6.000000</td>\n",
              "      <td>4.000000</td>\n",
              "      <td>1.000000</td>\n",
              "      <td>2.000000</td>\n",
              "      <td>2.000000</td>\n",
              "      <td>0.200000</td>\n",
              "      <td>32.000000</td>\n",
              "      <td>2.000000</td>\n",
              "      <td>1.000000</td>\n",
              "      <td>1.300000</td>\n",
              "      <td>3.000000</td>\n",
              "    </tr>\n",
              "    <tr>\n",
              "      <th>25%</th>\n",
              "      <td>22.000000</td>\n",
              "      <td>15.900000</td>\n",
              "      <td>9.000000</td>\n",
              "      <td>5.000000</td>\n",
              "      <td>4.000000</td>\n",
              "      <td>7.000000</td>\n",
              "      <td>4.000000</td>\n",
              "      <td>37.750000</td>\n",
              "      <td>5.000000</td>\n",
              "      <td>3.000000</td>\n",
              "      <td>3.000000</td>\n",
              "      <td>3.000000</td>\n",
              "    </tr>\n",
              "    <tr>\n",
              "      <th>50%</th>\n",
              "      <td>27.000000</td>\n",
              "      <td>23.000000</td>\n",
              "      <td>14.000000</td>\n",
              "      <td>6.000000</td>\n",
              "      <td>9.000000</td>\n",
              "      <td>10.000000</td>\n",
              "      <td>5.000000</td>\n",
              "      <td>42.500000</td>\n",
              "      <td>6.000000</td>\n",
              "      <td>4.000000</td>\n",
              "      <td>3.000000</td>\n",
              "      <td>3.500000</td>\n",
              "    </tr>\n",
              "    <tr>\n",
              "      <th>75%</th>\n",
              "      <td>32.000000</td>\n",
              "      <td>30.000000</td>\n",
              "      <td>19.000000</td>\n",
              "      <td>8.000000</td>\n",
              "      <td>16.000000</td>\n",
              "      <td>13.500000</td>\n",
              "      <td>7.000000</td>\n",
              "      <td>47.000000</td>\n",
              "      <td>8.000000</td>\n",
              "      <td>5.500000</td>\n",
              "      <td>4.000000</td>\n",
              "      <td>4.000000</td>\n",
              "    </tr>\n",
              "    <tr>\n",
              "      <th>max</th>\n",
              "      <td>43.000000</td>\n",
              "      <td>52.000000</td>\n",
              "      <td>38.000000</td>\n",
              "      <td>16.000000</td>\n",
              "      <td>40.000000</td>\n",
              "      <td>28.000000</td>\n",
              "      <td>13.000000</td>\n",
              "      <td>49.000000</td>\n",
              "      <td>13.000000</td>\n",
              "      <td>15.000000</td>\n",
              "      <td>5.000000</td>\n",
              "      <td>6.000000</td>\n",
              "    </tr>\n",
              "  </tbody>\n",
              "</table>\n",
              "</div>\n",
              "      <button class=\"colab-df-convert\" onclick=\"convertToInteractive('df-97ea5db3-a20e-4bb4-92c6-aa26ba9ad1c1')\"\n",
              "              title=\"Convert this dataframe to an interactive table.\"\n",
              "              style=\"display:none;\">\n",
              "        \n",
              "  <svg xmlns=\"http://www.w3.org/2000/svg\" height=\"24px\"viewBox=\"0 0 24 24\"\n",
              "       width=\"24px\">\n",
              "    <path d=\"M0 0h24v24H0V0z\" fill=\"none\"/>\n",
              "    <path d=\"M18.56 5.44l.94 2.06.94-2.06 2.06-.94-2.06-.94-.94-2.06-.94 2.06-2.06.94zm-11 1L8.5 8.5l.94-2.06 2.06-.94-2.06-.94L8.5 2.5l-.94 2.06-2.06.94zm10 10l.94 2.06.94-2.06 2.06-.94-2.06-.94-.94-2.06-.94 2.06-2.06.94z\"/><path d=\"M17.41 7.96l-1.37-1.37c-.4-.4-.92-.59-1.43-.59-.52 0-1.04.2-1.43.59L10.3 9.45l-7.72 7.72c-.78.78-.78 2.05 0 2.83L4 21.41c.39.39.9.59 1.41.59.51 0 1.02-.2 1.41-.59l7.78-7.78 2.81-2.81c.8-.78.8-2.07 0-2.86zM5.41 20L4 18.59l7.72-7.72 1.47 1.35L5.41 20z\"/>\n",
              "  </svg>\n",
              "      </button>\n",
              "      \n",
              "  <style>\n",
              "    .colab-df-container {\n",
              "      display:flex;\n",
              "      flex-wrap:wrap;\n",
              "      gap: 12px;\n",
              "    }\n",
              "\n",
              "    .colab-df-convert {\n",
              "      background-color: #E8F0FE;\n",
              "      border: none;\n",
              "      border-radius: 50%;\n",
              "      cursor: pointer;\n",
              "      display: none;\n",
              "      fill: #1967D2;\n",
              "      height: 32px;\n",
              "      padding: 0 0 0 0;\n",
              "      width: 32px;\n",
              "    }\n",
              "\n",
              "    .colab-df-convert:hover {\n",
              "      background-color: #E2EBFA;\n",
              "      box-shadow: 0px 1px 2px rgba(60, 64, 67, 0.3), 0px 1px 3px 1px rgba(60, 64, 67, 0.15);\n",
              "      fill: #174EA6;\n",
              "    }\n",
              "\n",
              "    [theme=dark] .colab-df-convert {\n",
              "      background-color: #3B4455;\n",
              "      fill: #D2E3FC;\n",
              "    }\n",
              "\n",
              "    [theme=dark] .colab-df-convert:hover {\n",
              "      background-color: #434B5C;\n",
              "      box-shadow: 0px 1px 3px 1px rgba(0, 0, 0, 0.15);\n",
              "      filter: drop-shadow(0px 1px 2px rgba(0, 0, 0, 0.3));\n",
              "      fill: #FFFFFF;\n",
              "    }\n",
              "  </style>\n",
              "\n",
              "      <script>\n",
              "        const buttonEl =\n",
              "          document.querySelector('#df-97ea5db3-a20e-4bb4-92c6-aa26ba9ad1c1 button.colab-df-convert');\n",
              "        buttonEl.style.display =\n",
              "          google.colab.kernel.accessAllowed ? 'block' : 'none';\n",
              "\n",
              "        async function convertToInteractive(key) {\n",
              "          const element = document.querySelector('#df-97ea5db3-a20e-4bb4-92c6-aa26ba9ad1c1');\n",
              "          const dataTable =\n",
              "            await google.colab.kernel.invokeFunction('convertToInteractive',\n",
              "                                                     [key], {});\n",
              "          if (!dataTable) return;\n",
              "\n",
              "          const docLinkHtml = 'Like what you see? Visit the ' +\n",
              "            '<a target=\"_blank\" href=https://colab.research.google.com/notebooks/data_table.ipynb>data table notebook</a>'\n",
              "            + ' to learn more about interactive tables.';\n",
              "          element.innerHTML = '';\n",
              "          dataTable['output_type'] = 'display_data';\n",
              "          await google.colab.output.renderOutput(dataTable, element);\n",
              "          const docLink = document.createElement('div');\n",
              "          docLink.innerHTML = docLinkHtml;\n",
              "          element.appendChild(docLink);\n",
              "        }\n",
              "      </script>\n",
              "    </div>\n",
              "  </div>\n",
              "  "
            ],
            "application/vnd.google.colaboratory.module+javascript": "\n      import \"https://ssl.gstatic.com/colaboratory/data_table/f872b2c2305463fd/data_table.js\";\n\n      window.createDataTable({\n        data: [[\"count\",\n{\n            'v': 680.0,\n            'f': \"680.0\",\n        },\n{\n            'v': 760.0,\n            'f': \"760.0\",\n        },\n{\n            'v': 760.0,\n            'f': \"760.0\",\n        },\n{\n            'v': 693.0,\n            'f': \"693.0\",\n        },\n{\n            'v': 747.0,\n            'f': \"747.0\",\n        },\n{\n            'v': 691.0,\n            'f': \"691.0\",\n        },\n{\n            'v': 745.0,\n            'f': \"745.0\",\n        },\n{\n            'v': 80.0,\n            'f': \"80.0\",\n        },\n{\n            'v': 110.0,\n            'f': \"110.0\",\n        },\n{\n            'v': 111.0,\n            'f': \"111.0\",\n        },\n{\n            'v': 12.0,\n            'f': \"12.0\",\n        },\n{\n            'v': 24.0,\n            'f': \"24.0\",\n        }],\n [\"mean\",\n{\n            'v': 26.771470588235296,\n            'f': \"26.771470588235296\",\n        },\n{\n            'v': 23.151710526315792,\n            'f': \"23.151710526315792\",\n        },\n{\n            'v': 14.66907894736842,\n            'f': \"14.66907894736842\",\n        },\n{\n            'v': 6.167532467532468,\n            'f': \"6.167532467532468\",\n        },\n{\n            'v': 11.060107095046856,\n            'f': \"11.060107095046856\",\n        },\n{\n            'v': 11.13082489146165,\n            'f': \"11.13082489146165\",\n        },\n{\n            'v': 5.365369127516778,\n            'f': \"5.365369127516778\",\n        },\n{\n            'v': 42.00625,\n            'f': \"42.00625\",\n        },\n{\n            'v': 6.531818181818182,\n            'f': \"6.531818181818182\",\n        },\n{\n            'v': 4.864864864864865,\n            'f': \"4.864864864864865\",\n        },\n{\n            'v': 3.358333333333333,\n            'f': \"3.358333333333333\",\n        },\n{\n            'v': 3.7083333333333335,\n            'f': \"3.7083333333333335\",\n        }],\n [\"std\",\n{\n            'v': 6.70361019054378,\n            'f': \"6.70361019054378\",\n        },\n{\n            'v': 9.497546855885002,\n            'f': \"9.497546855885002\",\n        },\n{\n            'v': 7.133760901872857,\n            'f': \"7.133760901872857\",\n        },\n{\n            'v': 2.4045956363100007,\n            'f': \"2.4045956363100007\",\n        },\n{\n            'v': 7.8615168153041,\n            'f': \"7.8615168153041\",\n        },\n{\n            'v': 5.926104548155505,\n            'f': \"5.926104548155505\",\n        },\n{\n            'v': 2.0536574125524467,\n            'f': \"2.0536574125524467\",\n        },\n{\n            'v': 5.08067432357935,\n            'f': \"5.08067432357935\",\n        },\n{\n            'v': 2.496122931950571,\n            'f': \"2.496122931950571\",\n        },\n{\n            'v': 3.488908364013246,\n            'f': \"3.488908364013246\",\n        },\n{\n            'v': 1.101617268410679,\n            'f': \"1.101617268410679\",\n        },\n{\n            'v': 0.8586727202955209,\n            'f': \"0.8586727202955209\",\n        }],\n [\"min\",\n{\n            'v': 12.0,\n            'f': \"12.0\",\n        },\n{\n            'v': 6.0,\n            'f': \"6.0\",\n        },\n{\n            'v': 4.0,\n            'f': \"4.0\",\n        },\n{\n            'v': 1.0,\n            'f': \"1.0\",\n        },\n{\n            'v': 2.0,\n            'f': \"2.0\",\n        },\n{\n            'v': 2.0,\n            'f': \"2.0\",\n        },\n{\n            'v': 0.2,\n            'f': \"0.2\",\n        },\n{\n            'v': 32.0,\n            'f': \"32.0\",\n        },\n{\n            'v': 2.0,\n            'f': \"2.0\",\n        },\n{\n            'v': 1.0,\n            'f': \"1.0\",\n        },\n{\n            'v': 1.3,\n            'f': \"1.3\",\n        },\n{\n            'v': 3.0,\n            'f': \"3.0\",\n        }],\n [\"25%\",\n{\n            'v': 22.0,\n            'f': \"22.0\",\n        },\n{\n            'v': 15.9,\n            'f': \"15.9\",\n        },\n{\n            'v': 9.0,\n            'f': \"9.0\",\n        },\n{\n            'v': 5.0,\n            'f': \"5.0\",\n        },\n{\n            'v': 4.0,\n            'f': \"4.0\",\n        },\n{\n            'v': 7.0,\n            'f': \"7.0\",\n        },\n{\n            'v': 4.0,\n            'f': \"4.0\",\n        },\n{\n            'v': 37.75,\n            'f': \"37.75\",\n        },\n{\n            'v': 5.0,\n            'f': \"5.0\",\n        },\n{\n            'v': 3.0,\n            'f': \"3.0\",\n        },\n{\n            'v': 3.0,\n            'f': \"3.0\",\n        },\n{\n            'v': 3.0,\n            'f': \"3.0\",\n        }],\n [\"50%\",\n{\n            'v': 27.0,\n            'f': \"27.0\",\n        },\n{\n            'v': 23.0,\n            'f': \"23.0\",\n        },\n{\n            'v': 14.0,\n            'f': \"14.0\",\n        },\n{\n            'v': 6.0,\n            'f': \"6.0\",\n        },\n{\n            'v': 9.0,\n            'f': \"9.0\",\n        },\n{\n            'v': 10.0,\n            'f': \"10.0\",\n        },\n{\n            'v': 5.0,\n            'f': \"5.0\",\n        },\n{\n            'v': 42.5,\n            'f': \"42.5\",\n        },\n{\n            'v': 6.0,\n            'f': \"6.0\",\n        },\n{\n            'v': 4.0,\n            'f': \"4.0\",\n        },\n{\n            'v': 3.0,\n            'f': \"3.0\",\n        },\n{\n            'v': 3.5,\n            'f': \"3.5\",\n        }],\n [\"75%\",\n{\n            'v': 32.0,\n            'f': \"32.0\",\n        },\n{\n            'v': 30.0,\n            'f': \"30.0\",\n        },\n{\n            'v': 19.0,\n            'f': \"19.0\",\n        },\n{\n            'v': 8.0,\n            'f': \"8.0\",\n        },\n{\n            'v': 16.0,\n            'f': \"16.0\",\n        },\n{\n            'v': 13.5,\n            'f': \"13.5\",\n        },\n{\n            'v': 7.0,\n            'f': \"7.0\",\n        },\n{\n            'v': 47.0,\n            'f': \"47.0\",\n        },\n{\n            'v': 8.0,\n            'f': \"8.0\",\n        },\n{\n            'v': 5.5,\n            'f': \"5.5\",\n        },\n{\n            'v': 4.0,\n            'f': \"4.0\",\n        },\n{\n            'v': 4.0,\n            'f': \"4.0\",\n        }],\n [\"max\",\n{\n            'v': 43.0,\n            'f': \"43.0\",\n        },\n{\n            'v': 52.0,\n            'f': \"52.0\",\n        },\n{\n            'v': 38.0,\n            'f': \"38.0\",\n        },\n{\n            'v': 16.0,\n            'f': \"16.0\",\n        },\n{\n            'v': 40.0,\n            'f': \"40.0\",\n        },\n{\n            'v': 28.0,\n            'f': \"28.0\",\n        },\n{\n            'v': 13.0,\n            'f': \"13.0\",\n        },\n{\n            'v': 49.0,\n            'f': \"49.0\",\n        },\n{\n            'v': 13.0,\n            'f': \"13.0\",\n        },\n{\n            'v': 15.0,\n            'f': \"15.0\",\n        },\n{\n            'v': 5.0,\n            'f': \"5.0\",\n        },\n{\n            'v': 6.0,\n            'f': \"6.0\",\n        }]],\n        columns: [[\"string\", \"index\"], [\"number\", \"CDU\"], [\"number\", \"SPD\"], [\"number\", \"GR\\u00dcNE\"], [\"number\", \"FDP\"], [\"number\", \"LINKE\"], [\"number\", \"AfD\"], [\"number\", \"Sonstige\"], [\"number\", \"CSU\"], [\"number\", \"FW\"], [\"number\", \"PIRATEN\"], [\"number\", \"NPD\"], [\"number\", \"SSW\"]],\n        columnOptions: [{\"width\": \"1px\", \"className\": \"index_column\"}],\n        rowsPerPage: 25,\n        helpUrl: \"https://colab.research.google.com/notebooks/data_table.ipynb\",\n        suppressOutputScrolling: true,\n        minimumWidth: undefined,\n      });\n    "
          },
          "metadata": {},
          "execution_count": 22
        }
      ]
    },
    {
      "cell_type": "markdown",
      "source": [
        "## ***data cleanup***"
      ],
      "metadata": {
        "id": "OQ1w3F2pqeTR"
      }
    },
    {
      "cell_type": "code",
      "source": [
        "# dropping columns with too much null-values\n",
        "# NOTE: there is change in data\n",
        "\n",
        "train_df_mod=train_df.drop(['GMS_pred','GMS_method','GMS_dist'],axis=1)\n"
      ],
      "metadata": {
        "id": "clwUSk7VsF8j"
      },
      "execution_count": null,
      "outputs": []
    },
    {
      "cell_type": "code",
      "source": [
        "election_results_german_federal_states_df_mod=election_results_german_federal_states_df.drop(['CSU','FW'],axis=1)"
      ],
      "metadata": {
        "id": "Cal9lTJNtEmU"
      },
      "execution_count": null,
      "outputs": []
    },
    {
      "cell_type": "code",
      "source": [
        "federal_elections_germany_survey_df_mod=federal_elections_germany_survey_df.drop(['NPD'],axis=1)"
      ],
      "metadata": {
        "id": "25J-YKNcudH1"
      },
      "execution_count": null,
      "outputs": []
    },
    {
      "cell_type": "code",
      "source": [
        "# dropping columns with little variance in data\n",
        "\n",
        "from sklearn.feature_selection import VarianceThreshold\n",
        "var_thres_train=VarianceThreshold(threshold=0)\n",
        "var_thres_election=VarianceThreshold(threshold=0)\n",
        "var_thres_federal=VarianceThreshold(threshold=0)\n",
        "\n",
        "var_thres_train.fit(train_df_mod[[\"result\",\"turnout\",\"dimap_pred\",\"FGW_pred\"]])\n",
        "\n",
        "var_thres_election.fit(election_results_german_federal_states_df_mod[[\"CDU\",\"SPD\",\"Die Gruenen\",\"FDP\",\"Die Linke\",\"AfD\"]])\n",
        "\n",
        "var_thres_federal.fit(federal_elections_germany_survey_df_mod[[\"CDU\",\"SPD\",\"GRÜNE\",\"FDP\",\"LINKE\",\"AfD\",\"Sonstige\"]])"
      ],
      "metadata": {
        "colab": {
          "base_uri": "https://localhost:8080/"
        },
        "id": "7AA9LcQmw65W",
        "outputId": "99fa91f4-4bdb-4424-96cb-9e4ef5e54f51"
      },
      "execution_count": null,
      "outputs": [
        {
          "output_type": "execute_result",
          "data": {
            "text/plain": [
              "VarianceThreshold(threshold=0)"
            ]
          },
          "metadata": {},
          "execution_count": 26
        }
      ]
    },
    {
      "cell_type": "code",
      "source": [
        "var_thres_train.get_support()"
      ],
      "metadata": {
        "colab": {
          "base_uri": "https://localhost:8080/"
        },
        "id": "jjpP5Tc9lTld",
        "outputId": "044641b3-6310-45a4-9e7a-7db3e38ca2d3"
      },
      "execution_count": null,
      "outputs": [
        {
          "output_type": "execute_result",
          "data": {
            "text/plain": [
              "array([ True,  True,  True,  True])"
            ]
          },
          "metadata": {},
          "execution_count": 27
        }
      ]
    },
    {
      "cell_type": "code",
      "source": [
        "train_df_mod[[\"result\",\"turnout\",\"dimap_pred\",\"FGW_pred\"]]"
      ],
      "metadata": {
        "colab": {
          "base_uri": "https://localhost:8080/",
          "height": 637
        },
        "id": "lo9twoDfjfcQ",
        "outputId": "b866469a-cf30-4ddc-8d24-d9426b01186a"
      },
      "execution_count": null,
      "outputs": [
        {
          "output_type": "execute_result",
          "data": {
            "text/plain": [
              "     result  turnout  dimap_pred  FGW_pred\n",
              "0      16.0     60.4        19.0      18.0\n",
              "1       6.4     60.4         9.0       8.0\n",
              "2      43.4     60.4        38.0      38.0\n",
              "3      18.3     60.4        16.0      18.0\n",
              "4       4.4     60.4         5.0       6.0\n",
              "..      ...      ...         ...       ...\n",
              "123    12.4     52.7         NaN       NaN\n",
              "124     2.5     52.7         NaN       NaN\n",
              "125    33.5     52.7         NaN       NaN\n",
              "126     5.7     52.7         NaN       NaN\n",
              "127    10.6     52.7         NaN       NaN\n",
              "\n",
              "[128 rows x 4 columns]"
            ],
            "text/html": [
              "\n",
              "  <div id=\"df-b77a0893-e5af-4c90-aae0-735095dbb0df\">\n",
              "    <div class=\"colab-df-container\">\n",
              "      <div>\n",
              "<style scoped>\n",
              "    .dataframe tbody tr th:only-of-type {\n",
              "        vertical-align: middle;\n",
              "    }\n",
              "\n",
              "    .dataframe tbody tr th {\n",
              "        vertical-align: top;\n",
              "    }\n",
              "\n",
              "    .dataframe thead th {\n",
              "        text-align: right;\n",
              "    }\n",
              "</style>\n",
              "<table border=\"1\" class=\"dataframe\">\n",
              "  <thead>\n",
              "    <tr style=\"text-align: right;\">\n",
              "      <th></th>\n",
              "      <th>result</th>\n",
              "      <th>turnout</th>\n",
              "      <th>dimap_pred</th>\n",
              "      <th>FGW_pred</th>\n",
              "    </tr>\n",
              "  </thead>\n",
              "  <tbody>\n",
              "    <tr>\n",
              "      <th>0</th>\n",
              "      <td>16.0</td>\n",
              "      <td>60.4</td>\n",
              "      <td>19.0</td>\n",
              "      <td>18.0</td>\n",
              "    </tr>\n",
              "    <tr>\n",
              "      <th>1</th>\n",
              "      <td>6.4</td>\n",
              "      <td>60.4</td>\n",
              "      <td>9.0</td>\n",
              "      <td>8.0</td>\n",
              "    </tr>\n",
              "    <tr>\n",
              "      <th>2</th>\n",
              "      <td>43.4</td>\n",
              "      <td>60.4</td>\n",
              "      <td>38.0</td>\n",
              "      <td>38.0</td>\n",
              "    </tr>\n",
              "    <tr>\n",
              "      <th>3</th>\n",
              "      <td>18.3</td>\n",
              "      <td>60.4</td>\n",
              "      <td>16.0</td>\n",
              "      <td>18.0</td>\n",
              "    </tr>\n",
              "    <tr>\n",
              "      <th>4</th>\n",
              "      <td>4.4</td>\n",
              "      <td>60.4</td>\n",
              "      <td>5.0</td>\n",
              "      <td>6.0</td>\n",
              "    </tr>\n",
              "    <tr>\n",
              "      <th>...</th>\n",
              "      <td>...</td>\n",
              "      <td>...</td>\n",
              "      <td>...</td>\n",
              "      <td>...</td>\n",
              "    </tr>\n",
              "    <tr>\n",
              "      <th>123</th>\n",
              "      <td>12.4</td>\n",
              "      <td>52.7</td>\n",
              "      <td>NaN</td>\n",
              "      <td>NaN</td>\n",
              "    </tr>\n",
              "    <tr>\n",
              "      <th>124</th>\n",
              "      <td>2.5</td>\n",
              "      <td>52.7</td>\n",
              "      <td>NaN</td>\n",
              "      <td>NaN</td>\n",
              "    </tr>\n",
              "    <tr>\n",
              "      <th>125</th>\n",
              "      <td>33.5</td>\n",
              "      <td>52.7</td>\n",
              "      <td>NaN</td>\n",
              "      <td>NaN</td>\n",
              "    </tr>\n",
              "    <tr>\n",
              "      <th>126</th>\n",
              "      <td>5.7</td>\n",
              "      <td>52.7</td>\n",
              "      <td>NaN</td>\n",
              "      <td>NaN</td>\n",
              "    </tr>\n",
              "    <tr>\n",
              "      <th>127</th>\n",
              "      <td>10.6</td>\n",
              "      <td>52.7</td>\n",
              "      <td>NaN</td>\n",
              "      <td>NaN</td>\n",
              "    </tr>\n",
              "  </tbody>\n",
              "</table>\n",
              "<p>128 rows × 4 columns</p>\n",
              "</div>\n",
              "      <button class=\"colab-df-convert\" onclick=\"convertToInteractive('df-b77a0893-e5af-4c90-aae0-735095dbb0df')\"\n",
              "              title=\"Convert this dataframe to an interactive table.\"\n",
              "              style=\"display:none;\">\n",
              "        \n",
              "  <svg xmlns=\"http://www.w3.org/2000/svg\" height=\"24px\"viewBox=\"0 0 24 24\"\n",
              "       width=\"24px\">\n",
              "    <path d=\"M0 0h24v24H0V0z\" fill=\"none\"/>\n",
              "    <path d=\"M18.56 5.44l.94 2.06.94-2.06 2.06-.94-2.06-.94-.94-2.06-.94 2.06-2.06.94zm-11 1L8.5 8.5l.94-2.06 2.06-.94-2.06-.94L8.5 2.5l-.94 2.06-2.06.94zm10 10l.94 2.06.94-2.06 2.06-.94-2.06-.94-.94-2.06-.94 2.06-2.06.94z\"/><path d=\"M17.41 7.96l-1.37-1.37c-.4-.4-.92-.59-1.43-.59-.52 0-1.04.2-1.43.59L10.3 9.45l-7.72 7.72c-.78.78-.78 2.05 0 2.83L4 21.41c.39.39.9.59 1.41.59.51 0 1.02-.2 1.41-.59l7.78-7.78 2.81-2.81c.8-.78.8-2.07 0-2.86zM5.41 20L4 18.59l7.72-7.72 1.47 1.35L5.41 20z\"/>\n",
              "  </svg>\n",
              "      </button>\n",
              "      \n",
              "  <style>\n",
              "    .colab-df-container {\n",
              "      display:flex;\n",
              "      flex-wrap:wrap;\n",
              "      gap: 12px;\n",
              "    }\n",
              "\n",
              "    .colab-df-convert {\n",
              "      background-color: #E8F0FE;\n",
              "      border: none;\n",
              "      border-radius: 50%;\n",
              "      cursor: pointer;\n",
              "      display: none;\n",
              "      fill: #1967D2;\n",
              "      height: 32px;\n",
              "      padding: 0 0 0 0;\n",
              "      width: 32px;\n",
              "    }\n",
              "\n",
              "    .colab-df-convert:hover {\n",
              "      background-color: #E2EBFA;\n",
              "      box-shadow: 0px 1px 2px rgba(60, 64, 67, 0.3), 0px 1px 3px 1px rgba(60, 64, 67, 0.15);\n",
              "      fill: #174EA6;\n",
              "    }\n",
              "\n",
              "    [theme=dark] .colab-df-convert {\n",
              "      background-color: #3B4455;\n",
              "      fill: #D2E3FC;\n",
              "    }\n",
              "\n",
              "    [theme=dark] .colab-df-convert:hover {\n",
              "      background-color: #434B5C;\n",
              "      box-shadow: 0px 1px 3px 1px rgba(0, 0, 0, 0.15);\n",
              "      filter: drop-shadow(0px 1px 2px rgba(0, 0, 0, 0.3));\n",
              "      fill: #FFFFFF;\n",
              "    }\n",
              "  </style>\n",
              "\n",
              "      <script>\n",
              "        const buttonEl =\n",
              "          document.querySelector('#df-b77a0893-e5af-4c90-aae0-735095dbb0df button.colab-df-convert');\n",
              "        buttonEl.style.display =\n",
              "          google.colab.kernel.accessAllowed ? 'block' : 'none';\n",
              "\n",
              "        async function convertToInteractive(key) {\n",
              "          const element = document.querySelector('#df-b77a0893-e5af-4c90-aae0-735095dbb0df');\n",
              "          const dataTable =\n",
              "            await google.colab.kernel.invokeFunction('convertToInteractive',\n",
              "                                                     [key], {});\n",
              "          if (!dataTable) return;\n",
              "\n",
              "          const docLinkHtml = 'Like what you see? Visit the ' +\n",
              "            '<a target=\"_blank\" href=https://colab.research.google.com/notebooks/data_table.ipynb>data table notebook</a>'\n",
              "            + ' to learn more about interactive tables.';\n",
              "          element.innerHTML = '';\n",
              "          dataTable['output_type'] = 'display_data';\n",
              "          await google.colab.output.renderOutput(dataTable, element);\n",
              "          const docLink = document.createElement('div');\n",
              "          docLink.innerHTML = docLinkHtml;\n",
              "          element.appendChild(docLink);\n",
              "        }\n",
              "      </script>\n",
              "    </div>\n",
              "  </div>\n",
              "  "
            ],
            "application/vnd.google.colaboratory.module+javascript": "\n      import \"https://ssl.gstatic.com/colaboratory/data_table/f872b2c2305463fd/data_table.js\";\n\n      window.createDataTable({\n        data: [[{\n            'v': 0,\n            'f': \"0\",\n        },\n{\n            'v': 16.0,\n            'f': \"16.0\",\n        },\n{\n            'v': 60.4,\n            'f': \"60.4\",\n        },\n{\n            'v': 19.0,\n            'f': \"19.0\",\n        },\n{\n            'v': 18.0,\n            'f': \"18.0\",\n        }],\n [{\n            'v': 1,\n            'f': \"1\",\n        },\n{\n            'v': 6.4,\n            'f': \"6.4\",\n        },\n{\n            'v': 60.4,\n            'f': \"60.4\",\n        },\n{\n            'v': 9.0,\n            'f': \"9.0\",\n        },\n{\n            'v': 8.0,\n            'f': \"8.0\",\n        }],\n [{\n            'v': 2,\n            'f': \"2\",\n        },\n{\n            'v': 43.4,\n            'f': \"43.4\",\n        },\n{\n            'v': 60.4,\n            'f': \"60.4\",\n        },\n{\n            'v': 38.0,\n            'f': \"38.0\",\n        },\n{\n            'v': 38.0,\n            'f': \"38.0\",\n        }],\n [{\n            'v': 3,\n            'f': \"3\",\n        },\n{\n            'v': 18.3,\n            'f': \"18.3\",\n        },\n{\n            'v': 60.4,\n            'f': \"60.4\",\n        },\n{\n            'v': 16.0,\n            'f': \"16.0\",\n        },\n{\n            'v': 18.0,\n            'f': \"18.0\",\n        }],\n [{\n            'v': 4,\n            'f': \"4\",\n        },\n{\n            'v': 4.4,\n            'f': \"4.4\",\n        },\n{\n            'v': 60.4,\n            'f': \"60.4\",\n        },\n{\n            'v': 5.0,\n            'f': \"5.0\",\n        },\n{\n            'v': 6.0,\n            'f': \"6.0\",\n        }],\n [{\n            'v': 5,\n            'f': \"5\",\n        },\n{\n            'v': 2.6,\n            'f': \"2.6\",\n        },\n{\n            'v': 61.4,\n            'f': \"61.4\",\n        },\n{\n            'v': 5.0,\n            'f': \"5.0\",\n        },\n{\n            'v': 4.0,\n            'f': \"4.0\",\n        }],\n [{\n            'v': 6,\n            'f': \"6\",\n        },\n{\n            'v': 43.5,\n            'f': \"43.5\",\n        },\n{\n            'v': 61.4,\n            'f': \"61.4\",\n        },\n{\n            'v': 38.0,\n            'f': \"38.0\",\n        },\n{\n            'v': 41.0,\n            'f': \"41.0\",\n        }],\n [{\n            'v': 7,\n            'f': \"7\",\n        },\n{\n            'v': 4.8,\n            'f': \"4.8\",\n        },\n{\n            'v': 61.4,\n            'f': \"61.4\",\n        },\n{\n            'v': 6.0,\n            'f': \"6.0\",\n        },\n{\n            'v': 5.0,\n            'f': \"5.0\",\n        }],\n [{\n            'v': 8,\n            'f': \"8\",\n        },\n{\n            'v': 28.5,\n            'f': \"28.5\",\n        },\n{\n            'v': 61.4,\n            'f': \"61.4\",\n        },\n{\n            'v': 29.0,\n            'f': \"29.0\",\n        },\n{\n            'v': 28.0,\n            'f': \"28.0\",\n        }],\n [{\n            'v': 9,\n            'f': \"9\",\n        },\n{\n            'v': 4.99,\n            'f': \"4.99\",\n        },\n{\n            'v': 61.4,\n            'f': \"61.4\",\n        },\n{\n            'v': 6.0,\n            'f': \"6.0\",\n        },\n{\n            'v': 5.5,\n            'f': \"5.5\",\n        }],\n [{\n            'v': 10,\n            'f': \"10\",\n        },\n{\n            'v': 5.7,\n            'f': \"5.7\",\n        },\n{\n            'v': 61.4,\n            'f': \"61.4\",\n        },\n{\n            'v': 8.0,\n            'f': \"8.0\",\n        },\n{\n            'v': 6.5,\n            'f': \"6.5\",\n        }],\n [{\n            'v': 11,\n            'f': \"11\",\n        },\n{\n            'v': 2.1,\n            'f': \"2.1\",\n        },\n{\n            'v': 55.5,\n            'f': \"55.5\",\n        },\n{\n            'v': 3.0,\n            'f': \"3.0\",\n        },\n{\n            'v': NaN,\n            'f': \"NaN\",\n        }],\n [{\n            'v': 12,\n            'f': \"12\",\n        },\n{\n            'v': 26.7,\n            'f': \"26.7\",\n        },\n{\n            'v': 55.5,\n            'f': \"55.5\",\n        },\n{\n            'v': 28.0,\n            'f': \"28.0\",\n        },\n{\n            'v': NaN,\n            'f': \"NaN\",\n        }],\n [{\n            'v': 13,\n            'f': \"13\",\n        },\n{\n            'v': 5.9,\n            'f': \"5.9\",\n        },\n{\n            'v': 55.5,\n            'f': \"55.5\",\n        },\n{\n            'v': 8.0,\n            'f': \"8.0\",\n        },\n{\n            'v': NaN,\n            'f': \"NaN\",\n        }],\n [{\n            'v': 14,\n            'f': \"14\",\n        },\n{\n            'v': 35.7,\n            'f': \"35.7\",\n        },\n{\n            'v': 55.5,\n            'f': \"55.5\",\n        },\n{\n            'v': 30.0,\n            'f': \"30.0\",\n        },\n{\n            'v': NaN,\n            'f': \"NaN\",\n        }],\n [{\n            'v': 15,\n            'f': \"15\",\n        },\n{\n            'v': 18.2,\n            'f': \"18.2\",\n        },\n{\n            'v': 55.5,\n            'f': \"55.5\",\n        },\n{\n            'v': 16.0,\n            'f': \"16.0\",\n        },\n{\n            'v': NaN,\n            'f': \"NaN\",\n        }],\n [{\n            'v': 16,\n            'f': \"16\",\n        },\n{\n            'v': 5.4,\n            'f': \"5.4\",\n        },\n{\n            'v': 55.5,\n            'f': \"55.5\",\n        },\n{\n            'v': 8.0,\n            'f': \"8.0\",\n        },\n{\n            'v': NaN,\n            'f': \"NaN\",\n        }],\n [{\n            'v': 17,\n            'f': \"17\",\n        },\n{\n            'v': 14.1,\n            'f': \"14.1\",\n        },\n{\n            'v': 75.4,\n            'f': \"75.4\",\n        },\n{\n            'v': 12.0,\n            'f': \"12.0\",\n        },\n{\n            'v': 13.0,\n            'f': \"13.0\",\n        }],\n [{\n            'v': 18,\n            'f': \"18\",\n        },\n{\n            'v': 21.4,\n            'f': \"21.4\",\n        },\n{\n            'v': 75.4,\n            'f': \"75.4\",\n        },\n{\n            'v': 23.0,\n            'f': \"23.0\",\n        },\n{\n            'v': 22.0,\n            'f': \"22.0\",\n        }],\n [{\n            'v': 19,\n            'f': \"19\",\n        },\n{\n            'v': 7.1,\n            'f': \"7.1\",\n        },\n{\n            'v': 75.4,\n            'f': \"75.4\",\n        },\n{\n            'v': 8.0,\n            'f': \"8.0\",\n        },\n{\n            'v': 7.0,\n            'f': \"7.0\",\n        }],\n [{\n            'v': 20,\n            'f': \"20\",\n        },\n{\n            'v': 18.0,\n            'f': \"18.0\",\n        },\n{\n            'v': 75.4,\n            'f': \"75.4\",\n        },\n{\n            'v': 19.0,\n            'f': \"19.0\",\n        },\n{\n            'v': 17.0,\n            'f': \"17.0\",\n        }],\n [{\n            'v': 21,\n            'f': \"21\",\n        },\n{\n            'v': 18.9,\n            'f': \"18.9\",\n        },\n{\n            'v': 75.4,\n            'f': \"75.4\",\n        },\n{\n            'v': 17.0,\n            'f': \"17.0\",\n        },\n{\n            'v': 19.0,\n            'f': \"19.0\",\n        }],\n [{\n            'v': 22,\n            'f': \"22\",\n        },\n{\n            'v': 8.0,\n            'f': \"8.0\",\n        },\n{\n            'v': 75.4,\n            'f': \"75.4\",\n        },\n{\n            'v': 11.0,\n            'f': \"11.0\",\n        },\n{\n            'v': 9.0,\n            'f': \"9.0\",\n        }],\n [{\n            'v': 23,\n            'f': \"23\",\n        },\n{\n            'v': 9.9,\n            'f': \"9.9\",\n        },\n{\n            'v': 70.8,\n            'f': \"70.8\",\n        },\n{\n            'v': 10.0,\n            'f': \"10.0\",\n        },\n{\n            'v': 11.0,\n            'f': \"11.0\",\n        }],\n [{\n            'v': 24,\n            'f': \"24\",\n        },\n{\n            'v': 39.6,\n            'f': \"39.6\",\n        },\n{\n            'v': 70.8,\n            'f': \"70.8\",\n        },\n{\n            'v': 40.0,\n            'f': \"40.0\",\n        },\n{\n            'v': 39.0,\n            'f': \"39.0\",\n        }],\n [{\n            'v': 25,\n            'f': \"25\",\n        },\n{\n            'v': 5.8,\n            'f': \"5.8\",\n        },\n{\n            'v': 70.8,\n            'f': \"70.8\",\n        },\n{\n            'v': 5.0,\n            'f': \"5.0\",\n        },\n{\n            'v': 5.5,\n            'f': \"5.5\",\n        }],\n [{\n            'v': 26,\n            'f': \"26\",\n        },\n{\n            'v': 13.3,\n            'f': \"13.3\",\n        },\n{\n            'v': 70.8,\n            'f': \"70.8\",\n        },\n{\n            'v': 15.0,\n            'f': \"15.0\",\n        },\n{\n            'v': 14.0,\n            'f': \"14.0\",\n        }],\n [{\n            'v': 27,\n            'f': \"27\",\n        },\n{\n            'v': 6.3,\n            'f': \"6.3\",\n        },\n{\n            'v': 70.8,\n            'f': \"70.8\",\n        },\n{\n            'v': 6.0,\n            'f': \"6.0\",\n        },\n{\n            'v': 7.0,\n            'f': \"7.0\",\n        }],\n [{\n            'v': 28,\n            'f': \"28\",\n        },\n{\n            'v': 16.7,\n            'f': \"16.7\",\n        },\n{\n            'v': 70.8,\n            'f': \"70.8\",\n        },\n{\n            'v': 15.0,\n            'f': \"15.0\",\n        },\n{\n            'v': 16.0,\n            'f': \"16.0\",\n        }],\n [{\n            'v': 29,\n            'f': \"29\",\n        },\n{\n            'v': 11.0,\n            'f': \"11.0\",\n        },\n{\n            'v': 60.3,\n            'f': \"60.3\",\n        },\n{\n            'v': NaN,\n            'f': \"NaN\",\n        },\n{\n            'v': NaN,\n            'f': \"NaN\",\n        }],\n [{\n            'v': 30,\n            'f': \"30\",\n        },\n{\n            'v': 8.4,\n            'f': \"8.4\",\n        },\n{\n            'v': 60.3,\n            'f': \"60.3\",\n        },\n{\n            'v': NaN,\n            'f': \"NaN\",\n        },\n{\n            'v': NaN,\n            'f': \"NaN\",\n        }],\n [{\n            'v': 31,\n            'f': \"31\",\n        },\n{\n            'v': 6.4,\n            'f': \"6.4\",\n        },\n{\n            'v': 60.3,\n            'f': \"60.3\",\n        },\n{\n            'v': NaN,\n            'f': \"NaN\",\n        },\n{\n            'v': NaN,\n            'f': \"NaN\",\n        }],\n [{\n            'v': 32,\n            'f': \"32\",\n        },\n{\n            'v': 37.1,\n            'f': \"37.1\",\n        },\n{\n            'v': 60.3,\n            'f': \"60.3\",\n        },\n{\n            'v': NaN,\n            'f': \"NaN\",\n        },\n{\n            'v': NaN,\n            'f': \"NaN\",\n        }],\n [{\n            'v': 33,\n            'f': \"33\",\n        },\n{\n            'v': 5.9,\n            'f': \"5.9\",\n        },\n{\n            'v': 60.3,\n            'f': \"60.3\",\n        },\n{\n            'v': NaN,\n            'f': \"NaN\",\n        },\n{\n            'v': NaN,\n            'f': \"NaN\",\n        }],\n [{\n            'v': 34,\n            'f': \"34\",\n        },\n{\n            'v': 20.8,\n            'f': \"20.8\",\n        },\n{\n            'v': 60.3,\n            'f': \"60.3\",\n        },\n{\n            'v': NaN,\n            'f': \"NaN\",\n        },\n{\n            'v': NaN,\n            'f': \"NaN\",\n        }],\n [{\n            'v': 35,\n            'f': \"35\",\n        },\n{\n            'v': 2.5,\n            'f': \"2.5\",\n        },\n{\n            'v': 64.3,\n            'f': \"64.3\",\n        },\n{\n            'v': 3.0,\n            'f': \"3.0\",\n        },\n{\n            'v': NaN,\n            'f': \"NaN\",\n        }],\n [{\n            'v': 36,\n            'f': \"36\",\n        },\n{\n            'v': 35.7,\n            'f': \"35.7\",\n        },\n{\n            'v': 64.3,\n            'f': \"64.3\",\n        },\n{\n            'v': 30.0,\n            'f': \"30.0\",\n        },\n{\n            'v': NaN,\n            'f': \"NaN\",\n        }],\n [{\n            'v': 37,\n            'f': \"37\",\n        },\n{\n            'v': 5.5,\n            'f': \"5.5\",\n        },\n{\n            'v': 64.3,\n            'f': \"64.3\",\n        },\n{\n            'v': 7.0,\n            'f': \"7.0\",\n        },\n{\n            'v': NaN,\n            'f': \"NaN\",\n        }],\n [{\n            'v': 38,\n            'f': \"38\",\n        },\n{\n            'v': 27.7,\n            'f': \"27.7\",\n        },\n{\n            'v': 64.3,\n            'f': \"64.3\",\n        },\n{\n            'v': 31.0,\n            'f': \"31.0\",\n        },\n{\n            'v': NaN,\n            'f': \"NaN\",\n        }],\n [{\n            'v': 39,\n            'f': \"39\",\n        },\n{\n            'v': 9.3,\n            'f': \"9.3\",\n        },\n{\n            'v': 64.3,\n            'f': \"64.3\",\n        },\n{\n            'v': 12.0,\n            'f': \"12.0\",\n        },\n{\n            'v': NaN,\n            'f': \"NaN\",\n        }],\n [{\n            'v': 40,\n            'f': \"40\",\n        },\n{\n            'v': 8.3,\n            'f': \"8.3\",\n        },\n{\n            'v': 64.3,\n            'f': \"64.3\",\n        },\n{\n            'v': 9.0,\n            'f': \"9.0\",\n        },\n{\n            'v': NaN,\n            'f': \"NaN\",\n        }],\n [{\n            'v': 41,\n            'f': \"41\",\n        },\n{\n            'v': 5.4,\n            'f': \"5.4\",\n        },\n{\n            'v': 64.3,\n            'f': \"64.3\",\n        },\n{\n            'v': 4.0,\n            'f': \"4.0\",\n        },\n{\n            'v': NaN,\n            'f': \"NaN\",\n        }],\n [{\n            'v': 42,\n            'f': \"42\",\n        },\n{\n            'v': 4.9,\n            'f': \"4.9\",\n        },\n{\n            'v': 63.0,\n            'f': \"63.0\",\n        },\n{\n            'v': 8.0,\n            'f': \"8.0\",\n        },\n{\n            'v': 8.5,\n            'f': \"8.5\",\n        }],\n [{\n            'v': 43,\n            'f': \"43\",\n        },\n{\n            'v': 39.2,\n            'f': \"39.2\",\n        },\n{\n            'v': 63.0,\n            'f': \"63.0\",\n        },\n{\n            'v': 38.0,\n            'f': \"38.0\",\n        },\n{\n            'v': 39.0,\n            'f': \"39.0\",\n        }],\n [{\n            'v': 44,\n            'f': \"44\",\n        },\n{\n            'v': 9.1,\n            'f': \"9.1\",\n        },\n{\n            'v': 63.0,\n            'f': \"63.0\",\n        },\n{\n            'v': 5.0,\n            'f': \"5.0\",\n        },\n{\n            'v': 5.0,\n            'f': \"5.0\",\n        }],\n [{\n            'v': 45,\n            'f': \"45\",\n        },\n{\n            'v': 11.2,\n            'f': \"11.2\",\n        },\n{\n            'v': 63.0,\n            'f': \"63.0\",\n        },\n{\n            'v': 14.0,\n            'f': \"14.0\",\n        },\n{\n            'v': 12.0,\n            'f': \"12.0\",\n        }],\n [{\n            'v': 46,\n            'f': \"46\",\n        },\n{\n            'v': 24.2,\n            'f': \"24.2\",\n        },\n{\n            'v': 63.0,\n            'f': \"63.0\",\n        },\n{\n            'v': 23.0,\n            'f': \"23.0\",\n        },\n{\n            'v': 24.0,\n            'f': \"24.0\",\n        }],\n [{\n            'v': 47,\n            'f': \"47\",\n        },\n{\n            'v': 5.3,\n            'f': \"5.3\",\n        },\n{\n            'v': 63.0,\n            'f': \"63.0\",\n        },\n{\n            'v': 6.0,\n            'f': \"6.0\",\n        },\n{\n            'v': 6.0,\n            'f': \"6.0\",\n        }],\n [{\n            'v': 48,\n            'f': \"48\",\n        },\n{\n            'v': 31.0,\n            'f': \"31.0\",\n        },\n{\n            'v': 64.9,\n            'f': \"64.9\",\n        },\n{\n            'v': 29.0,\n            'f': \"29.0\",\n        },\n{\n            'v': 28.0,\n            'f': \"28.0\",\n        }],\n [{\n            'v': 49,\n            'f': \"49\",\n        },\n{\n            'v': 8.2,\n            'f': \"8.2\",\n        },\n{\n            'v': 64.9,\n            'f': \"64.9\",\n        },\n{\n            'v': 8.0,\n            'f': \"8.0\",\n        },\n{\n            'v': 9.0,\n            'f': \"9.0\",\n        }],\n [{\n            'v': 50,\n            'f': \"50\",\n        },\n{\n            'v': 5.0,\n            'f': \"5.0\",\n        },\n{\n            'v': 64.9,\n            'f': \"64.9\",\n        },\n{\n            'v': 4.0,\n            'f': \"4.0\",\n        },\n{\n            'v': 5.0,\n            'f': \"5.0\",\n        }],\n [{\n            'v': 51,\n            'f': \"51\",\n        },\n{\n            'v': 21.7,\n            'f': \"21.7\",\n        },\n{\n            'v': 64.9,\n            'f': \"64.9\",\n        },\n{\n            'v': 24.0,\n            'f': \"24.0\",\n        },\n{\n            'v': 26.0,\n            'f': \"26.0\",\n        }],\n [{\n            'v': 52,\n            'f': \"52\",\n        },\n{\n            'v': 5.2,\n            'f': \"5.2\",\n        },\n{\n            'v': 64.9,\n            'f': \"64.9\",\n        },\n{\n            'v': 7.0,\n            'f': \"7.0\",\n        },\n{\n            'v': 7.0,\n            'f': \"7.0\",\n        }],\n [{\n            'v': 53,\n            'f': \"53\",\n        },\n{\n            'v': 23.4,\n            'f': \"23.4\",\n        },\n{\n            'v': 64.9,\n            'f': \"64.9\",\n        },\n{\n            'v': 24.0,\n            'f': \"24.0\",\n        },\n{\n            'v': 21.0,\n            'f': \"21.0\",\n        }],\n [{\n            'v': 54,\n            'f': \"54\",\n        },\n{\n            'v': 10.4,\n            'f': \"10.4\",\n        },\n{\n            'v': 66.6,\n            'f': \"66.6\",\n        },\n{\n            'v': 16.0,\n            'f': \"16.0\",\n        },\n{\n            'v': 14.0,\n            'f': \"14.0\",\n        }],\n [{\n            'v': 55,\n            'f': \"55\",\n        },\n{\n            'v': 7.7,\n            'f': \"7.7\",\n        },\n{\n            'v': 66.6,\n            'f': \"66.6\",\n        },\n{\n            'v': 7.0,\n            'f': \"7.0\",\n        },\n{\n            'v': 8.5,\n            'f': \"8.5\",\n        }],\n [{\n            'v': 56,\n            'f': \"56\",\n        },\n{\n            'v': 4.5,\n            'f': \"4.5\",\n        },\n{\n            'v': 66.6,\n            'f': \"66.6\",\n        },\n{\n            'v': 5.0,\n            'f': \"5.0\",\n        },\n{\n            'v': 5.0,\n            'f': \"5.0\",\n        }],\n [{\n            'v': 57,\n            'f': \"57\",\n        },\n{\n            'v': 32.1,\n            'f': \"32.1\",\n        },\n{\n            'v': 66.6,\n            'f': \"66.6\",\n        },\n{\n            'v': 30.0,\n            'f': \"30.0\",\n        },\n{\n            'v': 32.0,\n            'f': \"32.0\",\n        }],\n [{\n            'v': 58,\n            'f': \"58\",\n        },\n{\n            'v': 8.6,\n            'f': \"8.6\",\n        },\n{\n            'v': 66.6,\n            'f': \"66.6\",\n        },\n{\n            'v': 11.0,\n            'f': \"11.0\",\n        },\n{\n            'v': 11.0,\n            'f': \"11.0\",\n        }],\n [{\n            'v': 59,\n            'f': \"59\",\n        },\n{\n            'v': 27.5,\n            'f': \"27.5\",\n        },\n{\n            'v': 66.6,\n            'f': \"66.6\",\n        },\n{\n            'v': 24.0,\n            'f': \"24.0\",\n        },\n{\n            'v': 24.5,\n            'f': \"24.5\",\n        }],\n [{\n            'v': 60,\n            'f': \"60\",\n        },\n{\n            'v': 3.4,\n            'f': \"3.4\",\n        },\n{\n            'v': 66.6,\n            'f': \"66.6\",\n        },\n{\n            'v': 4.0,\n            'f': \"4.0\",\n        },\n{\n            'v': NaN,\n            'f': \"NaN\",\n        }],\n [{\n            'v': 61,\n            'f': \"61\",\n        },\n{\n            'v': 6.3,\n            'f': \"6.3\",\n        },\n{\n            'v': 67.3,\n            'f': \"67.3\",\n        },\n{\n            'v': 8.0,\n            'f': \"8.0\",\n        },\n{\n            'v': 8.0,\n            'f': \"8.0\",\n        }],\n [{\n            'v': 62,\n            'f': \"62\",\n        },\n{\n            'v': 19.8,\n            'f': \"19.8\",\n        },\n{\n            'v': 67.3,\n            'f': \"67.3\",\n        },\n{\n            'v': 21.0,\n            'f': \"21.0\",\n        },\n{\n            'v': 20.0,\n            'f': \"20.0\",\n        }],\n [{\n            'v': 63,\n            'f': \"63\",\n        },\n{\n            'v': 7.5,\n            'f': \"7.5\",\n        },\n{\n            'v': 67.3,\n            'f': \"67.3\",\n        },\n{\n            'v': 9.0,\n            'f': \"9.0\",\n        },\n{\n            'v': 8.0,\n            'f': \"8.0\",\n        }],\n [{\n            'v': 64,\n            'f': \"64\",\n        },\n{\n            'v': 27.0,\n            'f': \"27.0\",\n        },\n{\n            'v': 67.3,\n            'f': \"67.3\",\n        },\n{\n            'v': 26.0,\n            'f': \"26.0\",\n        },\n{\n            'v': 28.0,\n            'f': \"28.0\",\n        }],\n [{\n            'v': 65,\n            'f': \"65\",\n        },\n{\n            'v': 19.8,\n            'f': \"19.8\",\n        },\n{\n            'v': 67.3,\n            'f': \"67.3\",\n        },\n{\n            'v': 20.0,\n            'f': \"20.0\",\n        },\n{\n            'v': 20.0,\n            'f': \"20.0\",\n        }],\n [{\n            'v': 66,\n            'f': \"66\",\n        },\n{\n            'v': 13.1,\n            'f': \"13.1\",\n        },\n{\n            'v': 67.3,\n            'f': \"67.3\",\n        },\n{\n            'v': 12.0,\n            'f': \"12.0\",\n        },\n{\n            'v': 12.0,\n            'f': \"12.0\",\n        }],\n [{\n            'v': 67,\n            'f': \"67\",\n        },\n{\n            'v': 3.2,\n            'f': \"3.2\",\n        },\n{\n            'v': 72.3,\n            'f': \"72.3\",\n        },\n{\n            'v': 3.0,\n            'f': \"3.0\",\n        },\n{\n            'v': 4.0,\n            'f': \"4.0\",\n        }],\n [{\n            'v': 68,\n            'f': \"68\",\n        },\n{\n            'v': 9.7,\n            'f': \"9.7\",\n        },\n{\n            'v': 72.3,\n            'f': \"72.3\",\n        },\n{\n            'v': 16.0,\n            'f': \"16.0\",\n        },\n{\n            'v': 13.0,\n            'f': \"13.0\",\n        }],\n [{\n            'v': 69,\n            'f': \"69\",\n        },\n{\n            'v': 5.1,\n            'f': \"5.1\",\n        },\n{\n            'v': 72.3,\n            'f': \"72.3\",\n        },\n{\n            'v': 5.0,\n            'f': \"5.0\",\n        },\n{\n            'v': 5.0,\n            'f': \"5.0\",\n        }],\n [{\n            'v': 70,\n            'f': \"70\",\n        },\n{\n            'v': 17.6,\n            'f': \"17.6\",\n        },\n{\n            'v': 72.3,\n            'f': \"72.3\",\n        },\n{\n            'v': 14.0,\n            'f': \"14.0\",\n        },\n{\n            'v': 18.0,\n            'f': \"18.0\",\n        }],\n [{\n            'v': 71,\n            'f': \"71\",\n        },\n{\n            'v': 37.2,\n            'f': \"37.2\",\n        },\n{\n            'v': 72.3,\n            'f': \"72.3\",\n        },\n{\n            'v': 40.0,\n            'f': \"40.0\",\n        },\n{\n            'v': 35.0,\n            'f': \"35.0\",\n        }],\n [{\n            'v': 72,\n            'f': \"72\",\n        },\n{\n            'v': 10.2,\n            'f': \"10.2\",\n        },\n{\n            'v': 72.3,\n            'f': \"72.3\",\n        },\n{\n            'v': 10.0,\n            'f': \"10.0\",\n        },\n{\n            'v': 10.0,\n            'f': \"10.0\",\n        }],\n [{\n            'v': 73,\n            'f': \"73\",\n        },\n{\n            'v': 11.6,\n            'f': \"11.6\",\n        },\n{\n            'v': 72.3,\n            'f': \"72.3\",\n        },\n{\n            'v': 7.0,\n            'f': \"7.0\",\n        },\n{\n            'v': 11.0,\n            'f': \"11.0\",\n        }],\n [{\n            'v': 74,\n            'f': \"74\",\n        },\n{\n            'v': 4.6,\n            'f': \"4.6\",\n        },\n{\n            'v': 63.1,\n            'f': \"63.1\",\n        },\n{\n            'v': 3.0,\n            'f': \"3.0\",\n        },\n{\n            'v': NaN,\n            'f': \"NaN\",\n        }],\n [{\n            'v': 75,\n            'f': \"75\",\n        },\n{\n            'v': 36.9,\n            'f': \"36.9\",\n        },\n{\n            'v': 63.1,\n            'f': \"63.1\",\n        },\n{\n            'v': 32.0,\n            'f': \"32.0\",\n        },\n{\n            'v': NaN,\n            'f': \"NaN\",\n        }],\n [{\n            'v': 76,\n            'f': \"76\",\n        },\n{\n            'v': 7.5,\n            'f': \"7.5\",\n        },\n{\n            'v': 63.1,\n            'f': \"63.1\",\n        },\n{\n            'v': 7.0,\n            'f': \"7.0\",\n        },\n{\n            'v': NaN,\n            'f': \"NaN\",\n        }],\n [{\n            'v': 77,\n            'f': \"77\",\n        },\n{\n            'v': 33.6,\n            'f': \"33.6\",\n        },\n{\n            'v': 63.1,\n            'f': \"63.1\",\n        },\n{\n            'v': 40.0,\n            'f': \"40.0\",\n        },\n{\n            'v': NaN,\n            'f': \"NaN\",\n        }],\n [{\n            'v': 78,\n            'f': \"78\",\n        },\n{\n            'v': 8.7,\n            'f': \"8.7\",\n        },\n{\n            'v': 63.1,\n            'f': \"63.1\",\n        },\n{\n            'v': 9.0,\n            'f': \"9.0\",\n        },\n{\n            'v': NaN,\n            'f': \"NaN\",\n        }],\n [{\n            'v': 79,\n            'f': \"79\",\n        },\n{\n            'v': 6.2,\n            'f': \"6.2\",\n        },\n{\n            'v': 63.1,\n            'f': \"63.1\",\n        },\n{\n            'v': 6.0,\n            'f': \"6.0\",\n        },\n{\n            'v': NaN,\n            'f': \"NaN\",\n        }],\n [{\n            'v': 80,\n            'f': \"80\",\n        },\n{\n            'v': 4.9,\n            'f': \"4.9\",\n        },\n{\n            'v': 65.2,\n            'f': \"65.2\",\n        },\n{\n            'v': 5.0,\n            'f': \"5.0\",\n        },\n{\n            'v': 6.0,\n            'f': \"6.0\",\n        }],\n [{\n            'v': 81,\n            'f': \"81\",\n        },\n{\n            'v': 31.2,\n            'f': \"31.2\",\n        },\n{\n            'v': 65.2,\n            'f': \"65.2\",\n        },\n{\n            'v': 34.0,\n            'f': \"34.0\",\n        },\n{\n            'v': 32.0,\n            'f': \"32.0\",\n        }],\n [{\n            'v': 82,\n            'f': \"82\",\n        },\n{\n            'v': 12.6,\n            'f': \"12.6\",\n        },\n{\n            'v': 65.2,\n            'f': \"65.2\",\n        },\n{\n            'v': 10.0,\n            'f': \"10.0\",\n        },\n{\n            'v': 12.0,\n            'f': \"12.0\",\n        }],\n [{\n            'v': 83,\n            'f': \"83\",\n        },\n{\n            'v': 33.0,\n            'f': \"33.0\",\n        },\n{\n            'v': 65.2,\n            'f': \"65.2\",\n        },\n{\n            'v': 34.0,\n            'f': \"34.0\",\n        },\n{\n            'v': 32.0,\n            'f': \"32.0\",\n        }],\n [{\n            'v': 84,\n            'f': \"84\",\n        },\n{\n            'v': 6.4,\n            'f': \"6.4\",\n        },\n{\n            'v': 65.2,\n            'f': \"65.2\",\n        },\n{\n            'v': 6.0,\n            'f': \"6.0\",\n        },\n{\n            'v': 7.5,\n            'f': \"7.5\",\n        }],\n [{\n            'v': 85,\n            'f': \"85\",\n        },\n{\n            'v': 7.4,\n            'f': \"7.4\",\n        },\n{\n            'v': 65.2,\n            'f': \"65.2\",\n        },\n{\n            'v': 8.0,\n            'f': \"8.0\",\n        },\n{\n            'v': 6.0,\n            'f': \"6.0\",\n        }],\n [{\n            'v': 86,\n            'f': \"86\",\n        },\n{\n            'v': 3.8,\n            'f': \"3.8\",\n        },\n{\n            'v': 64.2,\n            'f': \"64.2\",\n        },\n{\n            'v': 4.5,\n            'f': \"4.5\",\n        },\n{\n            'v': 5.0,\n            'f': \"5.0\",\n        }],\n [{\n            'v': 87,\n            'f': \"87\",\n        },\n{\n            'v': 27.3,\n            'f': \"27.3\",\n        },\n{\n            'v': 64.2,\n            'f': \"64.2\",\n        },\n{\n            'v': 31.0,\n            'f': \"31.0\",\n        },\n{\n            'v': 30.0,\n            'f': \"30.0\",\n        }],\n [{\n            'v': 88,\n            'f': \"88\",\n        },\n{\n            'v': 11.5,\n            'f': \"11.5\",\n        },\n{\n            'v': 64.2,\n            'f': \"64.2\",\n        },\n{\n            'v': 8.5,\n            'f': \"8.5\",\n        },\n{\n            'v': 9.0,\n            'f': \"9.0\",\n        }],\n [{\n            'v': 89,\n            'f': \"89\",\n        },\n{\n            'v': 32.0,\n            'f': \"32.0\",\n        },\n{\n            'v': 64.2,\n            'f': \"64.2\",\n        },\n{\n            'v': 32.0,\n            'f': \"32.0\",\n        },\n{\n            'v': 32.0,\n            'f': \"32.0\",\n        }],\n [{\n            'v': 90,\n            'f': \"90\",\n        },\n{\n            'v': 12.9,\n            'f': \"12.9\",\n        },\n{\n            'v': 64.2,\n            'f': \"64.2\",\n        },\n{\n            'v': 12.0,\n            'f': \"12.0\",\n        },\n{\n            'v': 12.0,\n            'f': \"12.0\",\n        }],\n [{\n            'v': 91,\n            'f': \"91\",\n        },\n{\n            'v': 5.9,\n            'f': \"5.9\",\n        },\n{\n            'v': 64.2,\n            'f': \"64.2\",\n        },\n{\n            'v': 6.0,\n            'f': \"6.0\",\n        },\n{\n            'v': 6.0,\n            'f': \"6.0\",\n        }],\n [{\n            'v': 92,\n            'f': \"92\",\n        },\n{\n            'v': 15.6,\n            'f': \"15.6\",\n        },\n{\n            'v': 66.9,\n            'f': \"66.9\",\n        },\n{\n            'v': 16.0,\n            'f': \"16.0\",\n        },\n{\n            'v': 14.5,\n            'f': \"14.5\",\n        }],\n [{\n            'v': 93,\n            'f': \"93\",\n        },\n{\n            'v': 21.6,\n            'f': \"21.6\",\n        },\n{\n            'v': 66.9,\n            'f': \"66.9\",\n        },\n{\n            'v': 21.0,\n            'f': \"21.0\",\n        },\n{\n            'v': 23.0,\n            'f': \"23.0\",\n        }],\n [{\n            'v': 94,\n            'f': \"94\",\n        },\n{\n            'v': 6.7,\n            'f': \"6.7\",\n        },\n{\n            'v': 66.9,\n            'f': \"66.9\",\n        },\n{\n            'v': 5.0,\n            'f': \"5.0\",\n        },\n{\n            'v': 6.5,\n            'f': \"6.5\",\n        }],\n [{\n            'v': 95,\n            'f': \"95\",\n        },\n{\n            'v': 17.6,\n            'f': \"17.6\",\n        },\n{\n            'v': 66.9,\n            'f': \"66.9\",\n        },\n{\n            'v': 20.0,\n            'f': \"20.0\",\n        },\n{\n            'v': 18.0,\n            'f': \"18.0\",\n        }],\n [{\n            'v': 96,\n            'f': \"96\",\n        },\n{\n            'v': 15.2,\n            'f': \"15.2\",\n        },\n{\n            'v': 66.9,\n            'f': \"66.9\",\n        },\n{\n            'v': 17.0,\n            'f': \"17.0\",\n        },\n{\n            'v': 15.0,\n            'f': \"15.0\",\n        }],\n [{\n            'v': 97,\n            'f': \"97\",\n        },\n{\n            'v': 14.2,\n            'f': \"14.2\",\n        },\n{\n            'v': 66.9,\n            'f': \"66.9\",\n        },\n{\n            'v': 15.0,\n            'f': \"15.0\",\n        },\n{\n            'v': 14.0,\n            'f': \"14.0\",\n        }],\n [{\n            'v': 98,\n            'f': \"98\",\n        },\n{\n            'v': 13.2,\n            'f': \"13.2\",\n        },\n{\n            'v': 61.7,\n            'f': \"61.7\",\n        },\n{\n            'v': 14.0,\n            'f': \"14.0\",\n        },\n{\n            'v': 13.0,\n            'f': \"13.0\",\n        }],\n [{\n            'v': 99,\n            'f': \"99\",\n        },\n{\n            'v': 30.6,\n            'f': \"30.6\",\n        },\n{\n            'v': 61.7,\n            'f': \"61.7\",\n        },\n{\n            'v': 27.0,\n            'f': \"27.0\",\n        },\n{\n            'v': 28.0,\n            'f': \"28.0\",\n        }],\n [{\n            'v': 100,\n            'f': \"100\",\n        },\n{\n            'v': 3.0,\n            'f': \"3.0\",\n        },\n{\n            'v': 61.7,\n            'f': \"61.7\",\n        },\n{\n            'v': 3.0,\n            'f': \"3.0\",\n        },\n{\n            'v': NaN,\n            'f': \"NaN\",\n        }],\n [{\n            'v': 101,\n            'f': \"101\",\n        },\n{\n            'v': 19.0,\n            'f': \"19.0\",\n        },\n{\n            'v': 61.7,\n            'f': \"61.7\",\n        },\n{\n            'v': 22.0,\n            'f': \"22.0\",\n        },\n{\n            'v': 22.0,\n            'f': \"22.0\",\n        }],\n [{\n            'v': 102,\n            'f': \"102\",\n        },\n{\n            'v': 4.8,\n            'f': \"4.8\",\n        },\n{\n            'v': 61.7,\n            'f': \"61.7\",\n        },\n{\n            'v': 5.0,\n            'f': \"5.0\",\n        },\n{\n            'v': 6.0,\n            'f': \"6.0\",\n        }],\n [{\n            'v': 103,\n            'f': \"103\",\n        },\n{\n            'v': 20.8,\n            'f': \"20.8\",\n        },\n{\n            'v': 61.7,\n            'f': \"61.7\",\n        },\n{\n            'v': 21.0,\n            'f': \"21.0\",\n        },\n{\n            'v': 21.0,\n            'f': \"21.0\",\n        }],\n [{\n            'v': 104,\n            'f': \"104\",\n        },\n{\n            'v': 2.9,\n            'f': \"2.9\",\n        },\n{\n            'v': 63.8,\n            'f': \"63.8\",\n        },\n{\n            'v': 4.0,\n            'f': \"4.0\",\n        },\n{\n            'v': NaN,\n            'f': \"NaN\",\n        }],\n [{\n            'v': 105,\n            'f': \"105\",\n        },\n{\n            'v': 12.7,\n            'f': \"12.7\",\n        },\n{\n            'v': 63.8,\n            'f': \"63.8\",\n        },\n{\n            'v': 13.0,\n            'f': \"13.0\",\n        },\n{\n            'v': NaN,\n            'f': \"NaN\",\n        }],\n [{\n            'v': 106,\n            'f': \"106\",\n        },\n{\n            'v': 8.3,\n            'f': \"8.3\",\n        },\n{\n            'v': 63.8,\n            'f': \"63.8\",\n        },\n{\n            'v': 8.0,\n            'f': \"8.0\",\n        },\n{\n            'v': NaN,\n            'f': \"NaN\",\n        }],\n [{\n            'v': 107,\n            'f': \"107\",\n        },\n{\n            'v': 27.0,\n            'f': \"27.0\",\n        },\n{\n            'v': 63.8,\n            'f': \"63.8\",\n        },\n{\n            'v': 28.0,\n            'f': \"28.0\",\n        },\n{\n            'v': NaN,\n            'f': \"NaN\",\n        }],\n [{\n            'v': 108,\n            'f': \"108\",\n        },\n{\n            'v': 30.3,\n            'f': \"30.3\",\n        },\n{\n            'v': 63.8,\n            'f': \"63.8\",\n        },\n{\n            'v': 32.0,\n            'f': \"32.0\",\n        },\n{\n            'v': NaN,\n            'f': \"NaN\",\n        }],\n [{\n            'v': 109,\n            'f': \"109\",\n        },\n{\n            'v': 15.1,\n            'f': \"15.1\",\n        },\n{\n            'v': 63.8,\n            'f': \"63.8\",\n        },\n{\n            'v': 13.0,\n            'f': \"13.0\",\n        },\n{\n            'v': NaN,\n            'f': \"NaN\",\n        }],\n [{\n            'v': 110,\n            'f': \"110\",\n        },\n{\n            'v': 16.3,\n            'f': \"16.3\",\n        },\n{\n            'v': 61.1,\n            'f': \"61.1\",\n        },\n{\n            'v': 21.0,\n            'f': \"21.0\",\n        },\n{\n            'v': NaN,\n            'f': \"NaN\",\n        }],\n [{\n            'v': 111,\n            'f': \"111\",\n        },\n{\n            'v': 10.6,\n            'f': \"10.6\",\n        },\n{\n            'v': 61.1,\n            'f': \"61.1\",\n        },\n{\n            'v': 15.0,\n            'f': \"15.0\",\n        },\n{\n            'v': NaN,\n            'f': \"NaN\",\n        }],\n [{\n            'v': 112,\n            'f': \"112\",\n        },\n{\n            'v': 4.9,\n            'f': \"4.9\",\n        },\n{\n            'v': 61.1,\n            'f': \"61.1\",\n        },\n{\n            'v': 4.5,\n            'f': \"4.5\",\n        },\n{\n            'v': NaN,\n            'f': \"NaN\",\n        }],\n [{\n            'v': 113,\n            'f': \"113\",\n        },\n{\n            'v': 29.8,\n            'f': \"29.8\",\n        },\n{\n            'v': 61.1,\n            'f': \"61.1\",\n        },\n{\n            'v': 31.0,\n            'f': \"31.0\",\n        },\n{\n            'v': NaN,\n            'f': \"NaN\",\n        }],\n [{\n            'v': 114,\n            'f': \"114\",\n        },\n{\n            'v': 5.2,\n            'f': \"5.2\",\n        },\n{\n            'v': 61.1,\n            'f': \"61.1\",\n        },\n{\n            'v': 5.5,\n            'f': \"5.5\",\n        },\n{\n            'v': NaN,\n            'f': \"NaN\",\n        }],\n [{\n            'v': 115,\n            'f': \"115\",\n        },\n{\n            'v': 24.3,\n            'f': \"24.3\",\n        },\n{\n            'v': 61.1,\n            'f': \"61.1\",\n        },\n{\n            'v': 19.0,\n            'f': \"19.0\",\n        },\n{\n            'v': NaN,\n            'f': \"NaN\",\n        }],\n [{\n            'v': 116,\n            'f': \"116\",\n        },\n{\n            'v': 8.5,\n            'f': \"8.5\",\n        },\n{\n            'v': 56.9,\n            'f': \"56.9\",\n        },\n{\n            'v': 9.0,\n            'f': \"9.0\",\n        },\n{\n            'v': NaN,\n            'f': \"NaN\",\n        }],\n [{\n            'v': 117,\n            'f': \"117\",\n        },\n{\n            'v': 45.6,\n            'f': \"45.6\",\n        },\n{\n            'v': 56.9,\n            'f': \"56.9\",\n        },\n{\n            'v': 44.0,\n            'f': \"44.0\",\n        },\n{\n            'v': NaN,\n            'f': \"NaN\",\n        }],\n [{\n            'v': 118,\n            'f': \"118\",\n        },\n{\n            'v': 7.4,\n            'f': \"7.4\",\n        },\n{\n            'v': 56.9,\n            'f': \"56.9\",\n        },\n{\n            'v': 5.0,\n            'f': \"5.0\",\n        },\n{\n            'v': NaN,\n            'f': \"NaN\",\n        }],\n [{\n            'v': 119,\n            'f': \"119\",\n        },\n{\n            'v': 15.9,\n            'f': \"15.9\",\n        },\n{\n            'v': 56.9,\n            'f': \"56.9\",\n        },\n{\n            'v': 20.0,\n            'f': \"20.0\",\n        },\n{\n            'v': NaN,\n            'f': \"NaN\",\n        }],\n [{\n            'v': 120,\n            'f': \"120\",\n        },\n{\n            'v': 12.3,\n            'f': \"12.3\",\n        },\n{\n            'v': 56.9,\n            'f': \"56.9\",\n        },\n{\n            'v': 13.0,\n            'f': \"13.0\",\n        },\n{\n            'v': NaN,\n            'f': \"NaN\",\n        }],\n [{\n            'v': 121,\n            'f': \"121\",\n        },\n{\n            'v': 6.1,\n            'f': \"6.1\",\n        },\n{\n            'v': 56.9,\n            'f': \"56.9\",\n        },\n{\n            'v': 6.0,\n            'f': \"6.0\",\n        },\n{\n            'v': NaN,\n            'f': \"NaN\",\n        }],\n [{\n            'v': 122,\n            'f': \"122\",\n        },\n{\n            'v': 28.2,\n            'f': \"28.2\",\n        },\n{\n            'v': 52.7,\n            'f': \"52.7\",\n        },\n{\n            'v': NaN,\n            'f': \"NaN\",\n        },\n{\n            'v': NaN,\n            'f': \"NaN\",\n        }],\n [{\n            'v': 123,\n            'f': \"123\",\n        },\n{\n            'v': 12.4,\n            'f': \"12.4\",\n        },\n{\n            'v': 52.7,\n            'f': \"52.7\",\n        },\n{\n            'v': NaN,\n            'f': \"NaN\",\n        },\n{\n            'v': NaN,\n            'f': \"NaN\",\n        }],\n [{\n            'v': 124,\n            'f': \"124\",\n        },\n{\n            'v': 2.5,\n            'f': \"2.5\",\n        },\n{\n            'v': 52.7,\n            'f': \"52.7\",\n        },\n{\n            'v': NaN,\n            'f': \"NaN\",\n        },\n{\n            'v': NaN,\n            'f': \"NaN\",\n        }],\n [{\n            'v': 125,\n            'f': \"125\",\n        },\n{\n            'v': 33.5,\n            'f': \"33.5\",\n        },\n{\n            'v': 52.7,\n            'f': \"52.7\",\n        },\n{\n            'v': NaN,\n            'f': \"NaN\",\n        },\n{\n            'v': NaN,\n            'f': \"NaN\",\n        }],\n [{\n            'v': 126,\n            'f': \"126\",\n        },\n{\n            'v': 5.7,\n            'f': \"5.7\",\n        },\n{\n            'v': 52.7,\n            'f': \"52.7\",\n        },\n{\n            'v': NaN,\n            'f': \"NaN\",\n        },\n{\n            'v': NaN,\n            'f': \"NaN\",\n        }],\n [{\n            'v': 127,\n            'f': \"127\",\n        },\n{\n            'v': 10.6,\n            'f': \"10.6\",\n        },\n{\n            'v': 52.7,\n            'f': \"52.7\",\n        },\n{\n            'v': NaN,\n            'f': \"NaN\",\n        },\n{\n            'v': NaN,\n            'f': \"NaN\",\n        }]],\n        columns: [[\"number\", \"index\"], [\"number\", \"result\"], [\"number\", \"turnout\"], [\"number\", \"dimap_pred\"], [\"number\", \"FGW_pred\"]],\n        columnOptions: [{\"width\": \"1px\", \"className\": \"index_column\"}],\n        rowsPerPage: 25,\n        helpUrl: \"https://colab.research.google.com/notebooks/data_table.ipynb\",\n        suppressOutputScrolling: true,\n        minimumWidth: undefined,\n      });\n    "
          },
          "metadata": {},
          "execution_count": 28
        }
      ]
    },
    {
      "cell_type": "code",
      "source": [
        "var_thres_election.get_support()"
      ],
      "metadata": {
        "colab": {
          "base_uri": "https://localhost:8080/"
        },
        "id": "bV6oHjTQkQFv",
        "outputId": "a93a1367-9953-4180-a3b6-2cbbe0222353"
      },
      "execution_count": null,
      "outputs": [
        {
          "output_type": "execute_result",
          "data": {
            "text/plain": [
              "array([ True,  True,  True,  True,  True,  True])"
            ]
          },
          "metadata": {},
          "execution_count": 29
        }
      ]
    },
    {
      "cell_type": "code",
      "source": [
        "var_thres_federal.get_support()"
      ],
      "metadata": {
        "colab": {
          "base_uri": "https://localhost:8080/"
        },
        "id": "nj1rfESPknt_",
        "outputId": "d280bb47-d3b1-4773-f2fe-b570606a5b74"
      },
      "execution_count": null,
      "outputs": [
        {
          "output_type": "execute_result",
          "data": {
            "text/plain": [
              "array([ True,  True,  True,  True,  True,  True,  True])"
            ]
          },
          "metadata": {},
          "execution_count": 30
        }
      ]
    },
    {
      "cell_type": "code",
      "source": [
        "# No elimination of column values needed(because all column values are not constant)"
      ],
      "metadata": {
        "id": "GX0aKFftkp3F"
      },
      "execution_count": null,
      "outputs": []
    },
    {
      "cell_type": "code",
      "source": [
        "# fillna\n",
        "\n",
        "train_df_mod.isna().sum()"
      ],
      "metadata": {
        "colab": {
          "base_uri": "https://localhost:8080/"
        },
        "id": "bS2HegQzlNnh",
        "outputId": "2df4cae4-1feb-43a1-fe70-5e3e025ac21b"
      },
      "execution_count": null,
      "outputs": [
        {
          "output_type": "execute_result",
          "data": {
            "text/plain": [
              "result           0\n",
              "party            0\n",
              "date             0\n",
              "turnout          0\n",
              "state            0\n",
              "Year             0\n",
              "dimap_pred      12\n",
              "dimap_method    12\n",
              "dimap_dist      12\n",
              "Forsa_pred      91\n",
              "Forsa_method    91\n",
              "Forsa_dist      91\n",
              "INSA_pred       23\n",
              "INSA_method     23\n",
              "INSA_dist       23\n",
              "FGW_pred        51\n",
              "FGW_method      49\n",
              "FGW_dist        49\n",
              "sum_isna         0\n",
              "dtype: int64"
            ]
          },
          "metadata": {},
          "execution_count": 32
        }
      ]
    },
    {
      "cell_type": "code",
      "source": [
        "train_df_mod['dimap_pred'].median()"
      ],
      "metadata": {
        "colab": {
          "base_uri": "https://localhost:8080/"
        },
        "id": "nBMeoQ6I82WG",
        "outputId": "ff0048d5-f069-42fa-823f-1de5151e453d"
      },
      "execution_count": null,
      "outputs": [
        {
          "output_type": "execute_result",
          "data": {
            "text/plain": [
              "12.0"
            ]
          },
          "metadata": {},
          "execution_count": 33
        }
      ]
    },
    {
      "cell_type": "code",
      "source": [
        "train_df_mod['Forsa_pred'].median()"
      ],
      "metadata": {
        "colab": {
          "base_uri": "https://localhost:8080/"
        },
        "id": "81jyVXEy9txw",
        "outputId": "6aaf59e8-14bf-48c3-e05c-73a438c239d9"
      },
      "execution_count": null,
      "outputs": [
        {
          "output_type": "execute_result",
          "data": {
            "text/plain": [
              "14.0"
            ]
          },
          "metadata": {},
          "execution_count": 34
        }
      ]
    },
    {
      "cell_type": "code",
      "source": [
        "train_df_mod['INSA_pred'].median()"
      ],
      "metadata": {
        "colab": {
          "base_uri": "https://localhost:8080/"
        },
        "id": "bAqOKAat9xEI",
        "outputId": "2daa1d13-470e-4f24-9219-65f8487ef482"
      },
      "execution_count": null,
      "outputs": [
        {
          "output_type": "execute_result",
          "data": {
            "text/plain": [
              "11.0"
            ]
          },
          "metadata": {},
          "execution_count": 35
        }
      ]
    },
    {
      "cell_type": "code",
      "source": [
        "train_df_mod['dimap_pred'].fillna(12,inplace=True)\n",
        "train_df_mod['Forsa_pred'].fillna(14,inplace=True)\n",
        "train_df_mod['INSA_pred'].fillna(11,inplace=True)"
      ],
      "metadata": {
        "id": "x2GpL8Yc9y9a"
      },
      "execution_count": null,
      "outputs": []
    },
    {
      "cell_type": "code",
      "source": [
        "train_df_mod.isna().sum()"
      ],
      "metadata": {
        "colab": {
          "base_uri": "https://localhost:8080/"
        },
        "id": "GgAVDzdb-Lzu",
        "outputId": "8ec5f9f1-1093-4976-dd9e-f046da8060b3"
      },
      "execution_count": null,
      "outputs": [
        {
          "output_type": "execute_result",
          "data": {
            "text/plain": [
              "result           0\n",
              "party            0\n",
              "date             0\n",
              "turnout          0\n",
              "state            0\n",
              "Year             0\n",
              "dimap_pred       0\n",
              "dimap_method    12\n",
              "dimap_dist      12\n",
              "Forsa_pred       0\n",
              "Forsa_method    91\n",
              "Forsa_dist      91\n",
              "INSA_pred        0\n",
              "INSA_method     23\n",
              "INSA_dist       23\n",
              "FGW_pred        51\n",
              "FGW_method      49\n",
              "FGW_dist        49\n",
              "sum_isna         0\n",
              "dtype: int64"
            ]
          },
          "metadata": {},
          "execution_count": 37
        }
      ]
    },
    {
      "cell_type": "code",
      "source": [
        "# popularity of different parties\n",
        "\n",
        "train_df_mod['date']=pd.to_datetime(train_df_mod[\"date\"])"
      ],
      "metadata": {
        "id": "OtAqdYxc-kPY"
      },
      "execution_count": null,
      "outputs": []
    },
    {
      "cell_type": "code",
      "source": [
        "train_df_mod[\"date\"].dtype"
      ],
      "metadata": {
        "colab": {
          "base_uri": "https://localhost:8080/"
        },
        "id": "D5_rHbRFAv7i",
        "outputId": "099a4e04-458c-490e-c8de-2a698c1532b9"
      },
      "execution_count": null,
      "outputs": [
        {
          "output_type": "execute_result",
          "data": {
            "text/plain": [
              "dtype('<M8[ns]')"
            ]
          },
          "metadata": {},
          "execution_count": 39
        }
      ]
    },
    {
      "cell_type": "code",
      "source": [
        "import seaborn as sns\n",
        "g=sns.FacetGrid(train_df_mod,row=\"party\",height=2,aspect=4)\n",
        "g.map(sns.histplot, \"result\")"
      ],
      "metadata": {
        "colab": {
          "base_uri": "https://localhost:8080/",
          "height": 1000
        },
        "id": "31HmVOv1JFpC",
        "outputId": "be99c769-2946-4318-bedf-b3a91e351377"
      },
      "execution_count": null,
      "outputs": [
        {
          "output_type": "execute_result",
          "data": {
            "text/plain": [
              "<seaborn.axisgrid.FacetGrid at 0x7f0afd910590>"
            ]
          },
          "metadata": {},
          "execution_count": 40
        },
        {
          "output_type": "display_data",
          "data": {
            "text/plain": [
              "<Figure size 576x1152 with 8 Axes>"
            ],
            "image/png": "[encoded data removed]"
          },
          "metadata": {
            "needs_background": "light"
          }
        }
      ]
    },
    {
      "cell_type": "code",
      "source": [
        "train_df_mod.head()"
      ],
      "metadata": {
        "colab": {
          "base_uri": "https://localhost:8080/",
          "height": 377
        },
        "id": "0V47ISnJlQcd",
        "outputId": "8f4ee11a-3c75-4f44-cce7-ca96bb34c162"
      },
      "execution_count": null,
      "outputs": [
        {
          "output_type": "execute_result",
          "data": {
            "text/plain": [
              "   result  party       date  turnout               state  Year  dimap_pred  \\\n",
              "0    16.0    SPD 2022-05-08     60.4  schleswig-holstein  2022        19.0   \n",
              "1     6.4    FDP 2022-05-08     60.4  schleswig-holstein  2022         9.0   \n",
              "2    43.4    CDU 2022-05-08     60.4  schleswig-holstein  2022        38.0   \n",
              "3    18.3  GRÜNE 2022-05-08     60.4  schleswig-holstein  2022        16.0   \n",
              "4     4.4    AfD 2022-05-08     60.4  schleswig-holstein  2022         5.0   \n",
              "\n",
              "  dimap_method dimap_dist  Forsa_pred Forsa_method Forsa_dist  INSA_pred  \\\n",
              "0          TOM    10 days        14.0          NaN        NaN       11.0   \n",
              "1          TOM    10 days        14.0          NaN        NaN       11.0   \n",
              "2          TOM    10 days        14.0          NaN        NaN       11.0   \n",
              "3          TOM    10 days        14.0          NaN        NaN       11.0   \n",
              "4          TOM    10 days        14.0          NaN        NaN       11.0   \n",
              "\n",
              "  INSA_method INSA_dist  FGW_pred FGW_method FGW_dist  sum_isna  \n",
              "0         NaN       NaN      18.0          T   3 days         3  \n",
              "1         NaN       NaN       8.0          T   3 days         3  \n",
              "2         NaN       NaN      38.0          T   3 days         3  \n",
              "3         NaN       NaN      18.0          T   3 days         3  \n",
              "4         NaN       NaN       6.0          T   3 days         3  "
            ],
            "text/html": [
              "\n",
              "  <div id=\"df-7ec66df9-b74b-4eb0-98d2-d52714406fed\">\n",
              "    <div class=\"colab-df-container\">\n",
              "      <div>\n",
              "<style scoped>\n",
              "    .dataframe tbody tr th:only-of-type {\n",
              "        vertical-align: middle;\n",
              "    }\n",
              "\n",
              "    .dataframe tbody tr th {\n",
              "        vertical-align: top;\n",
              "    }\n",
              "\n",
              "    .dataframe thead th {\n",
              "        text-align: right;\n",
              "    }\n",
              "</style>\n",
              "<table border=\"1\" class=\"dataframe\">\n",
              "  <thead>\n",
              "    <tr style=\"text-align: right;\">\n",
              "      <th></th>\n",
              "      <th>result</th>\n",
              "      <th>party</th>\n",
              "      <th>date</th>\n",
              "      <th>turnout</th>\n",
              "      <th>state</th>\n",
              "      <th>Year</th>\n",
              "      <th>dimap_pred</th>\n",
              "      <th>dimap_method</th>\n",
              "      <th>dimap_dist</th>\n",
              "      <th>Forsa_pred</th>\n",
              "      <th>Forsa_method</th>\n",
              "      <th>Forsa_dist</th>\n",
              "      <th>INSA_pred</th>\n",
              "      <th>INSA_method</th>\n",
              "      <th>INSA_dist</th>\n",
              "      <th>FGW_pred</th>\n",
              "      <th>FGW_method</th>\n",
              "      <th>FGW_dist</th>\n",
              "      <th>sum_isna</th>\n",
              "    </tr>\n",
              "  </thead>\n",
              "  <tbody>\n",
              "    <tr>\n",
              "      <th>0</th>\n",
              "      <td>16.0</td>\n",
              "      <td>SPD</td>\n",
              "      <td>2022-05-08</td>\n",
              "      <td>60.4</td>\n",
              "      <td>schleswig-holstein</td>\n",
              "      <td>2022</td>\n",
              "      <td>19.0</td>\n",
              "      <td>TOM</td>\n",
              "      <td>10 days</td>\n",
              "      <td>14.0</td>\n",
              "      <td>NaN</td>\n",
              "      <td>NaN</td>\n",
              "      <td>11.0</td>\n",
              "      <td>NaN</td>\n",
              "      <td>NaN</td>\n",
              "      <td>18.0</td>\n",
              "      <td>T</td>\n",
              "      <td>3 days</td>\n",
              "      <td>3</td>\n",
              "    </tr>\n",
              "    <tr>\n",
              "      <th>1</th>\n",
              "      <td>6.4</td>\n",
              "      <td>FDP</td>\n",
              "      <td>2022-05-08</td>\n",
              "      <td>60.4</td>\n",
              "      <td>schleswig-holstein</td>\n",
              "      <td>2022</td>\n",
              "      <td>9.0</td>\n",
              "      <td>TOM</td>\n",
              "      <td>10 days</td>\n",
              "      <td>14.0</td>\n",
              "      <td>NaN</td>\n",
              "      <td>NaN</td>\n",
              "      <td>11.0</td>\n",
              "      <td>NaN</td>\n",
              "      <td>NaN</td>\n",
              "      <td>8.0</td>\n",
              "      <td>T</td>\n",
              "      <td>3 days</td>\n",
              "      <td>3</td>\n",
              "    </tr>\n",
              "    <tr>\n",
              "      <th>2</th>\n",
              "      <td>43.4</td>\n",
              "      <td>CDU</td>\n",
              "      <td>2022-05-08</td>\n",
              "      <td>60.4</td>\n",
              "      <td>schleswig-holstein</td>\n",
              "      <td>2022</td>\n",
              "      <td>38.0</td>\n",
              "      <td>TOM</td>\n",
              "      <td>10 days</td>\n",
              "      <td>14.0</td>\n",
              "      <td>NaN</td>\n",
              "      <td>NaN</td>\n",
              "      <td>11.0</td>\n",
              "      <td>NaN</td>\n",
              "      <td>NaN</td>\n",
              "      <td>38.0</td>\n",
              "      <td>T</td>\n",
              "      <td>3 days</td>\n",
              "      <td>3</td>\n",
              "    </tr>\n",
              "    <tr>\n",
              "      <th>3</th>\n",
              "      <td>18.3</td>\n",
              "      <td>GRÜNE</td>\n",
              "      <td>2022-05-08</td>\n",
              "      <td>60.4</td>\n",
              "      <td>schleswig-holstein</td>\n",
              "      <td>2022</td>\n",
              "      <td>16.0</td>\n",
              "      <td>TOM</td>\n",
              "      <td>10 days</td>\n",
              "      <td>14.0</td>\n",
              "      <td>NaN</td>\n",
              "      <td>NaN</td>\n",
              "      <td>11.0</td>\n",
              "      <td>NaN</td>\n",
              "      <td>NaN</td>\n",
              "      <td>18.0</td>\n",
              "      <td>T</td>\n",
              "      <td>3 days</td>\n",
              "      <td>3</td>\n",
              "    </tr>\n",
              "    <tr>\n",
              "      <th>4</th>\n",
              "      <td>4.4</td>\n",
              "      <td>AfD</td>\n",
              "      <td>2022-05-08</td>\n",
              "      <td>60.4</td>\n",
              "      <td>schleswig-holstein</td>\n",
              "      <td>2022</td>\n",
              "      <td>5.0</td>\n",
              "      <td>TOM</td>\n",
              "      <td>10 days</td>\n",
              "      <td>14.0</td>\n",
              "      <td>NaN</td>\n",
              "      <td>NaN</td>\n",
              "      <td>11.0</td>\n",
              "      <td>NaN</td>\n",
              "      <td>NaN</td>\n",
              "      <td>6.0</td>\n",
              "      <td>T</td>\n",
              "      <td>3 days</td>\n",
              "      <td>3</td>\n",
              "    </tr>\n",
              "  </tbody>\n",
              "</table>\n",
              "</div>\n",
              "      <button class=\"colab-df-convert\" onclick=\"convertToInteractive('df-7ec66df9-b74b-4eb0-98d2-d52714406fed')\"\n",
              "              title=\"Convert this dataframe to an interactive table.\"\n",
              "              style=\"display:none;\">\n",
              "        \n",
              "  <svg xmlns=\"http://www.w3.org/2000/svg\" height=\"24px\"viewBox=\"0 0 24 24\"\n",
              "       width=\"24px\">\n",
              "    <path d=\"M0 0h24v24H0V0z\" fill=\"none\"/>\n",
              "    <path d=\"M18.56 5.44l.94 2.06.94-2.06 2.06-.94-2.06-.94-.94-2.06-.94 2.06-2.06.94zm-11 1L8.5 8.5l.94-2.06 2.06-.94-2.06-.94L8.5 2.5l-.94 2.06-2.06.94zm10 10l.94 2.06.94-2.06 2.06-.94-2.06-.94-.94-2.06-.94 2.06-2.06.94z\"/><path d=\"M17.41 7.96l-1.37-1.37c-.4-.4-.92-.59-1.43-.59-.52 0-1.04.2-1.43.59L10.3 9.45l-7.72 7.72c-.78.78-.78 2.05 0 2.83L4 21.41c.39.39.9.59 1.41.59.51 0 1.02-.2 1.41-.59l7.78-7.78 2.81-2.81c.8-.78.8-2.07 0-2.86zM5.41 20L4 18.59l7.72-7.72 1.47 1.35L5.41 20z\"/>\n",
              "  </svg>\n",
              "      </button>\n",
              "      \n",
              "  <style>\n",
              "    .colab-df-container {\n",
              "      display:flex;\n",
              "      flex-wrap:wrap;\n",
              "      gap: 12px;\n",
              "    }\n",
              "\n",
              "    .colab-df-convert {\n",
              "      background-color: #E8F0FE;\n",
              "      border: none;\n",
              "      border-radius: 50%;\n",
              "      cursor: pointer;\n",
              "      display: none;\n",
              "      fill: #1967D2;\n",
              "      height: 32px;\n",
              "      padding: 0 0 0 0;\n",
              "      width: 32px;\n",
              "    }\n",
              "\n",
              "    .colab-df-convert:hover {\n",
              "      background-color: #E2EBFA;\n",
              "      box-shadow: 0px 1px 2px rgba(60, 64, 67, 0.3), 0px 1px 3px 1px rgba(60, 64, 67, 0.15);\n",
              "      fill: #174EA6;\n",
              "    }\n",
              "\n",
              "    [theme=dark] .colab-df-convert {\n",
              "      background-color: #3B4455;\n",
              "      fill: #D2E3FC;\n",
              "    }\n",
              "\n",
              "    [theme=dark] .colab-df-convert:hover {\n",
              "      background-color: #434B5C;\n",
              "      box-shadow: 0px 1px 3px 1px rgba(0, 0, 0, 0.15);\n",
              "      filter: drop-shadow(0px 1px 2px rgba(0, 0, 0, 0.3));\n",
              "      fill: #FFFFFF;\n",
              "    }\n",
              "  </style>\n",
              "\n",
              "      <script>\n",
              "        const buttonEl =\n",
              "          document.querySelector('#df-7ec66df9-b74b-4eb0-98d2-d52714406fed button.colab-df-convert');\n",
              "        buttonEl.style.display =\n",
              "          google.colab.kernel.accessAllowed ? 'block' : 'none';\n",
              "\n",
              "        async function convertToInteractive(key) {\n",
              "          const element = document.querySelector('#df-7ec66df9-b74b-4eb0-98d2-d52714406fed');\n",
              "          const dataTable =\n",
              "            await google.colab.kernel.invokeFunction('convertToInteractive',\n",
              "                                                     [key], {});\n",
              "          if (!dataTable) return;\n",
              "\n",
              "          const docLinkHtml = 'Like what you see? Visit the ' +\n",
              "            '<a target=\"_blank\" href=https://colab.research.google.com/notebooks/data_table.ipynb>data table notebook</a>'\n",
              "            + ' to learn more about interactive tables.';\n",
              "          element.innerHTML = '';\n",
              "          dataTable['output_type'] = 'display_data';\n",
              "          await google.colab.output.renderOutput(dataTable, element);\n",
              "          const docLink = document.createElement('div');\n",
              "          docLink.innerHTML = docLinkHtml;\n",
              "          element.appendChild(docLink);\n",
              "        }\n",
              "      </script>\n",
              "    </div>\n",
              "  </div>\n",
              "  "
            ],
            "application/vnd.google.colaboratory.module+javascript": "\n      import \"https://ssl.gstatic.com/colaboratory/data_table/f872b2c2305463fd/data_table.js\";\n\n      window.createDataTable({\n        data: [[{\n            'v': 0,\n            'f': \"0\",\n        },\n{\n            'v': 16.0,\n            'f': \"16.0\",\n        },\n\"SPD\",\n\"2022-05-08 00:00:00\",\n{\n            'v': 60.4,\n            'f': \"60.4\",\n        },\n\"schleswig-holstein\",\n{\n            'v': 2022,\n            'f': \"2022\",\n        },\n{\n            'v': 19.0,\n            'f': \"19.0\",\n        },\n\"TOM\",\n\"10 days\",\n{\n            'v': 14.0,\n            'f': \"14.0\",\n        },\n{\n            'v': NaN,\n            'f': \"NaN\",\n        },\n{\n            'v': NaN,\n            'f': \"NaN\",\n        },\n{\n            'v': 11.0,\n            'f': \"11.0\",\n        },\n{\n            'v': NaN,\n            'f': \"NaN\",\n        },\n{\n            'v': NaN,\n            'f': \"NaN\",\n        },\n{\n            'v': 18.0,\n            'f': \"18.0\",\n        },\n\"T\",\n\"3 days\",\n{\n            'v': 3,\n            'f': \"3\",\n        }],\n [{\n            'v': 1,\n            'f': \"1\",\n        },\n{\n            'v': 6.4,\n            'f': \"6.4\",\n        },\n\"FDP\",\n\"2022-05-08 00:00:00\",\n{\n            'v': 60.4,\n            'f': \"60.4\",\n        },\n\"schleswig-holstein\",\n{\n            'v': 2022,\n            'f': \"2022\",\n        },\n{\n            'v': 9.0,\n            'f': \"9.0\",\n        },\n\"TOM\",\n\"10 days\",\n{\n            'v': 14.0,\n            'f': \"14.0\",\n        },\n{\n            'v': NaN,\n            'f': \"NaN\",\n        },\n{\n            'v': NaN,\n            'f': \"NaN\",\n        },\n{\n            'v': 11.0,\n            'f': \"11.0\",\n        },\n{\n            'v': NaN,\n            'f': \"NaN\",\n        },\n{\n            'v': NaN,\n            'f': \"NaN\",\n        },\n{\n            'v': 8.0,\n            'f': \"8.0\",\n        },\n\"T\",\n\"3 days\",\n{\n            'v': 3,\n            'f': \"3\",\n        }],\n [{\n            'v': 2,\n            'f': \"2\",\n        },\n{\n            'v': 43.4,\n            'f': \"43.4\",\n        },\n\"CDU\",\n\"2022-05-08 00:00:00\",\n{\n            'v': 60.4,\n            'f': \"60.4\",\n        },\n\"schleswig-holstein\",\n{\n            'v': 2022,\n            'f': \"2022\",\n        },\n{\n            'v': 38.0,\n            'f': \"38.0\",\n        },\n\"TOM\",\n\"10 days\",\n{\n            'v': 14.0,\n            'f': \"14.0\",\n        },\n{\n            'v': NaN,\n            'f': \"NaN\",\n        },\n{\n            'v': NaN,\n            'f': \"NaN\",\n        },\n{\n            'v': 11.0,\n            'f': \"11.0\",\n        },\n{\n            'v': NaN,\n            'f': \"NaN\",\n        },\n{\n            'v': NaN,\n            'f': \"NaN\",\n        },\n{\n            'v': 38.0,\n            'f': \"38.0\",\n        },\n\"T\",\n\"3 days\",\n{\n            'v': 3,\n            'f': \"3\",\n        }],\n [{\n            'v': 3,\n            'f': \"3\",\n        },\n{\n            'v': 18.3,\n            'f': \"18.3\",\n        },\n\"GR\\u00dcNE\",\n\"2022-05-08 00:00:00\",\n{\n            'v': 60.4,\n            'f': \"60.4\",\n        },\n\"schleswig-holstein\",\n{\n            'v': 2022,\n            'f': \"2022\",\n        },\n{\n            'v': 16.0,\n            'f': \"16.0\",\n        },\n\"TOM\",\n\"10 days\",\n{\n            'v': 14.0,\n            'f': \"14.0\",\n        },\n{\n            'v': NaN,\n            'f': \"NaN\",\n        },\n{\n            'v': NaN,\n            'f': \"NaN\",\n        },\n{\n            'v': 11.0,\n            'f': \"11.0\",\n        },\n{\n            'v': NaN,\n            'f': \"NaN\",\n        },\n{\n            'v': NaN,\n            'f': \"NaN\",\n        },\n{\n            'v': 18.0,\n            'f': \"18.0\",\n        },\n\"T\",\n\"3 days\",\n{\n            'v': 3,\n            'f': \"3\",\n        }],\n [{\n            'v': 4,\n            'f': \"4\",\n        },\n{\n            'v': 4.4,\n            'f': \"4.4\",\n        },\n\"AfD\",\n\"2022-05-08 00:00:00\",\n{\n            'v': 60.4,\n            'f': \"60.4\",\n        },\n\"schleswig-holstein\",\n{\n            'v': 2022,\n            'f': \"2022\",\n        },\n{\n            'v': 5.0,\n            'f': \"5.0\",\n        },\n\"TOM\",\n\"10 days\",\n{\n            'v': 14.0,\n            'f': \"14.0\",\n        },\n{\n            'v': NaN,\n            'f': \"NaN\",\n        },\n{\n            'v': NaN,\n            'f': \"NaN\",\n        },\n{\n            'v': 11.0,\n            'f': \"11.0\",\n        },\n{\n            'v': NaN,\n            'f': \"NaN\",\n        },\n{\n            'v': NaN,\n            'f': \"NaN\",\n        },\n{\n            'v': 6.0,\n            'f': \"6.0\",\n        },\n\"T\",\n\"3 days\",\n{\n            'v': 3,\n            'f': \"3\",\n        }]],\n        columns: [[\"number\", \"index\"], [\"number\", \"result\"], [\"string\", \"party\"], [\"string\", \"date\"], [\"number\", \"turnout\"], [\"string\", \"state\"], [\"number\", \"Year\"], [\"number\", \"dimap_pred\"], [\"string\", \"dimap_method\"], [\"string\", \"dimap_dist\"], [\"number\", \"Forsa_pred\"], [\"number\", \"Forsa_method\"], [\"number\", \"Forsa_dist\"], [\"number\", \"INSA_pred\"], [\"number\", \"INSA_method\"], [\"number\", \"INSA_dist\"], [\"number\", \"FGW_pred\"], [\"string\", \"FGW_method\"], [\"string\", \"FGW_dist\"], [\"number\", \"sum_isna\"]],\n        columnOptions: [{\"width\": \"1px\", \"className\": \"index_column\"}],\n        rowsPerPage: 25,\n        helpUrl: \"https://colab.research.google.com/notebooks/data_table.ipynb\",\n        suppressOutputScrolling: true,\n        minimumWidth: undefined,\n      });\n    "
          },
          "metadata": {},
          "execution_count": 41
        }
      ]
    },
    {
      "cell_type": "code",
      "source": [
        "# time series of popular parties\n",
        "\n",
        "train_df_mod_SPD=train_df_mod.loc[train_df_mod.party=='SPD',:]\n",
        "train_df_mod_CDU=train_df_mod.loc[train_df_mod.party=='CDU',:]\n",
        "train_df_mod_GRÜNE=train_df_mod.loc[train_df_mod.party=='GRÜNE',:]\n",
        "\n",
        "import matplotlib.pyplot as plt\n",
        "\n",
        "def plot_df(df, x, y, title=\"\", xlabel='date', ylabel='result', dpi=100):\n",
        "    plt.figure(figsize=(16,5), dpi=dpi)\n",
        "    plt.plot(x, y, color='tab:red')\n",
        "    plt.gca().set(title=title, xlabel=xlabel, ylabel=ylabel)\n",
        "    plt.show()"
      ],
      "metadata": {
        "id": "6VBCDoZlJN-7"
      },
      "execution_count": null,
      "outputs": []
    },
    {
      "cell_type": "code",
      "source": [
        "plot_df(train_df_mod_SPD, x=train_df_mod_SPD.date, y=train_df_mod_SPD.result, title='Time series of SPD party.')    "
      ],
      "metadata": {
        "colab": {
          "base_uri": "https://localhost:8080/",
          "height": 309
        },
        "id": "hLDXuzZClW1y",
        "outputId": "d2b902ad-5fa3-4eeb-e1d7-675c535bb926"
      },
      "execution_count": null,
      "outputs": [
        {
          "output_type": "display_data",
          "data": {
            "text/plain": [
              "<Figure size 1600x500 with 1 Axes>"
            ],
            "image/png": "[encoded data removed]"
          },
          "metadata": {
            "needs_background": "light"
          }
        }
      ]
    },
    {
      "cell_type": "code",
      "source": [
        "plot_df(train_df_mod_CDU, x=train_df_mod_CDU.date, y=train_df_mod_CDU.result, title='Time series of CDU party.')    "
      ],
      "metadata": {
        "colab": {
          "base_uri": "https://localhost:8080/",
          "height": 309
        },
        "id": "mgFDtUbtmPD-",
        "outputId": "b05eb3fd-bf71-4d3b-a266-490ba20e2d8e"
      },
      "execution_count": null,
      "outputs": [
        {
          "output_type": "display_data",
          "data": {
            "text/plain": [
              "<Figure size 1600x500 with 1 Axes>"
            ],
            "image/png": "[encoded data removed]"
          },
          "metadata": {
            "needs_background": "light"
          }
        }
      ]
    },
    {
      "cell_type": "code",
      "source": [
        "plot_df(train_df_mod_GRÜNE, x=train_df_mod_GRÜNE.date, y=train_df_mod_GRÜNE.result, title='Time series of Linke party.')"
      ],
      "metadata": {
        "colab": {
          "base_uri": "https://localhost:8080/",
          "height": 309
        },
        "id": "2j4y5WQ7MTiX",
        "outputId": "e5303434-a432-432e-fba5-385861e8800d"
      },
      "execution_count": null,
      "outputs": [
        {
          "output_type": "display_data",
          "data": {
            "text/plain": [
              "<Figure size 1600x500 with 1 Axes>"
            ],
            "image/png": "[encoded data removed]"
          },
          "metadata": {
            "needs_background": "light"
          }
        }
      ]
    },
    {
      "cell_type": "markdown",
      "source": [
        "## *Inference*:\n",
        "* While the GRÜNE and SPD party had fallen out of popularity, after 2021, CDU party has gotten greater results(yet to be statistically proven)\n",
        "* No underlying trend can be observed currently observed(because of volatile results of each party)\n",
        "* SPD and CDU party has the higest turnout and result(by observing histplot)"
      ],
      "metadata": {
        "id": "Z7NW9ae0Me8h"
      }
    },
    {
      "cell_type": "markdown",
      "source": [
        "## ***EDA on federal elections and surveys***"
      ],
      "metadata": {
        "id": "4kGSACrcOrW4"
      }
    },
    {
      "cell_type": "code",
      "source": [
        "election_results_german_federal_states_df_mod1=election_results_german_federal_states_df_mod[['CDU','SPD','Die Gruenen','Die Linke','AfD','Year']]"
      ],
      "metadata": {
        "id": "dmwLIpfYP4r1"
      },
      "execution_count": null,
      "outputs": []
    },
    {
      "cell_type": "code",
      "source": [
        "federal_elections_germany_survey_df_mod1=federal_elections_germany_survey_df_mod[['date','CDU','SPD','GRÜNE','LINKE','AfD']]"
      ],
      "metadata": {
        "id": "li-Q05_2RYQw"
      },
      "execution_count": null,
      "outputs": []
    },
    {
      "cell_type": "code",
      "source": [
        "election_results_german_federal_states_df_mod1.head()"
      ],
      "metadata": {
        "colab": {
          "base_uri": "https://localhost:8080/",
          "height": 196
        },
        "id": "KU_6D8hTSAJe",
        "outputId": "6fcff175-0c43-47bb-c4a9-57d05ba00dfc"
      },
      "execution_count": null,
      "outputs": [
        {
          "output_type": "execute_result",
          "data": {
            "text/plain": [
              "    CDU   SPD  Die Gruenen  Die Linke   AfD  Year\n",
              "0  43.4  16.0        18.30        1.7   4.4  2022\n",
              "1  28.5  43.5         4.99        2.6   5.7  2022\n",
              "2  18.0  21.4        18.90       14.1   8.0  2021\n",
              "3  13.3  39.6         6.30        9.9  16.7  2021\n",
              "4  37.1   8.4         5.90       11.0  20.8  2021"
            ],
            "text/html": [
              "\n",
              "  <div id=\"df-4c202bef-8792-4b4e-9c03-fa51126788cf\">\n",
              "    <div class=\"colab-df-container\">\n",
              "      <div>\n",
              "<style scoped>\n",
              "    .dataframe tbody tr th:only-of-type {\n",
              "        vertical-align: middle;\n",
              "    }\n",
              "\n",
              "    .dataframe tbody tr th {\n",
              "        vertical-align: top;\n",
              "    }\n",
              "\n",
              "    .dataframe thead th {\n",
              "        text-align: right;\n",
              "    }\n",
              "</style>\n",
              "<table border=\"1\" class=\"dataframe\">\n",
              "  <thead>\n",
              "    <tr style=\"text-align: right;\">\n",
              "      <th></th>\n",
              "      <th>CDU</th>\n",
              "      <th>SPD</th>\n",
              "      <th>Die Gruenen</th>\n",
              "      <th>Die Linke</th>\n",
              "      <th>AfD</th>\n",
              "      <th>Year</th>\n",
              "    </tr>\n",
              "  </thead>\n",
              "  <tbody>\n",
              "    <tr>\n",
              "      <th>0</th>\n",
              "      <td>43.4</td>\n",
              "      <td>16.0</td>\n",
              "      <td>18.30</td>\n",
              "      <td>1.7</td>\n",
              "      <td>4.4</td>\n",
              "      <td>2022</td>\n",
              "    </tr>\n",
              "    <tr>\n",
              "      <th>1</th>\n",
              "      <td>28.5</td>\n",
              "      <td>43.5</td>\n",
              "      <td>4.99</td>\n",
              "      <td>2.6</td>\n",
              "      <td>5.7</td>\n",
              "      <td>2022</td>\n",
              "    </tr>\n",
              "    <tr>\n",
              "      <th>2</th>\n",
              "      <td>18.0</td>\n",
              "      <td>21.4</td>\n",
              "      <td>18.90</td>\n",
              "      <td>14.1</td>\n",
              "      <td>8.0</td>\n",
              "      <td>2021</td>\n",
              "    </tr>\n",
              "    <tr>\n",
              "      <th>3</th>\n",
              "      <td>13.3</td>\n",
              "      <td>39.6</td>\n",
              "      <td>6.30</td>\n",
              "      <td>9.9</td>\n",
              "      <td>16.7</td>\n",
              "      <td>2021</td>\n",
              "    </tr>\n",
              "    <tr>\n",
              "      <th>4</th>\n",
              "      <td>37.1</td>\n",
              "      <td>8.4</td>\n",
              "      <td>5.90</td>\n",
              "      <td>11.0</td>\n",
              "      <td>20.8</td>\n",
              "      <td>2021</td>\n",
              "    </tr>\n",
              "  </tbody>\n",
              "</table>\n",
              "</div>\n",
              "      <button class=\"colab-df-convert\" onclick=\"convertToInteractive('df-4c202bef-8792-4b4e-9c03-fa51126788cf')\"\n",
              "              title=\"Convert this dataframe to an interactive table.\"\n",
              "              style=\"display:none;\">\n",
              "        \n",
              "  <svg xmlns=\"http://www.w3.org/2000/svg\" height=\"24px\"viewBox=\"0 0 24 24\"\n",
              "       width=\"24px\">\n",
              "    <path d=\"M0 0h24v24H0V0z\" fill=\"none\"/>\n",
              "    <path d=\"M18.56 5.44l.94 2.06.94-2.06 2.06-.94-2.06-.94-.94-2.06-.94 2.06-2.06.94zm-11 1L8.5 8.5l.94-2.06 2.06-.94-2.06-.94L8.5 2.5l-.94 2.06-2.06.94zm10 10l.94 2.06.94-2.06 2.06-.94-2.06-.94-.94-2.06-.94 2.06-2.06.94z\"/><path d=\"M17.41 7.96l-1.37-1.37c-.4-.4-.92-.59-1.43-.59-.52 0-1.04.2-1.43.59L10.3 9.45l-7.72 7.72c-.78.78-.78 2.05 0 2.83L4 21.41c.39.39.9.59 1.41.59.51 0 1.02-.2 1.41-.59l7.78-7.78 2.81-2.81c.8-.78.8-2.07 0-2.86zM5.41 20L4 18.59l7.72-7.72 1.47 1.35L5.41 20z\"/>\n",
              "  </svg>\n",
              "      </button>\n",
              "      \n",
              "  <style>\n",
              "    .colab-df-container {\n",
              "      display:flex;\n",
              "      flex-wrap:wrap;\n",
              "      gap: 12px;\n",
              "    }\n",
              "\n",
              "    .colab-df-convert {\n",
              "      background-color: #E8F0FE;\n",
              "      border: none;\n",
              "      border-radius: 50%;\n",
              "      cursor: pointer;\n",
              "      display: none;\n",
              "      fill: #1967D2;\n",
              "      height: 32px;\n",
              "      padding: 0 0 0 0;\n",
              "      width: 32px;\n",
              "    }\n",
              "\n",
              "    .colab-df-convert:hover {\n",
              "      background-color: #E2EBFA;\n",
              "      box-shadow: 0px 1px 2px rgba(60, 64, 67, 0.3), 0px 1px 3px 1px rgba(60, 64, 67, 0.15);\n",
              "      fill: #174EA6;\n",
              "    }\n",
              "\n",
              "    [theme=dark] .colab-df-convert {\n",
              "      background-color: #3B4455;\n",
              "      fill: #D2E3FC;\n",
              "    }\n",
              "\n",
              "    [theme=dark] .colab-df-convert:hover {\n",
              "      background-color: #434B5C;\n",
              "      box-shadow: 0px 1px 3px 1px rgba(0, 0, 0, 0.15);\n",
              "      filter: drop-shadow(0px 1px 2px rgba(0, 0, 0, 0.3));\n",
              "      fill: #FFFFFF;\n",
              "    }\n",
              "  </style>\n",
              "\n",
              "      <script>\n",
              "        const buttonEl =\n",
              "          document.querySelector('#df-4c202bef-8792-4b4e-9c03-fa51126788cf button.colab-df-convert');\n",
              "        buttonEl.style.display =\n",
              "          google.colab.kernel.accessAllowed ? 'block' : 'none';\n",
              "\n",
              "        async function convertToInteractive(key) {\n",
              "          const element = document.querySelector('#df-4c202bef-8792-4b4e-9c03-fa51126788cf');\n",
              "          const dataTable =\n",
              "            await google.colab.kernel.invokeFunction('convertToInteractive',\n",
              "                                                     [key], {});\n",
              "          if (!dataTable) return;\n",
              "\n",
              "          const docLinkHtml = 'Like what you see? Visit the ' +\n",
              "            '<a target=\"_blank\" href=https://colab.research.google.com/notebooks/data_table.ipynb>data table notebook</a>'\n",
              "            + ' to learn more about interactive tables.';\n",
              "          element.innerHTML = '';\n",
              "          dataTable['output_type'] = 'display_data';\n",
              "          await google.colab.output.renderOutput(dataTable, element);\n",
              "          const docLink = document.createElement('div');\n",
              "          docLink.innerHTML = docLinkHtml;\n",
              "          element.appendChild(docLink);\n",
              "        }\n",
              "      </script>\n",
              "    </div>\n",
              "  </div>\n",
              "  "
            ],
            "application/vnd.google.colaboratory.module+javascript": "\n      import \"https://ssl.gstatic.com/colaboratory/data_table/f872b2c2305463fd/data_table.js\";\n\n      window.createDataTable({\n        data: [[{\n            'v': 0,\n            'f': \"0\",\n        },\n{\n            'v': 43.4,\n            'f': \"43.4\",\n        },\n{\n            'v': 16.0,\n            'f': \"16.0\",\n        },\n{\n            'v': 18.3,\n            'f': \"18.3\",\n        },\n{\n            'v': 1.7,\n            'f': \"1.7\",\n        },\n{\n            'v': 4.4,\n            'f': \"4.4\",\n        },\n{\n            'v': 2022,\n            'f': \"2022\",\n        }],\n [{\n            'v': 1,\n            'f': \"1\",\n        },\n{\n            'v': 28.5,\n            'f': \"28.5\",\n        },\n{\n            'v': 43.5,\n            'f': \"43.5\",\n        },\n{\n            'v': 4.99,\n            'f': \"4.99\",\n        },\n{\n            'v': 2.6,\n            'f': \"2.6\",\n        },\n{\n            'v': 5.7,\n            'f': \"5.7\",\n        },\n{\n            'v': 2022,\n            'f': \"2022\",\n        }],\n [{\n            'v': 2,\n            'f': \"2\",\n        },\n{\n            'v': 18.0,\n            'f': \"18.0\",\n        },\n{\n            'v': 21.4,\n            'f': \"21.4\",\n        },\n{\n            'v': 18.9,\n            'f': \"18.9\",\n        },\n{\n            'v': 14.1,\n            'f': \"14.1\",\n        },\n{\n            'v': 8.0,\n            'f': \"8.0\",\n        },\n{\n            'v': 2021,\n            'f': \"2021\",\n        }],\n [{\n            'v': 3,\n            'f': \"3\",\n        },\n{\n            'v': 13.3,\n            'f': \"13.3\",\n        },\n{\n            'v': 39.6,\n            'f': \"39.6\",\n        },\n{\n            'v': 6.3,\n            'f': \"6.3\",\n        },\n{\n            'v': 9.9,\n            'f': \"9.9\",\n        },\n{\n            'v': 16.7,\n            'f': \"16.7\",\n        },\n{\n            'v': 2021,\n            'f': \"2021\",\n        }],\n [{\n            'v': 4,\n            'f': \"4\",\n        },\n{\n            'v': 37.1,\n            'f': \"37.1\",\n        },\n{\n            'v': 8.4,\n            'f': \"8.4\",\n        },\n{\n            'v': 5.9,\n            'f': \"5.9\",\n        },\n{\n            'v': 11.0,\n            'f': \"11.0\",\n        },\n{\n            'v': 20.8,\n            'f': \"20.8\",\n        },\n{\n            'v': 2021,\n            'f': \"2021\",\n        }]],\n        columns: [[\"number\", \"index\"], [\"number\", \"CDU\"], [\"number\", \"SPD\"], [\"number\", \"Die Gruenen\"], [\"number\", \"Die Linke\"], [\"number\", \"AfD\"], [\"number\", \"Year\"]],\n        columnOptions: [{\"width\": \"1px\", \"className\": \"index_column\"}],\n        rowsPerPage: 25,\n        helpUrl: \"https://colab.research.google.com/notebooks/data_table.ipynb\",\n        suppressOutputScrolling: true,\n        minimumWidth: undefined,\n      });\n    "
          },
          "metadata": {},
          "execution_count": 48
        }
      ]
    },
    {
      "cell_type": "code",
      "source": [
        "election_result_party=election_results_german_federal_states_df_mod1.groupby(['Year']).mean()"
      ],
      "metadata": {
        "id": "NBxowAilSM-6"
      },
      "execution_count": null,
      "outputs": []
    },
    {
      "cell_type": "code",
      "source": [
        "election_result_party.head()"
      ],
      "metadata": {
        "colab": {
          "base_uri": "https://localhost:8080/",
          "height": 196
        },
        "id": "Kd-jtsszS3-c",
        "outputId": "be68ec05-7d95-4dee-e9ae-619530c0b21d"
      },
      "execution_count": null,
      "outputs": [
        {
          "output_type": "execute_result",
          "data": {
            "text/plain": [
              "            CDU        SPD  Die Gruenen  Die Linke    AfD\n",
              "Year                                                     \n",
              "2010  34.600000  34.500000    12.100000   5.600000    NaN\n",
              "2011  27.900000  33.028571    15.242857  10.228571    NaN\n",
              "2012  30.766667  33.366667     9.833333   6.966667    NaN\n",
              "2013  37.150000  27.966667    11.133333   3.466667   4.10\n",
              "2014  36.450000  12.400000     5.700000  23.550000  10.15"
            ],
            "text/html": [
              "\n",
              "  <div id=\"df-a056bab7-ea89-4109-b8c9-bbdeb1013024\">\n",
              "    <div class=\"colab-df-container\">\n",
              "      <div>\n",
              "<style scoped>\n",
              "    .dataframe tbody tr th:only-of-type {\n",
              "        vertical-align: middle;\n",
              "    }\n",
              "\n",
              "    .dataframe tbody tr th {\n",
              "        vertical-align: top;\n",
              "    }\n",
              "\n",
              "    .dataframe thead th {\n",
              "        text-align: right;\n",
              "    }\n",
              "</style>\n",
              "<table border=\"1\" class=\"dataframe\">\n",
              "  <thead>\n",
              "    <tr style=\"text-align: right;\">\n",
              "      <th></th>\n",
              "      <th>CDU</th>\n",
              "      <th>SPD</th>\n",
              "      <th>Die Gruenen</th>\n",
              "      <th>Die Linke</th>\n",
              "      <th>AfD</th>\n",
              "    </tr>\n",
              "    <tr>\n",
              "      <th>Year</th>\n",
              "      <th></th>\n",
              "      <th></th>\n",
              "      <th></th>\n",
              "      <th></th>\n",
              "      <th></th>\n",
              "    </tr>\n",
              "  </thead>\n",
              "  <tbody>\n",
              "    <tr>\n",
              "      <th>2010</th>\n",
              "      <td>34.600000</td>\n",
              "      <td>34.500000</td>\n",
              "      <td>12.100000</td>\n",
              "      <td>5.600000</td>\n",
              "      <td>NaN</td>\n",
              "    </tr>\n",
              "    <tr>\n",
              "      <th>2011</th>\n",
              "      <td>27.900000</td>\n",
              "      <td>33.028571</td>\n",
              "      <td>15.242857</td>\n",
              "      <td>10.228571</td>\n",
              "      <td>NaN</td>\n",
              "    </tr>\n",
              "    <tr>\n",
              "      <th>2012</th>\n",
              "      <td>30.766667</td>\n",
              "      <td>33.366667</td>\n",
              "      <td>9.833333</td>\n",
              "      <td>6.966667</td>\n",
              "      <td>NaN</td>\n",
              "    </tr>\n",
              "    <tr>\n",
              "      <th>2013</th>\n",
              "      <td>37.150000</td>\n",
              "      <td>27.966667</td>\n",
              "      <td>11.133333</td>\n",
              "      <td>3.466667</td>\n",
              "      <td>4.10</td>\n",
              "    </tr>\n",
              "    <tr>\n",
              "      <th>2014</th>\n",
              "      <td>36.450000</td>\n",
              "      <td>12.400000</td>\n",
              "      <td>5.700000</td>\n",
              "      <td>23.550000</td>\n",
              "      <td>10.15</td>\n",
              "    </tr>\n",
              "  </tbody>\n",
              "</table>\n",
              "</div>\n",
              "      <button class=\"colab-df-convert\" onclick=\"convertToInteractive('df-a056bab7-ea89-4109-b8c9-bbdeb1013024')\"\n",
              "              title=\"Convert this dataframe to an interactive table.\"\n",
              "              style=\"display:none;\">\n",
              "        \n",
              "  <svg xmlns=\"http://www.w3.org/2000/svg\" height=\"24px\"viewBox=\"0 0 24 24\"\n",
              "       width=\"24px\">\n",
              "    <path d=\"M0 0h24v24H0V0z\" fill=\"none\"/>\n",
              "    <path d=\"M18.56 5.44l.94 2.06.94-2.06 2.06-.94-2.06-.94-.94-2.06-.94 2.06-2.06.94zm-11 1L8.5 8.5l.94-2.06 2.06-.94-2.06-.94L8.5 2.5l-.94 2.06-2.06.94zm10 10l.94 2.06.94-2.06 2.06-.94-2.06-.94-.94-2.06-.94 2.06-2.06.94z\"/><path d=\"M17.41 7.96l-1.37-1.37c-.4-.4-.92-.59-1.43-.59-.52 0-1.04.2-1.43.59L10.3 9.45l-7.72 7.72c-.78.78-.78 2.05 0 2.83L4 21.41c.39.39.9.59 1.41.59.51 0 1.02-.2 1.41-.59l7.78-7.78 2.81-2.81c.8-.78.8-2.07 0-2.86zM5.41 20L4 18.59l7.72-7.72 1.47 1.35L5.41 20z\"/>\n",
              "  </svg>\n",
              "      </button>\n",
              "      \n",
              "  <style>\n",
              "    .colab-df-container {\n",
              "      display:flex;\n",
              "      flex-wrap:wrap;\n",
              "      gap: 12px;\n",
              "    }\n",
              "\n",
              "    .colab-df-convert {\n",
              "      background-color: #E8F0FE;\n",
              "      border: none;\n",
              "      border-radius: 50%;\n",
              "      cursor: pointer;\n",
              "      display: none;\n",
              "      fill: #1967D2;\n",
              "      height: 32px;\n",
              "      padding: 0 0 0 0;\n",
              "      width: 32px;\n",
              "    }\n",
              "\n",
              "    .colab-df-convert:hover {\n",
              "      background-color: #E2EBFA;\n",
              "      box-shadow: 0px 1px 2px rgba(60, 64, 67, 0.3), 0px 1px 3px 1px rgba(60, 64, 67, 0.15);\n",
              "      fill: #174EA6;\n",
              "    }\n",
              "\n",
              "    [theme=dark] .colab-df-convert {\n",
              "      background-color: #3B4455;\n",
              "      fill: #D2E3FC;\n",
              "    }\n",
              "\n",
              "    [theme=dark] .colab-df-convert:hover {\n",
              "      background-color: #434B5C;\n",
              "      box-shadow: 0px 1px 3px 1px rgba(0, 0, 0, 0.15);\n",
              "      filter: drop-shadow(0px 1px 2px rgba(0, 0, 0, 0.3));\n",
              "      fill: #FFFFFF;\n",
              "    }\n",
              "  </style>\n",
              "\n",
              "      <script>\n",
              "        const buttonEl =\n",
              "          document.querySelector('#df-a056bab7-ea89-4109-b8c9-bbdeb1013024 button.colab-df-convert');\n",
              "        buttonEl.style.display =\n",
              "          google.colab.kernel.accessAllowed ? 'block' : 'none';\n",
              "\n",
              "        async function convertToInteractive(key) {\n",
              "          const element = document.querySelector('#df-a056bab7-ea89-4109-b8c9-bbdeb1013024');\n",
              "          const dataTable =\n",
              "            await google.colab.kernel.invokeFunction('convertToInteractive',\n",
              "                                                     [key], {});\n",
              "          if (!dataTable) return;\n",
              "\n",
              "          const docLinkHtml = 'Like what you see? Visit the ' +\n",
              "            '<a target=\"_blank\" href=https://colab.research.google.com/notebooks/data_table.ipynb>data table notebook</a>'\n",
              "            + ' to learn more about interactive tables.';\n",
              "          element.innerHTML = '';\n",
              "          dataTable['output_type'] = 'display_data';\n",
              "          await google.colab.output.renderOutput(dataTable, element);\n",
              "          const docLink = document.createElement('div');\n",
              "          docLink.innerHTML = docLinkHtml;\n",
              "          element.appendChild(docLink);\n",
              "        }\n",
              "      </script>\n",
              "    </div>\n",
              "  </div>\n",
              "  "
            ],
            "application/vnd.google.colaboratory.module+javascript": "\n      import \"https://ssl.gstatic.com/colaboratory/data_table/f872b2c2305463fd/data_table.js\";\n\n      window.createDataTable({\n        data: [[{\n            'v': 2010,\n            'f': \"2010\",\n        },\n{\n            'v': 34.6,\n            'f': \"34.6\",\n        },\n{\n            'v': 34.5,\n            'f': \"34.5\",\n        },\n{\n            'v': 12.1,\n            'f': \"12.1\",\n        },\n{\n            'v': 5.6,\n            'f': \"5.6\",\n        },\n{\n            'v': NaN,\n            'f': \"NaN\",\n        }],\n [{\n            'v': 2011,\n            'f': \"2011\",\n        },\n{\n            'v': 27.900000000000002,\n            'f': \"27.900000000000002\",\n        },\n{\n            'v': 33.028571428571425,\n            'f': \"33.028571428571425\",\n        },\n{\n            'v': 15.242857142857144,\n            'f': \"15.242857142857144\",\n        },\n{\n            'v': 10.228571428571428,\n            'f': \"10.228571428571428\",\n        },\n{\n            'v': NaN,\n            'f': \"NaN\",\n        }],\n [{\n            'v': 2012,\n            'f': \"2012\",\n        },\n{\n            'v': 30.76666666666667,\n            'f': \"30.76666666666667\",\n        },\n{\n            'v': 33.36666666666667,\n            'f': \"33.36666666666667\",\n        },\n{\n            'v': 9.833333333333334,\n            'f': \"9.833333333333334\",\n        },\n{\n            'v': 6.966666666666668,\n            'f': \"6.966666666666668\",\n        },\n{\n            'v': NaN,\n            'f': \"NaN\",\n        }],\n [{\n            'v': 2013,\n            'f': \"2013\",\n        },\n{\n            'v': 37.15,\n            'f': \"37.15\",\n        },\n{\n            'v': 27.96666666666667,\n            'f': \"27.96666666666667\",\n        },\n{\n            'v': 11.133333333333333,\n            'f': \"11.133333333333333\",\n        },\n{\n            'v': 3.466666666666667,\n            'f': \"3.466666666666667\",\n        },\n{\n            'v': 4.1,\n            'f': \"4.1\",\n        }],\n [{\n            'v': 2014,\n            'f': \"2014\",\n        },\n{\n            'v': 36.45,\n            'f': \"36.45\",\n        },\n{\n            'v': 12.4,\n            'f': \"12.4\",\n        },\n{\n            'v': 5.7,\n            'f': \"5.7\",\n        },\n{\n            'v': 23.549999999999997,\n            'f': \"23.549999999999997\",\n        },\n{\n            'v': 10.149999999999999,\n            'f': \"10.149999999999999\",\n        }]],\n        columns: [[\"number\", \"Year\"], [\"number\", \"CDU\"], [\"number\", \"SPD\"], [\"number\", \"Die Gruenen\"], [\"number\", \"Die Linke\"], [\"number\", \"AfD\"]],\n        columnOptions: [{\"width\": \"1px\", \"className\": \"index_column\"}],\n        rowsPerPage: 25,\n        helpUrl: \"https://colab.research.google.com/notebooks/data_table.ipynb\",\n        suppressOutputScrolling: true,\n        minimumWidth: undefined,\n      });\n    "
          },
          "metadata": {},
          "execution_count": 50
        }
      ]
    },
    {
      "cell_type": "code",
      "source": [
        "# selection of 2022 results\n",
        "\n",
        "result_2022=election_result_party.loc[[2022],:]"
      ],
      "metadata": {
        "id": "iS2wZiBVTGiJ"
      },
      "execution_count": null,
      "outputs": []
    },
    {
      "cell_type": "code",
      "source": [
        "result_2022"
      ],
      "metadata": {
        "colab": {
          "base_uri": "https://localhost:8080/",
          "height": 110
        },
        "id": "YLKnXPnJhQy6",
        "outputId": "1f5ac950-9450-434c-f72f-e94559ce3d8b"
      },
      "execution_count": null,
      "outputs": [
        {
          "output_type": "execute_result",
          "data": {
            "text/plain": [
              "            CDU        SPD  Die Gruenen  Die Linke       AfD\n",
              "Year                                                        \n",
              "2022  35.866667  28.733333        13.83   2.133333  5.166667"
            ],
            "text/html": [
              "\n",
              "  <div id=\"df-ecda1190-e753-47a4-889e-93e41784b469\">\n",
              "    <div class=\"colab-df-container\">\n",
              "      <div>\n",
              "<style scoped>\n",
              "    .dataframe tbody tr th:only-of-type {\n",
              "        vertical-align: middle;\n",
              "    }\n",
              "\n",
              "    .dataframe tbody tr th {\n",
              "        vertical-align: top;\n",
              "    }\n",
              "\n",
              "    .dataframe thead th {\n",
              "        text-align: right;\n",
              "    }\n",
              "</style>\n",
              "<table border=\"1\" class=\"dataframe\">\n",
              "  <thead>\n",
              "    <tr style=\"text-align: right;\">\n",
              "      <th></th>\n",
              "      <th>CDU</th>\n",
              "      <th>SPD</th>\n",
              "      <th>Die Gruenen</th>\n",
              "      <th>Die Linke</th>\n",
              "      <th>AfD</th>\n",
              "    </tr>\n",
              "    <tr>\n",
              "      <th>Year</th>\n",
              "      <th></th>\n",
              "      <th></th>\n",
              "      <th></th>\n",
              "      <th></th>\n",
              "      <th></th>\n",
              "    </tr>\n",
              "  </thead>\n",
              "  <tbody>\n",
              "    <tr>\n",
              "      <th>2022</th>\n",
              "      <td>35.866667</td>\n",
              "      <td>28.733333</td>\n",
              "      <td>13.83</td>\n",
              "      <td>2.133333</td>\n",
              "      <td>5.166667</td>\n",
              "    </tr>\n",
              "  </tbody>\n",
              "</table>\n",
              "</div>\n",
              "      <button class=\"colab-df-convert\" onclick=\"convertToInteractive('df-ecda1190-e753-47a4-889e-93e41784b469')\"\n",
              "              title=\"Convert this dataframe to an interactive table.\"\n",
              "              style=\"display:none;\">\n",
              "        \n",
              "  <svg xmlns=\"http://www.w3.org/2000/svg\" height=\"24px\"viewBox=\"0 0 24 24\"\n",
              "       width=\"24px\">\n",
              "    <path d=\"M0 0h24v24H0V0z\" fill=\"none\"/>\n",
              "    <path d=\"M18.56 5.44l.94 2.06.94-2.06 2.06-.94-2.06-.94-.94-2.06-.94 2.06-2.06.94zm-11 1L8.5 8.5l.94-2.06 2.06-.94-2.06-.94L8.5 2.5l-.94 2.06-2.06.94zm10 10l.94 2.06.94-2.06 2.06-.94-2.06-.94-.94-2.06-.94 2.06-2.06.94z\"/><path d=\"M17.41 7.96l-1.37-1.37c-.4-.4-.92-.59-1.43-.59-.52 0-1.04.2-1.43.59L10.3 9.45l-7.72 7.72c-.78.78-.78 2.05 0 2.83L4 21.41c.39.39.9.59 1.41.59.51 0 1.02-.2 1.41-.59l7.78-7.78 2.81-2.81c.8-.78.8-2.07 0-2.86zM5.41 20L4 18.59l7.72-7.72 1.47 1.35L5.41 20z\"/>\n",
              "  </svg>\n",
              "      </button>\n",
              "      \n",
              "  <style>\n",
              "    .colab-df-container {\n",
              "      display:flex;\n",
              "      flex-wrap:wrap;\n",
              "      gap: 12px;\n",
              "    }\n",
              "\n",
              "    .colab-df-convert {\n",
              "      background-color: #E8F0FE;\n",
              "      border: none;\n",
              "      border-radius: 50%;\n",
              "      cursor: pointer;\n",
              "      display: none;\n",
              "      fill: #1967D2;\n",
              "      height: 32px;\n",
              "      padding: 0 0 0 0;\n",
              "      width: 32px;\n",
              "    }\n",
              "\n",
              "    .colab-df-convert:hover {\n",
              "      background-color: #E2EBFA;\n",
              "      box-shadow: 0px 1px 2px rgba(60, 64, 67, 0.3), 0px 1px 3px 1px rgba(60, 64, 67, 0.15);\n",
              "      fill: #174EA6;\n",
              "    }\n",
              "\n",
              "    [theme=dark] .colab-df-convert {\n",
              "      background-color: #3B4455;\n",
              "      fill: #D2E3FC;\n",
              "    }\n",
              "\n",
              "    [theme=dark] .colab-df-convert:hover {\n",
              "      background-color: #434B5C;\n",
              "      box-shadow: 0px 1px 3px 1px rgba(0, 0, 0, 0.15);\n",
              "      filter: drop-shadow(0px 1px 2px rgba(0, 0, 0, 0.3));\n",
              "      fill: #FFFFFF;\n",
              "    }\n",
              "  </style>\n",
              "\n",
              "      <script>\n",
              "        const buttonEl =\n",
              "          document.querySelector('#df-ecda1190-e753-47a4-889e-93e41784b469 button.colab-df-convert');\n",
              "        buttonEl.style.display =\n",
              "          google.colab.kernel.accessAllowed ? 'block' : 'none';\n",
              "\n",
              "        async function convertToInteractive(key) {\n",
              "          const element = document.querySelector('#df-ecda1190-e753-47a4-889e-93e41784b469');\n",
              "          const dataTable =\n",
              "            await google.colab.kernel.invokeFunction('convertToInteractive',\n",
              "                                                     [key], {});\n",
              "          if (!dataTable) return;\n",
              "\n",
              "          const docLinkHtml = 'Like what you see? Visit the ' +\n",
              "            '<a target=\"_blank\" href=https://colab.research.google.com/notebooks/data_table.ipynb>data table notebook</a>'\n",
              "            + ' to learn more about interactive tables.';\n",
              "          element.innerHTML = '';\n",
              "          dataTable['output_type'] = 'display_data';\n",
              "          await google.colab.output.renderOutput(dataTable, element);\n",
              "          const docLink = document.createElement('div');\n",
              "          docLink.innerHTML = docLinkHtml;\n",
              "          element.appendChild(docLink);\n",
              "        }\n",
              "      </script>\n",
              "    </div>\n",
              "  </div>\n",
              "  "
            ],
            "application/vnd.google.colaboratory.module+javascript": "\n      import \"https://ssl.gstatic.com/colaboratory/data_table/f872b2c2305463fd/data_table.js\";\n\n      window.createDataTable({\n        data: [[{\n            'v': 2022,\n            'f': \"2022\",\n        },\n{\n            'v': 35.86666666666667,\n            'f': \"35.86666666666667\",\n        },\n{\n            'v': 28.733333333333334,\n            'f': \"28.733333333333334\",\n        },\n{\n            'v': 13.83,\n            'f': \"13.83\",\n        },\n{\n            'v': 2.1333333333333333,\n            'f': \"2.1333333333333333\",\n        },\n{\n            'v': 5.166666666666667,\n            'f': \"5.166666666666667\",\n        }]],\n        columns: [[\"number\", \"Year\"], [\"number\", \"CDU\"], [\"number\", \"SPD\"], [\"number\", \"Die Gruenen\"], [\"number\", \"Die Linke\"], [\"number\", \"AfD\"]],\n        columnOptions: [{\"width\": \"1px\", \"className\": \"index_column\"}],\n        rowsPerPage: 25,\n        helpUrl: \"https://colab.research.google.com/notebooks/data_table.ipynb\",\n        suppressOutputScrolling: true,\n        minimumWidth: undefined,\n      });\n    "
          },
          "metadata": {},
          "execution_count": 52
        }
      ]
    },
    {
      "cell_type": "code",
      "source": [
        "# pie chart distribution\n",
        "\n",
        "import matplotlib.pyplot as plt\n",
        "import seaborn as sns\n",
        "\n",
        "#define data\n",
        "data=[result_2022[\"CDU\"],result_2022[\"SPD\"],result_2022[\"Die Gruenen\"],result_2022[\"Die Linke\"],result_2022[\"AfD\"]]\n",
        "labels = [\"CDU\",\"SPD\",\"Die Gruenen\",\"Die Linke\",\"AfD\"]\n",
        "\n",
        "#define Seaborn color palette to use\n",
        "colors = sns.color_palette('pastel')[0:5]\n",
        "\n",
        "#create pie chart\n",
        "plt.pie(data, labels = labels, colors = colors, autopct='%.0f%%')\n",
        "plt.show()"
      ],
      "metadata": {
        "colab": {
          "base_uri": "https://localhost:8080/",
          "height": 304
        },
        "id": "-aRd0R4yheaI",
        "outputId": "6e2fafc7-0678-4438-c976-5447a79bf42c"
      },
      "execution_count": null,
      "outputs": [
        {
          "output_type": "stream",
          "name": "stderr",
          "text": [
            "/usr/local/lib/python3.7/dist-packages/ipykernel_launcher.py:14: MatplotlibDeprecationWarning: Non-1D inputs to pie() are currently squeeze()d, but this behavior is deprecated since 3.1 and will be removed in 3.3; pass a 1D array instead.\n",
            "  \n"
          ]
        },
        {
          "output_type": "display_data",
          "data": {
            "text/plain": [
              "<Figure size 432x288 with 1 Axes>"
            ],
            "image/png": "[encoded data removed]"
          },
          "metadata": {}
        }
      ]
    },
    {
      "cell_type": "code",
      "source": [
        "federal_elections_germany_survey_df_mod1.head()"
      ],
      "metadata": {
        "colab": {
          "base_uri": "https://localhost:8080/",
          "height": 196
        },
        "id": "wW-WUg0NWeP8",
        "outputId": "5677e51d-862e-4079-ac62-7d4ad4090960"
      },
      "execution_count": null,
      "outputs": [
        {
          "output_type": "execute_result",
          "data": {
            "text/plain": [
              "         date   CDU   SPD  GRÜNE  LINKE   AfD\n",
              "0  21.04.2022  26.0  15.0   28.0    3.0   9.0\n",
              "1  06.04.2022  23.0  19.0   25.0    3.0  10.0\n",
              "2  10.03.2022  24.0  18.0   27.0    3.0   9.0\n",
              "3  20.01.2022  23.0  16.0   26.0    4.0  11.0\n",
              "4  12.10.2021  20.0  21.0   24.0    3.0   9.0"
            ],
            "text/html": [
              "\n",
              "  <div id=\"df-3f7a3310-6f8b-4a49-a1cc-0a75bcac481f\">\n",
              "    <div class=\"colab-df-container\">\n",
              "      <div>\n",
              "<style scoped>\n",
              "    .dataframe tbody tr th:only-of-type {\n",
              "        vertical-align: middle;\n",
              "    }\n",
              "\n",
              "    .dataframe tbody tr th {\n",
              "        vertical-align: top;\n",
              "    }\n",
              "\n",
              "    .dataframe thead th {\n",
              "        text-align: right;\n",
              "    }\n",
              "</style>\n",
              "<table border=\"1\" class=\"dataframe\">\n",
              "  <thead>\n",
              "    <tr style=\"text-align: right;\">\n",
              "      <th></th>\n",
              "      <th>date</th>\n",
              "      <th>CDU</th>\n",
              "      <th>SPD</th>\n",
              "      <th>GRÜNE</th>\n",
              "      <th>LINKE</th>\n",
              "      <th>AfD</th>\n",
              "    </tr>\n",
              "  </thead>\n",
              "  <tbody>\n",
              "    <tr>\n",
              "      <th>0</th>\n",
              "      <td>21.04.2022</td>\n",
              "      <td>26.0</td>\n",
              "      <td>15.0</td>\n",
              "      <td>28.0</td>\n",
              "      <td>3.0</td>\n",
              "      <td>9.0</td>\n",
              "    </tr>\n",
              "    <tr>\n",
              "      <th>1</th>\n",
              "      <td>06.04.2022</td>\n",
              "      <td>23.0</td>\n",
              "      <td>19.0</td>\n",
              "      <td>25.0</td>\n",
              "      <td>3.0</td>\n",
              "      <td>10.0</td>\n",
              "    </tr>\n",
              "    <tr>\n",
              "      <th>2</th>\n",
              "      <td>10.03.2022</td>\n",
              "      <td>24.0</td>\n",
              "      <td>18.0</td>\n",
              "      <td>27.0</td>\n",
              "      <td>3.0</td>\n",
              "      <td>9.0</td>\n",
              "    </tr>\n",
              "    <tr>\n",
              "      <th>3</th>\n",
              "      <td>20.01.2022</td>\n",
              "      <td>23.0</td>\n",
              "      <td>16.0</td>\n",
              "      <td>26.0</td>\n",
              "      <td>4.0</td>\n",
              "      <td>11.0</td>\n",
              "    </tr>\n",
              "    <tr>\n",
              "      <th>4</th>\n",
              "      <td>12.10.2021</td>\n",
              "      <td>20.0</td>\n",
              "      <td>21.0</td>\n",
              "      <td>24.0</td>\n",
              "      <td>3.0</td>\n",
              "      <td>9.0</td>\n",
              "    </tr>\n",
              "  </tbody>\n",
              "</table>\n",
              "</div>\n",
              "      <button class=\"colab-df-convert\" onclick=\"convertToInteractive('df-3f7a3310-6f8b-4a49-a1cc-0a75bcac481f')\"\n",
              "              title=\"Convert this dataframe to an interactive table.\"\n",
              "              style=\"display:none;\">\n",
              "        \n",
              "  <svg xmlns=\"http://www.w3.org/2000/svg\" height=\"24px\"viewBox=\"0 0 24 24\"\n",
              "       width=\"24px\">\n",
              "    <path d=\"M0 0h24v24H0V0z\" fill=\"none\"/>\n",
              "    <path d=\"M18.56 5.44l.94 2.06.94-2.06 2.06-.94-2.06-.94-.94-2.06-.94 2.06-2.06.94zm-11 1L8.5 8.5l.94-2.06 2.06-.94-2.06-.94L8.5 2.5l-.94 2.06-2.06.94zm10 10l.94 2.06.94-2.06 2.06-.94-2.06-.94-.94-2.06-.94 2.06-2.06.94z\"/><path d=\"M17.41 7.96l-1.37-1.37c-.4-.4-.92-.59-1.43-.59-.52 0-1.04.2-1.43.59L10.3 9.45l-7.72 7.72c-.78.78-.78 2.05 0 2.83L4 21.41c.39.39.9.59 1.41.59.51 0 1.02-.2 1.41-.59l7.78-7.78 2.81-2.81c.8-.78.8-2.07 0-2.86zM5.41 20L4 18.59l7.72-7.72 1.47 1.35L5.41 20z\"/>\n",
              "  </svg>\n",
              "      </button>\n",
              "      \n",
              "  <style>\n",
              "    .colab-df-container {\n",
              "      display:flex;\n",
              "      flex-wrap:wrap;\n",
              "      gap: 12px;\n",
              "    }\n",
              "\n",
              "    .colab-df-convert {\n",
              "      background-color: #E8F0FE;\n",
              "      border: none;\n",
              "      border-radius: 50%;\n",
              "      cursor: pointer;\n",
              "      display: none;\n",
              "      fill: #1967D2;\n",
              "      height: 32px;\n",
              "      padding: 0 0 0 0;\n",
              "      width: 32px;\n",
              "    }\n",
              "\n",
              "    .colab-df-convert:hover {\n",
              "      background-color: #E2EBFA;\n",
              "      box-shadow: 0px 1px 2px rgba(60, 64, 67, 0.3), 0px 1px 3px 1px rgba(60, 64, 67, 0.15);\n",
              "      fill: #174EA6;\n",
              "    }\n",
              "\n",
              "    [theme=dark] .colab-df-convert {\n",
              "      background-color: #3B4455;\n",
              "      fill: #D2E3FC;\n",
              "    }\n",
              "\n",
              "    [theme=dark] .colab-df-convert:hover {\n",
              "      background-color: #434B5C;\n",
              "      box-shadow: 0px 1px 3px 1px rgba(0, 0, 0, 0.15);\n",
              "      filter: drop-shadow(0px 1px 2px rgba(0, 0, 0, 0.3));\n",
              "      fill: #FFFFFF;\n",
              "    }\n",
              "  </style>\n",
              "\n",
              "      <script>\n",
              "        const buttonEl =\n",
              "          document.querySelector('#df-3f7a3310-6f8b-4a49-a1cc-0a75bcac481f button.colab-df-convert');\n",
              "        buttonEl.style.display =\n",
              "          google.colab.kernel.accessAllowed ? 'block' : 'none';\n",
              "\n",
              "        async function convertToInteractive(key) {\n",
              "          const element = document.querySelector('#df-3f7a3310-6f8b-4a49-a1cc-0a75bcac481f');\n",
              "          const dataTable =\n",
              "            await google.colab.kernel.invokeFunction('convertToInteractive',\n",
              "                                                     [key], {});\n",
              "          if (!dataTable) return;\n",
              "\n",
              "          const docLinkHtml = 'Like what you see? Visit the ' +\n",
              "            '<a target=\"_blank\" href=https://colab.research.google.com/notebooks/data_table.ipynb>data table notebook</a>'\n",
              "            + ' to learn more about interactive tables.';\n",
              "          element.innerHTML = '';\n",
              "          dataTable['output_type'] = 'display_data';\n",
              "          await google.colab.output.renderOutput(dataTable, element);\n",
              "          const docLink = document.createElement('div');\n",
              "          docLink.innerHTML = docLinkHtml;\n",
              "          element.appendChild(docLink);\n",
              "        }\n",
              "      </script>\n",
              "    </div>\n",
              "  </div>\n",
              "  "
            ],
            "application/vnd.google.colaboratory.module+javascript": "\n      import \"https://ssl.gstatic.com/colaboratory/data_table/f872b2c2305463fd/data_table.js\";\n\n      window.createDataTable({\n        data: [[{\n            'v': 0,\n            'f': \"0\",\n        },\n\"21.04.2022\",\n{\n            'v': 26.0,\n            'f': \"26.0\",\n        },\n{\n            'v': 15.0,\n            'f': \"15.0\",\n        },\n{\n            'v': 28.0,\n            'f': \"28.0\",\n        },\n{\n            'v': 3.0,\n            'f': \"3.0\",\n        },\n{\n            'v': 9.0,\n            'f': \"9.0\",\n        }],\n [{\n            'v': 1,\n            'f': \"1\",\n        },\n\"06.04.2022\",\n{\n            'v': 23.0,\n            'f': \"23.0\",\n        },\n{\n            'v': 19.0,\n            'f': \"19.0\",\n        },\n{\n            'v': 25.0,\n            'f': \"25.0\",\n        },\n{\n            'v': 3.0,\n            'f': \"3.0\",\n        },\n{\n            'v': 10.0,\n            'f': \"10.0\",\n        }],\n [{\n            'v': 2,\n            'f': \"2\",\n        },\n\"10.03.2022\",\n{\n            'v': 24.0,\n            'f': \"24.0\",\n        },\n{\n            'v': 18.0,\n            'f': \"18.0\",\n        },\n{\n            'v': 27.0,\n            'f': \"27.0\",\n        },\n{\n            'v': 3.0,\n            'f': \"3.0\",\n        },\n{\n            'v': 9.0,\n            'f': \"9.0\",\n        }],\n [{\n            'v': 3,\n            'f': \"3\",\n        },\n\"20.01.2022\",\n{\n            'v': 23.0,\n            'f': \"23.0\",\n        },\n{\n            'v': 16.0,\n            'f': \"16.0\",\n        },\n{\n            'v': 26.0,\n            'f': \"26.0\",\n        },\n{\n            'v': 4.0,\n            'f': \"4.0\",\n        },\n{\n            'v': 11.0,\n            'f': \"11.0\",\n        }],\n [{\n            'v': 4,\n            'f': \"4\",\n        },\n\"12.10.2021\",\n{\n            'v': 20.0,\n            'f': \"20.0\",\n        },\n{\n            'v': 21.0,\n            'f': \"21.0\",\n        },\n{\n            'v': 24.0,\n            'f': \"24.0\",\n        },\n{\n            'v': 3.0,\n            'f': \"3.0\",\n        },\n{\n            'v': 9.0,\n            'f': \"9.0\",\n        }]],\n        columns: [[\"number\", \"index\"], [\"string\", \"date\"], [\"number\", \"CDU\"], [\"number\", \"SPD\"], [\"number\", \"GR\\u00dcNE\"], [\"number\", \"LINKE\"], [\"number\", \"AfD\"]],\n        columnOptions: [{\"width\": \"1px\", \"className\": \"index_column\"}],\n        rowsPerPage: 25,\n        helpUrl: \"https://colab.research.google.com/notebooks/data_table.ipynb\",\n        suppressOutputScrolling: true,\n        minimumWidth: undefined,\n      });\n    "
          },
          "metadata": {},
          "execution_count": 59
        }
      ]
    },
    {
      "cell_type": "code",
      "source": [
        "federal_elections_germany_survey_df_mod1['date']=pd.to_datetime(federal_elections_germany_survey_df_mod1['date'],format='%d.%m.%Y')\n",
        "federal_elections_germany_survey_df_mod1['year']=pd.DatetimeIndex(federal_elections_germany_survey_df_mod1['date']).year\n",
        "federal_elections_germany_survey_df_mod1['month']=pd.DatetimeIndex(federal_elections_germany_survey_df_mod1['date']).month"
      ],
      "metadata": {
        "colab": {
          "base_uri": "https://localhost:8080/"
        },
        "id": "BTzDojwWWnra",
        "outputId": "575c3cc4-b914-468b-bfe4-c10a73fe1ce2"
      },
      "execution_count": null,
      "outputs": [
        {
          "output_type": "stream",
          "name": "stderr",
          "text": [
            "/usr/local/lib/python3.7/dist-packages/ipykernel_launcher.py:1: SettingWithCopyWarning: \n",
            "A value is trying to be set on a copy of a slice from a DataFrame.\n",
            "Try using .loc[row_indexer,col_indexer] = value instead\n",
            "\n",
            "See the caveats in the documentation: https://pandas.pydata.org/pandas-docs/stable/user_guide/indexing.html#returning-a-view-versus-a-copy\n",
            "  \"\"\"Entry point for launching an IPython kernel.\n",
            "/usr/local/lib/python3.7/dist-packages/ipykernel_launcher.py:2: SettingWithCopyWarning: \n",
            "A value is trying to be set on a copy of a slice from a DataFrame.\n",
            "Try using .loc[row_indexer,col_indexer] = value instead\n",
            "\n",
            "See the caveats in the documentation: https://pandas.pydata.org/pandas-docs/stable/user_guide/indexing.html#returning-a-view-versus-a-copy\n",
            "  \n",
            "/usr/local/lib/python3.7/dist-packages/ipykernel_launcher.py:3: SettingWithCopyWarning: \n",
            "A value is trying to be set on a copy of a slice from a DataFrame.\n",
            "Try using .loc[row_indexer,col_indexer] = value instead\n",
            "\n",
            "See the caveats in the documentation: https://pandas.pydata.org/pandas-docs/stable/user_guide/indexing.html#returning-a-view-versus-a-copy\n",
            "  This is separate from the ipykernel package so we can avoid doing imports until\n"
          ]
        }
      ]
    },
    {
      "cell_type": "code",
      "source": [
        "federal_elections_germany_survey_df_mod1.info()"
      ],
      "metadata": {
        "colab": {
          "base_uri": "https://localhost:8080/"
        },
        "id": "M99GIyRxYUnr",
        "outputId": "fabfcd0f-7ebd-4bb1-ff59-acbcf30f02b2"
      },
      "execution_count": null,
      "outputs": [
        {
          "output_type": "stream",
          "name": "stdout",
          "text": [
            "<class 'pandas.core.frame.DataFrame'>\n",
            "RangeIndex: 760 entries, 0 to 759\n",
            "Data columns (total 8 columns):\n",
            " #   Column  Non-Null Count  Dtype         \n",
            "---  ------  --------------  -----         \n",
            " 0   date    760 non-null    datetime64[ns]\n",
            " 1   CDU     680 non-null    float64       \n",
            " 2   SPD     760 non-null    float64       \n",
            " 3   GRÜNE   760 non-null    float64       \n",
            " 4   LINKE   747 non-null    float64       \n",
            " 5   AfD     691 non-null    float64       \n",
            " 6   year    760 non-null    int64         \n",
            " 7   month   760 non-null    int64         \n",
            "dtypes: datetime64[ns](1), float64(5), int64(2)\n",
            "memory usage: 47.6 KB\n"
          ]
        }
      ]
    },
    {
      "cell_type": "code",
      "source": [
        "# Focusing only on CDU party\n",
        "\n",
        "plt.scatter(x=federal_elections_germany_survey_df_mod1[\"year\"]\n",
        "            , y=federal_elections_germany_survey_df_mod1[\"CDU\"])\n",
        "plt.show()"
      ],
      "metadata": {
        "colab": {
          "base_uri": "https://localhost:8080/",
          "height": 265
        },
        "id": "yB6mNUsNkdIp",
        "outputId": "204ccd79-0a13-4ea7-a55e-57341ff3974d"
      },
      "execution_count": null,
      "outputs": [
        {
          "output_type": "display_data",
          "data": {
            "text/plain": [
              "<Figure size 432x288 with 1 Axes>"
            ],
            "image/png": "[encoded data removed]"
          },
          "metadata": {
            "needs_background": "light"
          }
        }
      ]
    },
    {
      "cell_type": "code",
      "source": [
        ""
      ],
      "metadata": {
        "id": "vYHgK7yklq0F"
      },
      "execution_count": null,
      "outputs": []
    }
  ]
}